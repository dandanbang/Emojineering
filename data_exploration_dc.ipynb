{
 "cells": [
  {
   "cell_type": "markdown",
   "metadata": {},
   "source": [
    "#Load Library "
   ]
  },
  {
   "cell_type": "code",
   "execution_count": 1,
   "metadata": {
    "collapsed": true
   },
   "outputs": [
    {
     "name": "stdout",
     "output_type": "stream",
     "text": [
      "293672 handles replaced\n",
      "187643 urls replaced\n",
      ":-*[Oo]    ->     😮 replaced    295 times\n",
      ":-*\\*      ->     💋 replaced    238 times\n",
      "</3        ->     💔 replaced      0 times\n",
      ":-*\\)|\\(:  ->     😃 replaced  12565 times\n",
      "D:         ->     😧 replaced    165 times\n",
      "<3         ->     ❤ replaced      0 times\n",
      ";-*\\)      ->     😉 replaced   2689 times\n",
      ":-*\\(|\\):  ->     😞 replaced   4551 times\n",
      "8\\)        ->     😎 replaced     81 times\n",
      ":-*>       ->     😆 replaced      0 times\n",
      ":-*[PpbB]  ->     😛 replaced    960 times\n",
      "=-*\\)      ->     😀 replaced    174 times\n",
      ":-*\\|      ->     😐 replaced     70 times\n",
      ":'\\(       ->     😢 replaced    262 times\n",
      ":-*[/\\\\]   ->     😕 replaced   1571 times\n",
      ";-*[PpbB]  ->     😜 replaced    263 times\n",
      ">:-*\\(     ->     😠 replaced      0 times\n",
      ":o\\)       ->     🐵 replaced      0 times\n",
      ":-*D       ->     😀 replaced   1218 times\n",
      "ALL replaced 25102 times\n",
      "834937 retweets processed\n"
     ]
    },
    {
     "data": {
      "text/html": [
       "<div>\n",
       "<table border=\"1\" class=\"dataframe\">\n",
       "  <thead>\n",
       "    <tr style=\"text-align: right;\">\n",
       "      <th></th>\n",
       "      <th>text</th>\n",
       "      <th>id</th>\n",
       "      <th>retweet</th>\n",
       "    </tr>\n",
       "  </thead>\n",
       "  <tbody>\n",
       "    <tr>\n",
       "      <th>45</th>\n",
       "      <td>hdl  😂</td>\n",
       "      <td>380346331442597888</td>\n",
       "      <td>“ hdl : #IfMyMomHadATwitter my tweets would be like  url ”</td>\n",
       "    </tr>\n",
       "    <tr>\n",
       "      <th>64</th>\n",
       "      <td></td>\n",
       "      <td>381430503775014912</td>\n",
       "      <td>“ hdl : You won't get in shape overnight. Give it time and work hard, you'll get there eventually.”</td>\n",
       "    </tr>\n",
       "    <tr>\n",
       "      <th>70</th>\n",
       "      <td>aka my life heh</td>\n",
       "      <td>379387683908235264</td>\n",
       "      <td>“ hdl : here's to the kids who hate this  url ”</td>\n",
       "    </tr>\n",
       "    <tr>\n",
       "      <th>81</th>\n",
       "      <td></td>\n",
       "      <td>380351431359746048</td>\n",
       "      <td>“ hdl : We've seen 12 of the hottest years on record since 1998. It's time to #ActOnClimate change:  url ”</td>\n",
       "    </tr>\n",
       "    <tr>\n",
       "      <th>86</th>\n",
       "      <td>anyone down. Hoping to get a game going before it gets dark</td>\n",
       "      <td>384424563578114049</td>\n",
       "      <td>“ hdl : Let's play football”</td>\n",
       "    </tr>\n",
       "    <tr>\n",
       "      <th>113</th>\n",
       "      <td></td>\n",
       "      <td>384456871475560448</td>\n",
       "      <td>\" hdl : If your man respects you he'll fuck some hoe &amp;amp; never see her again. If he doesn't he'll fuck your best friend in ur bed\"</td>\n",
       "    </tr>\n",
       "    <tr>\n",
       "      <th>116</th>\n",
       "      <td></td>\n",
       "      <td>381958404043862017</td>\n",
       "      <td>“ hdl : I hate that you have to go on twitter to tweet now”</td>\n",
       "    </tr>\n",
       "    <tr>\n",
       "      <th>133</th>\n",
       "      <td>best news ever!</td>\n",
       "      <td>382528492597821441</td>\n",
       "      <td>“ hdl : There's only 14 more Saturdays until Christmas 😍🎅”</td>\n",
       "    </tr>\n",
       "    <tr>\n",
       "      <th>139</th>\n",
       "      <td>YES LOL 😃</td>\n",
       "      <td>386002109495119872</td>\n",
       "      <td>\" hdl :  hdl  bitch duce  buuuut you'll bring A.R some candy?! OH\"</td>\n",
       "    </tr>\n",
       "    <tr>\n",
       "      <th>184</th>\n",
       "      <td>😱😭😂😂</td>\n",
       "      <td>379306786018168832</td>\n",
       "      <td>“ hdl :  url ”</td>\n",
       "    </tr>\n",
       "    <tr>\n",
       "      <th>217</th>\n",
       "      <td></td>\n",
       "      <td>385448321344479232</td>\n",
       "      <td>\" hdl : You will turn back to me &amp;amp; ask for help, &amp;amp; I will answer your prayers - Jer 29:12\"</td>\n",
       "    </tr>\n",
       "    <tr>\n",
       "      <th>241</th>\n",
       "      <td></td>\n",
       "      <td>385931833809969152</td>\n",
       "      <td>\" hdl : Cutting people off is becoming a habit for me. ✂\"</td>\n",
       "    </tr>\n",
       "    <tr>\n",
       "      <th>254</th>\n",
       "      <td></td>\n",
       "      <td>381940863061880832</td>\n",
       "      <td>“ hdl : No bobcats are RT  hdl : no steelers r “ hdl : marlins gonna win the World Series this year””</td>\n",
       "    </tr>\n",
       "    <tr>\n",
       "      <th>267</th>\n",
       "      <td>Happy Birthday to my nephew, Hunter;</td>\n",
       "      <td>383754145557012480</td>\n",
       "      <td>“ hdl : We have arrived  url ”</td>\n",
       "    </tr>\n",
       "    <tr>\n",
       "      <th>311</th>\n",
       "      <td></td>\n",
       "      <td>379478389649731585</td>\n",
       "      <td>“ hdl : Wonder why we stopped talking”</td>\n",
       "    </tr>\n",
       "    <tr>\n",
       "      <th>346</th>\n",
       "      <td>ily thats why bae</td>\n",
       "      <td>385575465320054784</td>\n",
       "      <td>“ hdl : “ hdl : touching raw meat is foul” bae you're using my word❤ ️”</td>\n",
       "    </tr>\n",
       "    <tr>\n",
       "      <th>362</th>\n",
       "      <td>Lmao</td>\n",
       "      <td>382375475923779584</td>\n",
       "      <td>“ hdl : i got the BEST head today i swear toes curled , eyes rolled behind my head , it was just maaaaaan #speechless .”</td>\n",
       "    </tr>\n",
       "    <tr>\n",
       "      <th>379</th>\n",
       "      <td></td>\n",
       "      <td>378558344660660225</td>\n",
       "      <td>“ hdl : #Libra love to spend money on themselves.”</td>\n",
       "    </tr>\n",
       "    <tr>\n",
       "      <th>400</th>\n",
       "      <td>\"yet it is our lasts that seem to impact us the most...\"</td>\n",
       "      <td>380420570644369408</td>\n",
       "      <td>“ hdl : The Last Time  url ”</td>\n",
       "    </tr>\n",
       "    <tr>\n",
       "      <th>408</th>\n",
       "      <td>i like this lol</td>\n",
       "      <td>383051709599084545</td>\n",
       "      <td>\" hdl : If she's willing to rebound for you or put up shots with you at night #shesakeeper\"</td>\n",
       "    </tr>\n",
       "    <tr>\n",
       "      <th>442</th>\n",
       "      <td></td>\n",
       "      <td>381910763796840449</td>\n",
       "      <td>“ hdl : #PISCES-really chill, calm, with a lot on my mind...i quote myself, c.r.e.a.m except me..”</td>\n",
       "    </tr>\n",
       "    <tr>\n",
       "      <th>452</th>\n",
       "      <td>Thanks for the guitar-pick😍👏  url</td>\n",
       "      <td>381824588499263488</td>\n",
       "      <td>“ hdl : Bay Area, thanks for rocking with me from the Bay to the breakers!!!! -KU”</td>\n",
       "    </tr>\n",
       "    <tr>\n",
       "      <th>476</th>\n",
       "      <td></td>\n",
       "      <td>384961609216438275</td>\n",
       "      <td>“ hdl : some people have the ugliest personalities its sad”</td>\n",
       "    </tr>\n",
       "    <tr>\n",
       "      <th>494</th>\n",
       "      <td>Nunca mejor dicho</td>\n",
       "      <td>383861096873881600</td>\n",
       "      <td>“ hdl : EL CORTE INGLES HACE LO QUE LES SALE DE LAS NARICES.”</td>\n",
       "    </tr>\n",
       "    <tr>\n",
       "      <th>499</th>\n",
       "      <td></td>\n",
       "      <td>381890622824513536</td>\n",
       "      <td>“ hdl : me.  url ”</td>\n",
       "    </tr>\n",
       "    <tr>\n",
       "      <th>500</th>\n",
       "      <td></td>\n",
       "      <td>381265426035924992</td>\n",
       "      <td>“ hdl : there is a thin line between being sassy and being an asshole and i cross it everyday”</td>\n",
       "    </tr>\n",
       "    <tr>\n",
       "      <th>502</th>\n",
       "      <td>this happens to me way too often</td>\n",
       "      <td>384548331394830336</td>\n",
       "      <td>“ hdl : My printer would be not working right when I need it”</td>\n",
       "    </tr>\n",
       "    <tr>\n",
       "      <th>504</th>\n",
       "      <td>yee yee!!</td>\n",
       "      <td>378231002172108800</td>\n",
       "      <td>\" hdl : #Raiders vs #Jaguars is a sell out and will be televised locally\"</td>\n",
       "    </tr>\n",
       "    <tr>\n",
       "      <th>541</th>\n",
       "      <td>I need one</td>\n",
       "      <td>383830449664978944</td>\n",
       "      <td>“ hdl : About 90-95% of phones sold in Japan are actually waterproof because teens enjoy using their phones in the shower.”</td>\n",
       "    </tr>\n",
       "    <tr>\n",
       "      <th>566</th>\n",
       "      <td>FINNNALYY</td>\n",
       "      <td>384712381932138496</td>\n",
       "      <td>\" hdl : Guess who lives in Vallejo now?!\"</td>\n",
       "    </tr>\n",
       "    <tr>\n",
       "      <th>...</th>\n",
       "      <td>...</td>\n",
       "      <td>...</td>\n",
       "      <td>...</td>\n",
       "    </tr>\n",
       "    <tr>\n",
       "      <th>799419</th>\n",
       "      <td>#NoBecauseNoFriends</td>\n",
       "      <td>379091363557437441</td>\n",
       "      <td>“ hdl : Can I wake up to the cutest good moring message tomorrow? Please.”</td>\n",
       "    </tr>\n",
       "    <tr>\n",
       "      <th>799429</th>\n",
       "      <td>&amp;amp; ⚽ players for me💕</td>\n",
       "      <td>381602697276706816</td>\n",
       "      <td>“ hdl : 🏈🏀⚾ players. 💕☺”</td>\n",
       "    </tr>\n",
       "    <tr>\n",
       "      <th>799457</th>\n",
       "      <td></td>\n",
       "      <td>384788601927503872</td>\n",
       "      <td>“ hdl : *listens to Dark Horse until the Juicy J part*”</td>\n",
       "    </tr>\n",
       "    <tr>\n",
       "      <th>799479</th>\n",
       "      <td></td>\n",
       "      <td>384532337339273216</td>\n",
       "      <td>“ hdl : I don't care how chill of a girlfriend you are at the beginning. Once you fall in love you become a psycho.”</td>\n",
       "    </tr>\n",
       "    <tr>\n",
       "      <th>799505</th>\n",
       "      <td>Some retarded Chicago niggas</td>\n",
       "      <td>383427605287817218</td>\n",
       "      <td>“ hdl :  hdl  hahaha who the fuck came up with that?”</td>\n",
       "    </tr>\n",
       "    <tr>\n",
       "      <th>799510</th>\n",
       "      <td></td>\n",
       "      <td>385227237655453697</td>\n",
       "      <td>“ hdl : I hate when someone is selfish and has no consideration on how their actions affect you.”</td>\n",
       "    </tr>\n",
       "    <tr>\n",
       "      <th>799564</th>\n",
       "      <td>omg favs</td>\n",
       "      <td>378377987432775680</td>\n",
       "      <td>“ hdl : \"helloooo\"  url ”</td>\n",
       "    </tr>\n",
       "    <tr>\n",
       "      <th>799566</th>\n",
       "      <td>🙋🙋🙋</td>\n",
       "      <td>382380281430167552</td>\n",
       "      <td>“ hdl : Someone wear my jersey Friday #thethirst”</td>\n",
       "    </tr>\n",
       "    <tr>\n",
       "      <th>799578</th>\n",
       "      <td>NOBODY! ❤️💛</td>\n",
       "      <td>383591112297811968</td>\n",
       "      <td>“ hdl : #49ers beat the Rams, 35-11. So it bears asking: Who's got it better than us?”</td>\n",
       "    </tr>\n",
       "    <tr>\n",
       "      <th>799638</th>\n",
       "      <td>OMG!!!! KICK BACK!!! Lol</td>\n",
       "      <td>380219972003188736</td>\n",
       "      <td>“ hdl :  hdl  your sister's IG post 😍”</td>\n",
       "    </tr>\n",
       "    <tr>\n",
       "      <th>799639</th>\n",
       "      <td>IM SAYIN they like the replacements from last yr lol</td>\n",
       "      <td>379432666950426624</td>\n",
       "      <td>“ hdl : Weak ass refs”</td>\n",
       "    </tr>\n",
       "    <tr>\n",
       "      <th>799664</th>\n",
       "      <td>like hellA much blaWd.. Borderline havin these niggaz jizzin' one time  🙈🙉🙊</td>\n",
       "      <td>381275745038774272</td>\n",
       "      <td>“ hdl :  hdl  cuhhhhhhhhhhhzzzzz”</td>\n",
       "    </tr>\n",
       "    <tr>\n",
       "      <th>799680</th>\n",
       "      <td>hdl</td>\n",
       "      <td>384888972159115265</td>\n",
       "      <td>“ hdl :  url ”</td>\n",
       "    </tr>\n",
       "    <tr>\n",
       "      <th>799741</th>\n",
       "      <td>💃👍😄😻</td>\n",
       "      <td>379694413515354112</td>\n",
       "      <td>“ hdl : I'm really happy right now ? this is scary”</td>\n",
       "    </tr>\n",
       "    <tr>\n",
       "      <th>799749</th>\n",
       "      <td>RFT</td>\n",
       "      <td>379772724043730944</td>\n",
       "      <td>“ hdl : I wish I could meet Si from duck dynasty”</td>\n",
       "    </tr>\n",
       "    <tr>\n",
       "      <th>799751</th>\n",
       "      <td>2 niggas in 3 weeks is doing too much .</td>\n",
       "      <td>381837396838330368</td>\n",
       "      <td>“ hdl : I don't respect bitches who fuck 2 niggas in 24 hours”</td>\n",
       "    </tr>\n",
       "    <tr>\n",
       "      <th>799763</th>\n",
       "      <td>I did! Love you! 💕</td>\n",
       "      <td>381797097101471748</td>\n",
       "      <td>“ hdl : Thank you for such a rad day-night! Hope you had as much fun as I did 💜// hdl ”</td>\n",
       "    </tr>\n",
       "    <tr>\n",
       "      <th>799769</th>\n",
       "      <td>lmao</td>\n",
       "      <td>386179965378514944</td>\n",
       "      <td>“ hdl : Shit they are playing hardball now  url ”</td>\n",
       "    </tr>\n",
       "    <tr>\n",
       "      <th>799774</th>\n",
       "      <td></td>\n",
       "      <td>379617709844992000</td>\n",
       "      <td>“ hdl : cristal has pail ass feet!”</td>\n",
       "    </tr>\n",
       "    <tr>\n",
       "      <th>799787</th>\n",
       "      <td>Why teams stay in SF!</td>\n",
       "      <td>378898689374162944</td>\n",
       "      <td>“ hdl : Welcome to Oakland! Ohio St Greeted by Gunfight Outside Hotel in Oakland  url ”</td>\n",
       "    </tr>\n",
       "    <tr>\n",
       "      <th>799796</th>\n",
       "      <td></td>\n",
       "      <td>385246910421798912</td>\n",
       "      <td>“ hdl : Sometimes. You just need a break from everyone. Just to really think and get yourself together.”</td>\n",
       "    </tr>\n",
       "    <tr>\n",
       "      <th>799797</th>\n",
       "      <td>ctfu. 😂 Got cha 😒</td>\n",
       "      <td>383041379175124992</td>\n",
       "      <td>“ hdl : hahahah chiiiiiiill.“ hdl : “ hdl : I'm really in love with devron 😭😍”””</td>\n",
       "    </tr>\n",
       "    <tr>\n",
       "      <th>799799</th>\n",
       "      <td></td>\n",
       "      <td>381486432721727488</td>\n",
       "      <td>\" hdl : Couples who shower together tend to engage in more sexual activity, and be closer as a couple.\"</td>\n",
       "    </tr>\n",
       "    <tr>\n",
       "      <th>799802</th>\n",
       "      <td>yess! That's what I'm saying</td>\n",
       "      <td>381663137134436352</td>\n",
       "      <td>“ hdl : I want it to rain again tmrw ❤️☔️”</td>\n",
       "    </tr>\n",
       "    <tr>\n",
       "      <th>799809</th>\n",
       "      <td>🙌</td>\n",
       "      <td>378014216503824384</td>\n",
       "      <td>“ hdl : Cold War Kids kill it”</td>\n",
       "    </tr>\n",
       "    <tr>\n",
       "      <th>799821</th>\n",
       "      <td></td>\n",
       "      <td>381921656093949952</td>\n",
       "      <td>“ hdl : I'm really hoping my Raiders do work tomorrow win or lose”</td>\n",
       "    </tr>\n",
       "    <tr>\n",
       "      <th>799854</th>\n",
       "      <td>perfection</td>\n",
       "      <td>383297489404571648</td>\n",
       "      <td>“ hdl : 💕  url   url ”</td>\n",
       "    </tr>\n",
       "    <tr>\n",
       "      <th>799914</th>\n",
       "      <td>whoa Alan chill</td>\n",
       "      <td>382358137195360256</td>\n",
       "      <td>“ hdl :  hdl  I like dick”</td>\n",
       "    </tr>\n",
       "    <tr>\n",
       "      <th>799927</th>\n",
       "      <td>👏😌👌</td>\n",
       "      <td>379093744022085632</td>\n",
       "      <td>“ hdl : Garcia better win!!!!”</td>\n",
       "    </tr>\n",
       "    <tr>\n",
       "      <th>799971</th>\n",
       "      <td></td>\n",
       "      <td>380103243314913280</td>\n",
       "      <td>“ hdl : Gpa going into this week 3.8, gta 5 comes out* gpa is 2.0”</td>\n",
       "    </tr>\n",
       "  </tbody>\n",
       "</table>\n",
       "<p>34937 rows × 3 columns</p>\n",
       "</div>"
      ],
      "text/plain": [
       "                                                                                 text  \\\n",
       "45                                                                             hdl  😂   \n",
       "64                                                                                      \n",
       "70                                                                    aka my life heh   \n",
       "81                                                                                      \n",
       "86                        anyone down. Hoping to get a game going before it gets dark   \n",
       "113                                                                                     \n",
       "116                                                                                     \n",
       "133                                                                   best news ever!   \n",
       "139                                                                         YES LOL 😃   \n",
       "184                                                                              😱😭😂😂   \n",
       "217                                                                                     \n",
       "241                                                                                     \n",
       "254                                                                                     \n",
       "267                                           Happy Birthday to my nephew, Hunter;      \n",
       "311                                                                                     \n",
       "346                                                                 ily thats why bae   \n",
       "362                                                                              Lmao   \n",
       "379                                                                                     \n",
       "400                          \"yet it is our lasts that seem to impact us the most...\"   \n",
       "408                                                                   i like this lol   \n",
       "442                                                                                     \n",
       "452                                                Thanks for the guitar-pick😍👏  url    \n",
       "476                                                                                     \n",
       "494                                                                 Nunca mejor dicho   \n",
       "499                                                                                     \n",
       "500                                                                                     \n",
       "502                                                  this happens to me way too often   \n",
       "504                                                                         yee yee!!   \n",
       "541                                                                        I need one   \n",
       "566                                                                         FINNNALYY   \n",
       "...                                                                               ...   \n",
       "799419                                                            #NoBecauseNoFriends   \n",
       "799429                                                        &amp; ⚽ players for me💕   \n",
       "799457                                                                                  \n",
       "799479                                                                                  \n",
       "799505                                                   Some retarded Chicago niggas   \n",
       "799510                                                                                  \n",
       "799564                                                                       omg favs   \n",
       "799566                                                                            🙋🙋🙋   \n",
       "799578                                                                    NOBODY! ❤️💛   \n",
       "799638                                                       OMG!!!! KICK BACK!!! Lol   \n",
       "799639                           IM SAYIN they like the replacements from last yr lol   \n",
       "799664    like hellA much blaWd.. Borderline havin these niggaz jizzin' one time  🙈🙉🙊   \n",
       "799680                                                                           hdl    \n",
       "799741                                                                           💃👍😄😻   \n",
       "799749                                                                            RFT   \n",
       "799751                                        2 niggas in 3 weeks is doing too much .   \n",
       "799763                                                             I did! Love you! 💕   \n",
       "799769                                                                           lmao   \n",
       "799774                                                                                  \n",
       "799787                                                        Why teams stay in SF!     \n",
       "799796                                                                                  \n",
       "799797                                                              ctfu. 😂 Got cha 😒   \n",
       "799799                                                                                  \n",
       "799802                                                   yess! That's what I'm saying   \n",
       "799809                                                                              🙌   \n",
       "799821                                                                                  \n",
       "799854                                                                     perfection   \n",
       "799914                                                                whoa Alan chill   \n",
       "799927                                                                            👏😌👌   \n",
       "799971                                                                                  \n",
       "\n",
       "                        id  \\\n",
       "45      380346331442597888   \n",
       "64      381430503775014912   \n",
       "70      379387683908235264   \n",
       "81      380351431359746048   \n",
       "86      384424563578114049   \n",
       "113     384456871475560448   \n",
       "116     381958404043862017   \n",
       "133     382528492597821441   \n",
       "139     386002109495119872   \n",
       "184     379306786018168832   \n",
       "217     385448321344479232   \n",
       "241     385931833809969152   \n",
       "254     381940863061880832   \n",
       "267     383754145557012480   \n",
       "311     379478389649731585   \n",
       "346     385575465320054784   \n",
       "362     382375475923779584   \n",
       "379     378558344660660225   \n",
       "400     380420570644369408   \n",
       "408     383051709599084545   \n",
       "442     381910763796840449   \n",
       "452     381824588499263488   \n",
       "476     384961609216438275   \n",
       "494     383861096873881600   \n",
       "499     381890622824513536   \n",
       "500     381265426035924992   \n",
       "502     384548331394830336   \n",
       "504     378231002172108800   \n",
       "541     383830449664978944   \n",
       "566     384712381932138496   \n",
       "...                    ...   \n",
       "799419  379091363557437441   \n",
       "799429  381602697276706816   \n",
       "799457  384788601927503872   \n",
       "799479  384532337339273216   \n",
       "799505  383427605287817218   \n",
       "799510  385227237655453697   \n",
       "799564  378377987432775680   \n",
       "799566  382380281430167552   \n",
       "799578  383591112297811968   \n",
       "799638  380219972003188736   \n",
       "799639  379432666950426624   \n",
       "799664  381275745038774272   \n",
       "799680  384888972159115265   \n",
       "799741  379694413515354112   \n",
       "799749  379772724043730944   \n",
       "799751  381837396838330368   \n",
       "799763  381797097101471748   \n",
       "799769  386179965378514944   \n",
       "799774  379617709844992000   \n",
       "799787  378898689374162944   \n",
       "799796  385246910421798912   \n",
       "799797  383041379175124992   \n",
       "799799  381486432721727488   \n",
       "799802  381663137134436352   \n",
       "799809  378014216503824384   \n",
       "799821  381921656093949952   \n",
       "799854  383297489404571648   \n",
       "799914  382358137195360256   \n",
       "799927  379093744022085632   \n",
       "799971  380103243314913280   \n",
       "\n",
       "                                                                                                                                     retweet  \n",
       "45                                                                                “ hdl : #IfMyMomHadATwitter my tweets would be like  url ”  \n",
       "64                                       “ hdl : You won't get in shape overnight. Give it time and work hard, you'll get there eventually.”  \n",
       "70                                                                                           “ hdl : here's to the kids who hate this  url ”  \n",
       "81                                “ hdl : We've seen 12 of the hottest years on record since 1998. It's time to #ActOnClimate change:  url ”  \n",
       "86                                                                                                              “ hdl : Let's play football”  \n",
       "113     \" hdl : If your man respects you he'll fuck some hoe &amp; never see her again. If he doesn't he'll fuck your best friend in ur bed\"  \n",
       "116                                                                              “ hdl : I hate that you have to go on twitter to tweet now”  \n",
       "133                                                                               “ hdl : There's only 14 more Saturdays until Christmas 😍🎅”  \n",
       "139                                                                      \" hdl :  hdl  bitch duce  buuuut you'll bring A.R some candy?! OH\"  \n",
       "184                                                                                                                           “ hdl :  url ”  \n",
       "217                                       \" hdl : You will turn back to me &amp; ask for help, &amp; I will answer your prayers - Jer 29:12\"  \n",
       "241                                                                                \" hdl : Cutting people off is becoming a habit for me. ✂\"  \n",
       "254                                    “ hdl : No bobcats are RT  hdl : no steelers r “ hdl : marlins gonna win the World Series this year””  \n",
       "267                                                                                                           “ hdl : We have arrived  url ”  \n",
       "311                                                                                                   “ hdl : Wonder why we stopped talking”  \n",
       "346                                                                  “ hdl : “ hdl : touching raw meat is foul” bae you're using my word❤ ️”  \n",
       "362                 “ hdl : i got the BEST head today i swear toes curled , eyes rolled behind my head , it was just maaaaaan #speechless .”  \n",
       "379                                                                                       “ hdl : #Libra love to spend money on themselves.”  \n",
       "400                                                                                                             “ hdl : The Last Time  url ”  \n",
       "408                                              \" hdl : If she's willing to rebound for you or put up shots with you at night #shesakeeper\"  \n",
       "442                                       “ hdl : #PISCES-really chill, calm, with a lot on my mind...i quote myself, c.r.e.a.m except me..”  \n",
       "452                                                       “ hdl : Bay Area, thanks for rocking with me from the Bay to the breakers!!!! -KU”  \n",
       "476                                                                              “ hdl : some people have the ugliest personalities its sad”  \n",
       "494                                                                            “ hdl : EL CORTE INGLES HACE LO QUE LES SALE DE LAS NARICES.”  \n",
       "499                                                                                                                       “ hdl : me.  url ”  \n",
       "500                                           “ hdl : there is a thin line between being sassy and being an asshole and i cross it everyday”  \n",
       "502                                                                            “ hdl : My printer would be not working right when I need it”  \n",
       "504                                                                \" hdl : #Raiders vs #Jaguars is a sell out and will be televised locally\"  \n",
       "541              “ hdl : About 90-95% of phones sold in Japan are actually waterproof because teens enjoy using their phones in the shower.”  \n",
       "566                                                                                                \" hdl : Guess who lives in Vallejo now?!\"  \n",
       "...                                                                                                                                      ...  \n",
       "799419                                                            “ hdl : Can I wake up to the cutest good moring message tomorrow? Please.”  \n",
       "799429                                                                                                              “ hdl : 🏈🏀⚾ players. 💕☺”  \n",
       "799457                                                                               “ hdl : *listens to Dark Horse until the Juicy J part*”  \n",
       "799479                  “ hdl : I don't care how chill of a girlfriend you are at the beginning. Once you fall in love you become a psycho.”  \n",
       "799505                                                                                 “ hdl :  hdl  hahaha who the fuck came up with that?”  \n",
       "799510                                     “ hdl : I hate when someone is selfish and has no consideration on how their actions affect you.”  \n",
       "799564                                                                                                             “ hdl : \"helloooo\"  url ”  \n",
       "799566                                                                                     “ hdl : Someone wear my jersey Friday #thethirst”  \n",
       "799578                                                “ hdl : #49ers beat the Rams, 35-11. So it bears asking: Who's got it better than us?”  \n",
       "799638                                                                                                “ hdl :  hdl  your sister's IG post 😍”  \n",
       "799639                                                                                                                “ hdl : Weak ass refs”  \n",
       "799664                                                                                                     “ hdl :  hdl  cuhhhhhhhhhhhzzzzz”  \n",
       "799680                                                                                                                        “ hdl :  url ”  \n",
       "799741                                                                                   “ hdl : I'm really happy right now ? this is scary”  \n",
       "799749                                                                                     “ hdl : I wish I could meet Si from duck dynasty”  \n",
       "799751                                                                        “ hdl : I don't respect bitches who fuck 2 niggas in 24 hours”  \n",
       "799763                                               “ hdl : Thank you for such a rad day-night! Hope you had as much fun as I did 💜// hdl ”  \n",
       "799769                                                                                     “ hdl : Shit they are playing hardball now  url ”  \n",
       "799774                                                                                                   “ hdl : cristal has pail ass feet!”  \n",
       "799787                                               “ hdl : Welcome to Oakland! Ohio St Greeted by Gunfight Outside Hotel in Oakland  url ”  \n",
       "799796                              “ hdl : Sometimes. You just need a break from everyone. Just to really think and get yourself together.”  \n",
       "799797                                                      “ hdl : hahahah chiiiiiiill.“ hdl : “ hdl : I'm really in love with devron 😭😍”””  \n",
       "799799                               \" hdl : Couples who shower together tend to engage in more sexual activity, and be closer as a couple.\"  \n",
       "799802                                                                                            “ hdl : I want it to rain again tmrw ❤️☔️”  \n",
       "799809                                                                                                        “ hdl : Cold War Kids kill it”  \n",
       "799821                                                                    “ hdl : I'm really hoping my Raiders do work tomorrow win or lose”  \n",
       "799854                                                                                                                “ hdl : 💕  url   url ”  \n",
       "799914                                                                                                            “ hdl :  hdl  I like dick”  \n",
       "799927                                                                                                        “ hdl : Garcia better win!!!!”  \n",
       "799971                                                                    “ hdl : Gpa going into this week 3.8, gta 5 comes out* gpa is 2.0”  \n",
       "\n",
       "[34937 rows x 3 columns]"
      ]
     },
     "metadata": {},
     "output_type": "display_data"
    },
    {
     "ename": "ImportError",
     "evalue": "cannot import name Tokenizer",
     "output_type": "error",
     "traceback": [
      "\u001b[0;31m---------------------------------------------------------------------------\u001b[0m",
      "\u001b[0;31mImportError\u001b[0m                               Traceback (most recent call last)",
      "\u001b[0;32m<ipython-input-1-0b43a7bdb52c>\u001b[0m in \u001b[0;36m<module>\u001b[0;34m()\u001b[0m\n\u001b[1;32m     15\u001b[0m \u001b[0;32mimport\u001b[0m \u001b[0mdata_cleaning_hr\u001b[0m \u001b[0;32mas\u001b[0m \u001b[0mtc\u001b[0m\u001b[0;34m\u001b[0m\u001b[0m\n\u001b[1;32m     16\u001b[0m \u001b[0;34m\u001b[0m\u001b[0m\n\u001b[0;32m---> 17\u001b[0;31m \u001b[0;32mfrom\u001b[0m \u001b[0mhappyfuntokenizing\u001b[0m \u001b[0;32mimport\u001b[0m \u001b[0mTokenizer\u001b[0m\u001b[0;34m\u001b[0m\u001b[0m\n\u001b[0m\u001b[1;32m     18\u001b[0m \u001b[0;32mimport\u001b[0m \u001b[0mstring\u001b[0m\u001b[0;34m\u001b[0m\u001b[0m\n",
      "\u001b[0;31mImportError\u001b[0m: cannot import name Tokenizer"
     ]
    }
   ],
   "source": [
    "## import all necessary packages\n",
    "import json\n",
    "import re\n",
    "import pandas as pd\n",
    "\n",
    "import nltk, string\n",
    "from nltk.collocations import *\n",
    "\n",
    "import numpy as np\n",
    "import matplotlib.pyplot as plt\n",
    "\n",
    "from pandas import *\n",
    "\n",
    "from collections import defaultdict\n",
    "\n",
    "import data_cleaning_hr as tc\n",
    "\n",
    "import string\n",
    "import happyfuntokenizing"
   ]
  },
  {
   "cell_type": "markdown",
   "metadata": {},
   "source": [
    "#Load Data"
   ]
  },
  {
   "cell_type": "code",
   "execution_count": 20,
   "metadata": {
    "collapsed": false
   },
   "outputs": [],
   "source": [
    "with open('./data/tweets_1M.json','r') as f:\n",
    "    tweet_df = DataFrame(json.load(f))"
   ]
  },
  {
   "cell_type": "markdown",
   "metadata": {},
   "source": [
    "#Clean Data (Handle, URL, Emoticon Conversion)"
   ]
  },
  {
   "cell_type": "code",
   "execution_count": 21,
   "metadata": {
    "collapsed": true
   },
   "outputs": [
    {
     "name": "stdout",
     "output_type": "stream",
     "text": [
      "367031 handles replaced\n",
      "0 urls replaced\n",
      ":-*[Oo]    ->     😮 replaced    365 times\n",
      ":-*\\*      ->     💋 replaced    289 times\n",
      "</3        ->     💔 replaced      0 times\n",
      ":-*\\)|\\(:  ->     😃 replaced  15717 times\n",
      "D:         ->     😧 replaced    208 times\n",
      "<3         ->     ❤ replaced      0 times\n",
      ";-*\\)      ->     😉 replaced   3358 times\n",
      ":-*\\(|\\):  ->     😞 replaced   5702 times\n",
      "8\\)        ->     😎 replaced    108 times\n",
      ":-*>       ->     😆 replaced      0 times\n",
      ":-*[PpbB]  ->     😛 replaced   1165 times\n",
      "=-*\\)      ->     😀 replaced    207 times\n",
      ":-*\\|      ->     😐 replaced     92 times\n",
      ":'\\(       ->     😢 replaced    339 times\n",
      ":-*[/\\\\]   ->     😕 replaced   1960 times\n",
      ";-*[PpbB]  ->     😜 replaced    330 times\n",
      ">:-*\\(     ->     😠 replaced      0 times\n",
      ":o\\)       ->     🐵 replaced      0 times\n",
      ":-*D       ->     😀 replaced   1530 times\n",
      "ALL replaced 31370 times\n",
      "1043720 retweets processed\n"
     ]
    },
    {
     "data": {
      "text/html": [
       "<div>\n",
       "<table border=\"1\" class=\"dataframe\">\n",
       "  <thead>\n",
       "    <tr style=\"text-align: right;\">\n",
       "      <th></th>\n",
       "      <th>id</th>\n",
       "      <th>lat</th>\n",
       "      <th>lng</th>\n",
       "      <th>text</th>\n",
       "      <th>timeStamp</th>\n",
       "      <th>user_id</th>\n",
       "      <th>retweet</th>\n",
       "    </tr>\n",
       "  </thead>\n",
       "  <tbody>\n",
       "    <tr>\n",
       "      <th>0</th>\n",
       "      <td>377652254096228352</td>\n",
       "      <td>37.446100</td>\n",
       "      <td>-121.883557</td>\n",
       "      <td>hdl  hey checkout the website:  url</td>\n",
       "      <td>Wed Sep 11 04:38:08 +0000 2013</td>\n",
       "      <td>224874450</td>\n",
       "      <td>NaN</td>\n",
       "    </tr>\n",
       "    <tr>\n",
       "      <th>1</th>\n",
       "      <td>377652255346159616</td>\n",
       "      <td>34.087406</td>\n",
       "      <td>-117.462604</td>\n",
       "      <td>hdl  😪</td>\n",
       "      <td>Wed Sep 11 04:38:08 +0000 2013</td>\n",
       "      <td>312179473</td>\n",
       "      <td>NaN</td>\n",
       "    </tr>\n",
       "    <tr>\n",
       "      <th>2</th>\n",
       "      <td>377652262325456897</td>\n",
       "      <td>37.356131</td>\n",
       "      <td>-121.842867</td>\n",
       "      <td>i laugh a lot with that line</td>\n",
       "      <td>Wed Sep 11 04:38:10 +0000 2013</td>\n",
       "      <td>54351774</td>\n",
       "      <td>NaN</td>\n",
       "    </tr>\n",
       "    <tr>\n",
       "      <th>3</th>\n",
       "      <td>377652264682655744</td>\n",
       "      <td>37.364664</td>\n",
       "      <td>-122.009629</td>\n",
       "      <td>sons of anarchy is back on woop woop</td>\n",
       "      <td>Wed Sep 11 04:38:11 +0000 2013</td>\n",
       "      <td>343219606</td>\n",
       "      <td>NaN</td>\n",
       "    </tr>\n",
       "    <tr>\n",
       "      <th>4</th>\n",
       "      <td>377652271116722176</td>\n",
       "      <td>37.382600</td>\n",
       "      <td>-121.995000</td>\n",
       "      <td>Drinking a Fresh Squeezed IPA by  hdl  @ St. John's Bar &amp;amp; Grill —  url</td>\n",
       "      <td>Wed Sep 11 04:38:12 +0000 2013</td>\n",
       "      <td>1569395935</td>\n",
       "      <td>NaN</td>\n",
       "    </tr>\n",
       "  </tbody>\n",
       "</table>\n",
       "</div>"
      ],
      "text/plain": [
       "                   id        lat         lng  \\\n",
       "0  377652254096228352  37.446100 -121.883557   \n",
       "1  377652255346159616  34.087406 -117.462604   \n",
       "2  377652262325456897  37.356131 -121.842867   \n",
       "3  377652264682655744  37.364664 -122.009629   \n",
       "4  377652271116722176  37.382600 -121.995000   \n",
       "\n",
       "                                                                          text  \\\n",
       "0                                         hdl  hey checkout the website:  url    \n",
       "1                                                                       hdl  😪   \n",
       "2                                                 i laugh a lot with that line   \n",
       "3                                         sons of anarchy is back on woop woop   \n",
       "4  Drinking a Fresh Squeezed IPA by  hdl  @ St. John's Bar &amp; Grill —  url    \n",
       "\n",
       "                        timeStamp     user_id retweet  \n",
       "0  Wed Sep 11 04:38:08 +0000 2013   224874450     NaN  \n",
       "1  Wed Sep 11 04:38:08 +0000 2013   312179473     NaN  \n",
       "2  Wed Sep 11 04:38:10 +0000 2013    54351774     NaN  \n",
       "3  Wed Sep 11 04:38:11 +0000 2013   343219606     NaN  \n",
       "4  Wed Sep 11 04:38:12 +0000 2013  1569395935     NaN  "
      ]
     },
     "execution_count": 21,
     "metadata": {},
     "output_type": "execute_result"
    }
   ],
   "source": [
    "tc.cleanHandle(tweet_df)\n",
    "tc.cleanURL(tweet_df)\n",
    "tc.convertEmoticon(tweet_df)\n",
    "tc.cleanRetweets(tweet_df)\n",
    "tweet_df.head()"
   ]
  },
  {
   "cell_type": "markdown",
   "metadata": {},
   "source": [
    "#Emoji Finder"
   ]
  },
  {
   "cell_type": "code",
   "execution_count": 22,
   "metadata": {
    "collapsed": true
   },
   "outputs": [],
   "source": [
    "try:\n",
    "    # Wide UCS-4 build\n",
    "    highpoints = re.compile(u'['\n",
    "        u'\\U0001F300-\\U0001F64F'\n",
    "        u'\\U0001F680-\\U0001F6FF'\n",
    "        u'\\u2600-\\u26FF\\u2700-\\u27BF]+', \n",
    "        re.UNICODE)\n",
    "except re.error:\n",
    "    # Narrow UCS-2 build\n",
    "    highpoints = re.compile(u'('\n",
    "        u'\\ud83c[\\udf00-\\udfff]|'\n",
    "        u'\\ud83d[\\udc00-\\ude4f\\ude80-\\udeff]|'\n",
    "        u'[\\u2600-\\u26FF\\u2700-\\u27BF])+', \n",
    "        re.UNICODE)"
   ]
  },
  {
   "cell_type": "markdown",
   "metadata": {},
   "source": [
    "# Subset Dataframe with Emojis Only (New Dataframe emoij_df)"
   ]
  },
  {
   "cell_type": "code",
   "execution_count": 69,
   "metadata": {
    "collapsed": false
   },
   "outputs": [],
   "source": [
    "emoji_list = []\n",
    "for index, value in enumerate(tweet_df.text):\n",
    "    if highpoints.search(value):\n",
    "        emoji_list.append((index, value))\n",
    "emoji_index = [x[0] for x in emoji_list]\n",
    "emoji_df = tweet_df.ix[emoji_index]"
   ]
  },
  {
   "cell_type": "markdown",
   "metadata": {
    "collapsed": true
   },
   "source": [
    "# Count Emoji Per Text (1.12 Average Emoji/Text, 53.2 Average Text Length)"
   ]
  },
  {
   "cell_type": "code",
   "execution_count": 23,
   "metadata": {
    "collapsed": false
   },
   "outputs": [],
   "source": [
    "# List of functions for emoji search\n",
    "faces = re.compile(u'['\n",
    "        u'\\U0001F600-\\U0001F64F]',\n",
    "        re.UNICODE)\n",
    "# Function that takes a list of text and return text that contains just faces\n",
    "def just_face(text):\n",
    "    return (faces.findall(text))\n",
    "# Function that take a list of text and return text with just emojis\n",
    "def just_emojis(text):\n",
    "    return (highpoints.findall(text))\n",
    "# Function that a list of text and return the number of emojis in the text.\n",
    "def count_emojis(text):\n",
    "    return len(highpoints.findall(text))"
   ]
  },
  {
   "cell_type": "code",
   "execution_count": 8,
   "metadata": {
    "collapsed": true
   },
   "outputs": [
    {
     "data": {
      "text/html": [
       "<div>\n",
       "<table border=\"1\" class=\"dataframe\">\n",
       "  <thead>\n",
       "    <tr style=\"text-align: right;\">\n",
       "      <th></th>\n",
       "      <th>id</th>\n",
       "      <th>user_id</th>\n",
       "      <th>Emoji Count</th>\n",
       "      <th>Text Length</th>\n",
       "    </tr>\n",
       "  </thead>\n",
       "  <tbody>\n",
       "    <tr>\n",
       "      <th>count</th>\n",
       "      <td>2.082520e+05</td>\n",
       "      <td>2.082520e+05</td>\n",
       "      <td>208252.000000</td>\n",
       "      <td>208252.000000</td>\n",
       "    </tr>\n",
       "    <tr>\n",
       "      <th>mean</th>\n",
       "      <td>3.822541e+17</td>\n",
       "      <td>5.198651e+08</td>\n",
       "      <td>1.122659</td>\n",
       "      <td>53.161506</td>\n",
       "    </tr>\n",
       "    <tr>\n",
       "      <th>std</th>\n",
       "      <td>2.378889e+15</td>\n",
       "      <td>4.612050e+08</td>\n",
       "      <td>0.603226</td>\n",
       "      <td>33.193435</td>\n",
       "    </tr>\n",
       "    <tr>\n",
       "      <th>min</th>\n",
       "      <td>3.776523e+17</td>\n",
       "      <td>2.100000e+01</td>\n",
       "      <td>1.000000</td>\n",
       "      <td>1.000000</td>\n",
       "    </tr>\n",
       "    <tr>\n",
       "      <th>25%</th>\n",
       "      <td>3.801828e+17</td>\n",
       "      <td>1.499460e+08</td>\n",
       "      <td>1.000000</td>\n",
       "      <td>27.000000</td>\n",
       "    </tr>\n",
       "    <tr>\n",
       "      <th>50%</th>\n",
       "      <td>3.823091e+17</td>\n",
       "      <td>3.852509e+08</td>\n",
       "      <td>1.000000</td>\n",
       "      <td>46.000000</td>\n",
       "    </tr>\n",
       "    <tr>\n",
       "      <th>75%</th>\n",
       "      <td>3.843753e+17</td>\n",
       "      <td>7.546697e+08</td>\n",
       "      <td>1.000000</td>\n",
       "      <td>75.000000</td>\n",
       "    </tr>\n",
       "    <tr>\n",
       "      <th>max</th>\n",
       "      <td>3.863382e+17</td>\n",
       "      <td>1.934553e+09</td>\n",
       "      <td>70.000000</td>\n",
       "      <td>214.000000</td>\n",
       "    </tr>\n",
       "  </tbody>\n",
       "</table>\n",
       "</div>"
      ],
      "text/plain": [
       "                 id       user_id    Emoji Count    Text Length\n",
       "count  2.082520e+05  2.082520e+05  208252.000000  208252.000000\n",
       "mean   3.822541e+17  5.198651e+08       1.122659      53.161506\n",
       "std    2.378889e+15  4.612050e+08       0.603226      33.193435\n",
       "min    3.776523e+17  2.100000e+01       1.000000       1.000000\n",
       "25%    3.801828e+17  1.499460e+08       1.000000      27.000000\n",
       "50%    3.823091e+17  3.852509e+08       1.000000      46.000000\n",
       "75%    3.843753e+17  7.546697e+08       1.000000      75.000000\n",
       "max    3.863382e+17  1.934553e+09      70.000000     214.000000"
      ]
     },
     "execution_count": 8,
     "metadata": {},
     "output_type": "execute_result"
    }
   ],
   "source": [
    "emoji_df[\"Emoji Count\"] = emoji_df[\"text\"].apply(count_emojis)\n",
    "emoji_df[\"Text Length\"] = emoji_df[\"text\"].apply(lambda x: len(x))\n",
    "emoji_df = emoji_df[['id', 'text', 'timeStamp', 'user_id', 'Emoji Count', 'Text Length']]\n",
    "emoji_df.describe()"
   ]
  },
  {
   "cell_type": "markdown",
   "metadata": {},
   "source": [
    "# Emoji Distribution"
   ]
  },
  {
   "cell_type": "code",
   "execution_count": null,
   "metadata": {
    "collapsed": true
   },
   "outputs": [],
   "source": [
    "reset_df = emoji_df.reset_index(drop=True)\n",
    "emoji_array = [reset_df.loc[[index]].text.apply(just_emojis) for index in range(len(reset_df))]\n",
    "full_list = []\n",
    "for item in emoji_array:\n",
    "    for emoji in item:\n",
    "        for sinlge in emoji:\n",
    "            full_list.append(sinlge)"
   ]
  },
  {
   "cell_type": "code",
   "execution_count": 9,
   "metadata": {
    "collapsed": false
   },
   "outputs": [],
   "source": [
    "full_dict = defaultdict(int)\n",
    "for item in full_list:\n",
    "    full_dict[item] += 1"
   ]
  },
  {
   "cell_type": "markdown",
   "metadata": {},
   "source": [
    "### 30469 Unique Emoji "
   ]
  },
  {
   "cell_type": "code",
   "execution_count": 10,
   "metadata": {
    "collapsed": false
   },
   "outputs": [
    {
     "data": {
      "text/plain": [
       "30469"
      ]
     },
     "execution_count": 10,
     "metadata": {},
     "output_type": "execute_result"
    }
   ],
   "source": [
    "len(unique(full_dict.keys()))"
   ]
  },
  {
   "cell_type": "code",
   "execution_count": 11,
   "metadata": {
    "collapsed": true
   },
   "outputs": [
    {
     "name": "stdout",
     "output_type": "stream",
     "text": [
      "😃 7.055753972497274\n",
      "😕 3.5458414422891846\n",
      "😂 3.268247823948331\n",
      "❤ 3.138219380226267\n",
      "😞 2.920935007164396\n",
      "😍 2.202784490686285\n",
      "😉 2.0162963279796404\n",
      "😒 1.7801920485895764\n",
      "😏 1.5299728394533674\n",
      "☺ 1.5060202313993027\n",
      "👌 1.4666695181676255\n",
      "😔 1.4251801792168353\n",
      "😊 1.3854017408413353\n",
      "😭 1.3700036356637226\n",
      "😘 1.2900190337689001\n",
      "😂😂😂 1.219016659894352\n",
      "😂😂 1.1702559934985777\n",
      "😳 1.0992536196240295\n",
      "😁 1.093693192754336\n",
      "😩 1.007292713702175\n",
      "💕 0.8862464980003849\n",
      "😀 0.8242263521461108\n",
      "🙌 0.7378258730939499\n",
      "✌ 0.7245663936354498\n",
      "💁 0.6894929318419983\n",
      "♫ 0.628755961419192\n",
      "😛 0.6270450608439018\n",
      "😋 0.6210569088303856\n",
      "😌 0.6210569088303856\n",
      "😑 0.6005261019269017\n",
      "🎶 0.5923993241942728\n",
      "🙏 0.5530486109625954\n",
      "😎 0.5513377103873052\n",
      "😂😂😂😂 0.5393614063602729\n",
      "😜 0.4474005004384183\n",
      "♥ 0.4388459975619667\n",
      "👍 0.4379905472743215\n",
      "😢 0.4354241964113861\n",
      "👏 0.4277251438225796\n",
      "😐 0.40505571119998296\n",
      "😍😍😍 0.3605722962424346\n",
      "😄 0.34218011505806367\n",
      "♡ 0.3400414893389508\n",
      "🙈 0.3246433841613379\n",
      "💋 0.32164930815457987\n",
      "😴 0.3036848521140315\n",
      "😍😍 0.30069077610727346\n",
      "✋ 0.2938471738061122\n",
      "😡 0.29299172351846703\n",
      "😫 0.29299172351846703\n"
     ]
    }
   ],
   "source": [
    "for item in sorted(full_dict.items(), key=lambda x:x[1], reverse=True)[:50]:\n",
    "    print(item[0], (float(item[1])/len(full_list))*100)"
   ]
  },
  {
   "cell_type": "markdown",
   "metadata": {},
   "source": [
    "# Emoji Face Distribution"
   ]
  },
  {
   "cell_type": "code",
   "execution_count": 12,
   "metadata": {
    "collapsed": false
   },
   "outputs": [
    {
     "name": "stdout",
     "output_type": "stream",
     "text": [
      "number of tweets with emojis 233795\n",
      "number of tweets with faces  208252\n",
      "percentage of tweets with emojis with faces 89.1%\n"
     ]
    }
   ],
   "source": [
    "face_array = [reset_df.loc[[index]].text.apply(just_face) for index in range(len(reset_df))]\n",
    "\n",
    "face_list = []\n",
    "for item in face_array:\n",
    "    for emoji in item:\n",
    "        for sinlge in emoji:\n",
    "            face_list.append(sinlge)\n",
    "\n",
    "print(\"number of tweets with emojis {0}\".format(len(full_list)))\n",
    "print(\"number of tweets with faces  {0}\".format(len(face_array)))\n",
    "print(\"percentage of tweets with emojis with faces {0}%\".format(round((float(len(face_array))/len(full_list)*100),1)))"
   ]
  },
  {
   "cell_type": "code",
   "execution_count": 13,
   "metadata": {
    "collapsed": true
   },
   "outputs": [],
   "source": [
    "face_dict = defaultdict(int)\n",
    "for item in face_list:\n",
    "    face_dict[item] += 1"
   ]
  },
  {
   "cell_type": "code",
   "execution_count": 14,
   "metadata": {
    "collapsed": true
   },
   "outputs": [
    {
     "name": "stdout",
     "output_type": "stream",
     "text": [
      "😂 21.143737034581576\n",
      "😍 8.991210248294445\n",
      "😭 7.4484056545264\n",
      "😃 7.385957783528305\n",
      "😘 4.1878568831668765\n",
      "😕 3.733185055283475\n",
      "😞 3.2336020872987015\n",
      "😏 3.092025064693428\n",
      "😊 2.989371030176009\n",
      "😒 2.965846147265767\n",
      "😩 2.8405226801257513\n",
      "😁 2.748134049060074\n",
      "😉 2.5116020445261875\n",
      "😔 2.3631814196197523\n",
      "🙌 2.2836245428687523\n",
      "😳 2.1458970465578817\n",
      "🙏 1.4585427404349964\n",
      "😋 1.3712868110951901\n",
      "😑 1.1758164203682713\n",
      "😌 1.1621292157659489\n",
      "😎 1.1240616779657393\n",
      "😡 1.0466434269338525\n",
      "😴 0.9739301524840137\n",
      "🙈 0.967514275326675\n",
      "😀 0.9516884450052396\n",
      "😱 0.9178981586432557\n",
      "😫 0.8888128488633203\n",
      "😛 0.872987018541885\n",
      "😜 0.8250818024337562\n",
      "😄 0.8118223229752561\n",
      "😢 0.7861588143459013\n",
      "😷 0.7630616565794821\n",
      "🙊 0.7442417502512886\n",
      "😐 0.6099360550909985\n",
      "😤 0.5184028743129665\n",
      "😈 0.5012938685600633\n",
      "😪 0.494450266258902\n",
      "😝 0.48332941251951494\n",
      "😖 0.4444064244316602\n",
      "😣 0.44312324900019245\n",
      "🙋 0.43328557069227314\n",
      "😅 0.4221647169528861\n",
      "😬 0.3840971791526765\n",
      "😓 0.3550118693727411\n",
      "😠 0.3537286939412734\n",
      "🙅 0.34731281678393466\n",
      "😆 0.335764237900725\n",
      "😻 0.32378793387369276\n",
      "😰 0.27374409204645095\n",
      "😚 0.26989456575204773\n"
     ]
    }
   ],
   "source": [
    "for item in sorted(face_dict.items(), key=lambda x:x[1], reverse=True)[:50]:\n",
    "    print(item[0], (float(item[1])/len(full_list))*100)"
   ]
  },
  {
   "cell_type": "markdown",
   "metadata": {},
   "source": [
    "# Exploring Emoji vs no Emoji (20% Text has Emojis, 15% has face)"
   ]
  },
  {
   "cell_type": "markdown",
   "metadata": {},
   "source": [
    "###Functions to check whether it's emoji or face"
   ]
  },
  {
   "cell_type": "code",
   "execution_count": 24,
   "metadata": {
    "collapsed": true
   },
   "outputs": [],
   "source": [
    "# Functions to check whether there's an emoji in the text, return 1 if true, 0 if false\n",
    "def is_emoji(text):\n",
    "    if highpoints.search(text):\n",
    "        return 1\n",
    "    else:\n",
    "        return 0\n",
    "# Functions to check whether there's a face emoji in the text, return 1 if true, 0 if false\n",
    "def is_face(text):\n",
    "    if faces.search(text):\n",
    "        return 1\n",
    "    else:\n",
    "        return 0"
   ]
  },
  {
   "cell_type": "code",
   "execution_count": 73,
   "metadata": {
    "collapsed": true
   },
   "outputs": [
    {
     "data": {
      "text/html": [
       "<div>\n",
       "<table border=\"1\" class=\"dataframe\">\n",
       "  <thead>\n",
       "    <tr style=\"text-align: right;\">\n",
       "      <th></th>\n",
       "      <th>id</th>\n",
       "      <th>lat</th>\n",
       "      <th>lng</th>\n",
       "      <th>text</th>\n",
       "      <th>timeStamp</th>\n",
       "      <th>user_id</th>\n",
       "      <th>is_emoji</th>\n",
       "      <th>is_face</th>\n",
       "    </tr>\n",
       "  </thead>\n",
       "  <tbody>\n",
       "    <tr>\n",
       "      <th>0</th>\n",
       "      <td>377652254096228352</td>\n",
       "      <td>37.446100</td>\n",
       "      <td>-121.883557</td>\n",
       "      <td>hdl  hey checkout the website:  url</td>\n",
       "      <td>Wed Sep 11 04:38:08 +0000 2013</td>\n",
       "      <td>224874450</td>\n",
       "      <td>0</td>\n",
       "      <td>0</td>\n",
       "    </tr>\n",
       "    <tr>\n",
       "      <th>1</th>\n",
       "      <td>377652255346159616</td>\n",
       "      <td>34.087406</td>\n",
       "      <td>-117.462604</td>\n",
       "      <td>hdl  😪</td>\n",
       "      <td>Wed Sep 11 04:38:08 +0000 2013</td>\n",
       "      <td>312179473</td>\n",
       "      <td>1</td>\n",
       "      <td>1</td>\n",
       "    </tr>\n",
       "    <tr>\n",
       "      <th>2</th>\n",
       "      <td>377652262325456897</td>\n",
       "      <td>37.356131</td>\n",
       "      <td>-121.842867</td>\n",
       "      <td>i laugh a lot with that line</td>\n",
       "      <td>Wed Sep 11 04:38:10 +0000 2013</td>\n",
       "      <td>54351774</td>\n",
       "      <td>0</td>\n",
       "      <td>0</td>\n",
       "    </tr>\n",
       "    <tr>\n",
       "      <th>3</th>\n",
       "      <td>377652264682655744</td>\n",
       "      <td>37.364664</td>\n",
       "      <td>-122.009629</td>\n",
       "      <td>sons of anarchy is back on woop woop</td>\n",
       "      <td>Wed Sep 11 04:38:11 +0000 2013</td>\n",
       "      <td>343219606</td>\n",
       "      <td>0</td>\n",
       "      <td>0</td>\n",
       "    </tr>\n",
       "    <tr>\n",
       "      <th>4</th>\n",
       "      <td>377652271116722176</td>\n",
       "      <td>37.382600</td>\n",
       "      <td>-121.995000</td>\n",
       "      <td>Drinking a Fresh Squeezed IPA by  hdl  @ St. John's Bar &amp;amp; Grill —  url</td>\n",
       "      <td>Wed Sep 11 04:38:12 +0000 2013</td>\n",
       "      <td>1569395935</td>\n",
       "      <td>0</td>\n",
       "      <td>0</td>\n",
       "    </tr>\n",
       "  </tbody>\n",
       "</table>\n",
       "</div>"
      ],
      "text/plain": [
       "                   id        lat         lng  \\\n",
       "0  377652254096228352  37.446100 -121.883557   \n",
       "1  377652255346159616  34.087406 -117.462604   \n",
       "2  377652262325456897  37.356131 -121.842867   \n",
       "3  377652264682655744  37.364664 -122.009629   \n",
       "4  377652271116722176  37.382600 -121.995000   \n",
       "\n",
       "                                                                          text  \\\n",
       "0                                         hdl  hey checkout the website:  url    \n",
       "1                                                                       hdl  😪   \n",
       "2                                                 i laugh a lot with that line   \n",
       "3                                         sons of anarchy is back on woop woop   \n",
       "4  Drinking a Fresh Squeezed IPA by  hdl  @ St. John's Bar &amp; Grill —  url    \n",
       "\n",
       "                        timeStamp     user_id  is_emoji  is_face  \n",
       "0  Wed Sep 11 04:38:08 +0000 2013   224874450         0        0  \n",
       "1  Wed Sep 11 04:38:08 +0000 2013   312179473         1        1  \n",
       "2  Wed Sep 11 04:38:10 +0000 2013    54351774         0        0  \n",
       "3  Wed Sep 11 04:38:11 +0000 2013   343219606         0        0  \n",
       "4  Wed Sep 11 04:38:12 +0000 2013  1569395935         0        0  "
      ]
     },
     "execution_count": 73,
     "metadata": {},
     "output_type": "execute_result"
    }
   ],
   "source": [
    "tweet_df[\"is_emoji\"] = tweet_df.text.apply(is_emoji)\n",
    "tweet_df[\"is_face\"] = tweet_df.text.apply(is_face)\n",
    "tweet_df.head()"
   ]
  },
  {
   "cell_type": "code",
   "execution_count": 25,
   "metadata": {
    "collapsed": true
   },
   "outputs": [
    {
     "data": {
      "text/html": [
       "<div>\n",
       "<table border=\"1\" class=\"dataframe\">\n",
       "  <thead>\n",
       "    <tr style=\"text-align: right;\">\n",
       "      <th></th>\n",
       "      <th>id</th>\n",
       "      <th>lat</th>\n",
       "      <th>lng</th>\n",
       "      <th>user_id</th>\n",
       "      <th>is_emoji</th>\n",
       "      <th>is_face</th>\n",
       "    </tr>\n",
       "  </thead>\n",
       "  <tbody>\n",
       "    <tr>\n",
       "      <th>count</th>\n",
       "      <td>1.000000e+06</td>\n",
       "      <td>1000000.000000</td>\n",
       "      <td>1000000.000000</td>\n",
       "      <td>1.000000e+06</td>\n",
       "      <td>1000000.000000</td>\n",
       "      <td>1000000.000000</td>\n",
       "    </tr>\n",
       "    <tr>\n",
       "      <th>mean</th>\n",
       "      <td>3.822416e+17</td>\n",
       "      <td>37.241980</td>\n",
       "      <td>-121.533430</td>\n",
       "      <td>4.961052e+09</td>\n",
       "      <td>0.208252</td>\n",
       "      <td>0.154146</td>\n",
       "    </tr>\n",
       "    <tr>\n",
       "      <th>std</th>\n",
       "      <td>2.370783e+15</td>\n",
       "      <td>1.333404</td>\n",
       "      <td>1.542418</td>\n",
       "      <td>4.503597e+12</td>\n",
       "      <td>0.406058</td>\n",
       "      <td>0.361089</td>\n",
       "    </tr>\n",
       "    <tr>\n",
       "      <th>min</th>\n",
       "      <td>3.776523e+17</td>\n",
       "      <td>12.983300</td>\n",
       "      <td>-170.296751</td>\n",
       "      <td>1.200000e+01</td>\n",
       "      <td>0.000000</td>\n",
       "      <td>0.000000</td>\n",
       "    </tr>\n",
       "    <tr>\n",
       "      <th>25%</th>\n",
       "      <td>3.801867e+17</td>\n",
       "      <td>37.320896</td>\n",
       "      <td>-122.350934</td>\n",
       "      <td>7.382110e+07</td>\n",
       "      <td>0.000000</td>\n",
       "      <td>0.000000</td>\n",
       "    </tr>\n",
       "    <tr>\n",
       "      <th>50%</th>\n",
       "      <td>3.822777e+17</td>\n",
       "      <td>37.656377</td>\n",
       "      <td>-122.043733</td>\n",
       "      <td>3.188787e+08</td>\n",
       "      <td>0.000000</td>\n",
       "      <td>0.000000</td>\n",
       "    </tr>\n",
       "    <tr>\n",
       "      <th>75%</th>\n",
       "      <td>3.843437e+17</td>\n",
       "      <td>37.790622</td>\n",
       "      <td>-121.785433</td>\n",
       "      <td>6.229686e+08</td>\n",
       "      <td>0.000000</td>\n",
       "      <td>0.000000</td>\n",
       "    </tr>\n",
       "    <tr>\n",
       "      <th>max</th>\n",
       "      <td>3.887526e+17</td>\n",
       "      <td>57.170120</td>\n",
       "      <td>77.583300</td>\n",
       "      <td>4.503597e+15</td>\n",
       "      <td>1.000000</td>\n",
       "      <td>1.000000</td>\n",
       "    </tr>\n",
       "  </tbody>\n",
       "</table>\n",
       "</div>"
      ],
      "text/plain": [
       "                 id             lat             lng       user_id  \\\n",
       "count  1.000000e+06  1000000.000000  1000000.000000  1.000000e+06   \n",
       "mean   3.822416e+17       37.241980     -121.533430  4.961052e+09   \n",
       "std    2.370783e+15        1.333404        1.542418  4.503597e+12   \n",
       "min    3.776523e+17       12.983300     -170.296751  1.200000e+01   \n",
       "25%    3.801867e+17       37.320896     -122.350934  7.382110e+07   \n",
       "50%    3.822777e+17       37.656377     -122.043733  3.188787e+08   \n",
       "75%    3.843437e+17       37.790622     -121.785433  6.229686e+08   \n",
       "max    3.887526e+17       57.170120       77.583300  4.503597e+15   \n",
       "\n",
       "             is_emoji         is_face  \n",
       "count  1000000.000000  1000000.000000  \n",
       "mean         0.208252        0.154146  \n",
       "std          0.406058        0.361089  \n",
       "min          0.000000        0.000000  \n",
       "25%          0.000000        0.000000  \n",
       "50%          0.000000        0.000000  \n",
       "75%          0.000000        0.000000  \n",
       "max          1.000000        1.000000  "
      ]
     },
     "execution_count": 25,
     "metadata": {},
     "output_type": "execute_result"
    }
   ],
   "source": [
    "tweet_df.describe()"
   ]
  },
  {
   "cell_type": "markdown",
   "metadata": {},
   "source": [
    "##Take a look at the imported tokenizer and test it"
   ]
  },
  {
   "cell_type": "code",
   "execution_count": 29,
   "metadata": {
    "collapsed": false
   },
   "outputs": [],
   "source": [
    "tok = happyfuntokenizing.TweetTokenizer(preserve_case=False)\n",
    "samples = (\n",
    "    u\"RT @ #happyfuncoding: this is a typical Twitter tweet😖\",\n",
    "    u\"😂😂😂 RT @Yours_Truly3x: Bitch brush yoo mouth; other Web oddities can be an &aacute;cute <em class='grumpy'>pain</em> >:(\",\n",
    "    u\"Yay my cat is cuddling🔫 with me tonight❤ +1 (800) 123-4567, (800) 123-4567, and 123-4567 are treated as words despite their whitespace.\"\n",
    "    )"
   ]
  },
  {
   "cell_type": "code",
   "execution_count": 31,
   "metadata": {
    "collapsed": true
   },
   "outputs": [
    {
     "name": "stdout",
     "output_type": "stream",
     "text": [
      "======================================================================\n",
      "RT @ #happyfuncoding: this is a typical Twitter tweet😖\n",
      "['rt', '@', '#happyfuncoding', ':', 'this', 'is', 'a', 'typical', 'twitter', 'tweet', '😖']\n",
      "\n",
      "\n",
      "======================================================================\n",
      "😂😂😂 RT @Yours_Truly3x: Bitch brush yoo mouth; other Web oddities can be an &aacute;cute <em class='grumpy'>pain</em> >:(\n",
      "['😂', '😂', '😂', 'rt', '@yours_truly3x', ':', 'bitch', 'brush', 'yoo', 'mouth', ';', 'other', 'web', 'oddities', 'can', 'be', 'an', 'ácute', \"<em class='grumpy'>\", 'pain', '</em>', '>:(']\n",
      "\n",
      "\n",
      "======================================================================\n",
      "Yay my cat is cuddling🔫 with me tonight❤ +1 (800) 123-4567, (800) 123-4567, and 123-4567 are treated as words despite their whitespace.\n",
      "['yay', 'my', 'cat', 'is', 'cuddling', '🔫', 'with', 'me', 'tonight', '❤', '+1 (800) 123-4567', ',', '(800) 123-4567', ',', 'and', '123-4567', 'are', 'treated', 'as', 'words', 'despite', 'their', 'whitespace', '.']\n",
      "\n",
      "\n"
     ]
    }
   ],
   "source": [
    "for s in samples:\n",
    "        print(\"======================================================================\")\n",
    "        print(s)\n",
    "        tokenized = tok.tokenize(s)\n",
    "        print(list(tokenized))\n",
    "        print(\"\\n\")"
   ]
  },
  {
   "cell_type": "markdown",
   "metadata": {},
   "source": [
    "# Unigrams Frequency"
   ]
  },
  {
   "cell_type": "code",
   "execution_count": 21,
   "metadata": {
    "collapsed": false
   },
   "outputs": [
    {
     "name": "stdout",
     "output_type": "stream",
     "text": [
      "[['hdl', 'hey', 'checkout', 'the', 'website', ':', 'url'], ['hdl', '😪'], ['i', 'laugh', 'a', 'lot', 'with', 'that', 'line'], ['sons', 'of', 'anarchy', 'is', 'back', 'on', 'woop', 'woop'], ['drinking', 'a', 'fresh', 'squeezed', 'ipa', 'by', 'hdl', '@', 'st', '.', \"john's\", 'bar', '&', 'amp', ';', 'grill', '—', 'url'], ['i', 'have', '8', 'am', 'classes', 'this', 'quarter', '...', 'i', 'need', 'to', 'get', 'this', 'sleep', 'thing', 'together'], ['why', 'is', \"milgrim's\", 'eyes', 'always', 'red', 'af', '..', '?'], ['#fighton', '!', '😛', 'mt', 'hdl', ':', 'eh', ',', \"you're\", 'down', 'south', '.', 'lol', 'rt', '“', 'hdl', ':', \"i'm\", 'here', 'for', 'a', 'few', 'days', '!', '😃', 'hdl', 'hdl', '”'], ['asked', 'him', 'what', 'he', 'did', 'today', 'and', 'got', 'a', 'response', 'like', 'this', '\"', 'i', 'was', 'being', 'black', '\"', 'daaaa', 'fuck', ',', '#dumbbitch', '#goawayden'], ['hdl', 'my', 'moms', 'just', 'nosey', 'lol']]\n"
     ]
    }
   ],
   "source": [
    "tok = Tokenizer(preserve_case=False)\n",
    "text_list = list(tweet_df.text)\n",
    "tokenized = [list(tok.tokenize(item)) for item in text_list]\n",
    "print(tokenized[:10])"
   ]
  },
  {
   "cell_type": "code",
   "execution_count": 31,
   "metadata": {
    "collapsed": false
   },
   "outputs": [],
   "source": [
    "stop_words = nltk.corpus.stopwords.words('english') + [\"http\", 'hdl', 'url'] \n",
    "punctuation_words = list(set(string.punctuation)) + [\":\", \":/\"]\n",
    "\n",
    "def real_unigrams(text):\n",
    "    real_unigrams = [word for sent in text for word in sent if word.lower() not in stop_words and word not in punctuation_words and is_emoji(word) == 1] \n",
    "    real_unigrams_freq = nltk.FreqDist(real_unigrams)\n",
    "    top_unigrams = real_unigrams_freq.most_common(100)\n",
    "    return top_unigrams"
   ]
  },
  {
   "cell_type": "code",
   "execution_count": 32,
   "metadata": {
    "collapsed": true
   },
   "outputs": [
    {
     "data": {
      "text/plain": [
       "[('😂', 49433),\n",
       " ('😍', 21021),\n",
       " ('😭', 17414),\n",
       " ('😃', 17272),\n",
       " ('❤', 13025),\n",
       " ('😘', 9791),\n",
       " ('😕', 8727),\n",
       " ('👌', 8540),\n",
       " ('😞', 7558),\n",
       " ('😏', 7229),\n",
       " ('😊', 6989),\n",
       " ('😒', 6934),\n",
       " ('💕', 6650),\n",
       " ('😩', 6641),\n",
       " ('😁', 6425),\n",
       " ('👏', 5917),\n",
       " ('😉', 5874),\n",
       " ('☺', 5581),\n",
       " ('😔', 5525),\n",
       " ('🙌', 5339),\n",
       " ('😳', 5017),\n",
       " ('🎶', 3603),\n",
       " ('🙏', 3410),\n",
       " ('😋', 3206),\n",
       " ('👍', 3179),\n",
       " ('💁', 2892),\n",
       " ('🎉', 2848),\n",
       " ('✌', 2814),\n",
       " ('😑', 2749),\n",
       " ('😌', 2717),\n",
       " ('😎', 2628),\n",
       " ('😡', 2447),\n",
       " ('😴', 2277),\n",
       " ('🙈', 2262),\n",
       " ('😀', 2225),\n",
       " ('😱', 2146),\n",
       " ('💙', 2125),\n",
       " ('💛', 2120),\n",
       " ('♥', 2101),\n",
       " ('😫', 2078),\n",
       " ('😛', 2040),\n",
       " ('🔫', 2008),\n",
       " ('😜', 1929),\n",
       " ('😄', 1898),\n",
       " ('💋', 1837),\n",
       " ('😢', 1834),\n",
       " ('😷', 1784),\n",
       " ('🙊', 1740),\n",
       " ('♡', 1673),\n",
       " ('💜', 1597),\n",
       " ('💔', 1539),\n",
       " ('✋', 1507),\n",
       " ('👊', 1484),\n",
       " ('♫', 1473),\n",
       " ('💚', 1438),\n",
       " ('✨', 1430),\n",
       " ('😐', 1426),\n",
       " ('🔥', 1338),\n",
       " ('💗', 1330),\n",
       " ('💦', 1266),\n",
       " ('💯', 1238),\n",
       " ('🏈', 1231),\n",
       " ('😤', 1212),\n",
       " ('💃', 1207),\n",
       " ('💪', 1181),\n",
       " ('😈', 1172),\n",
       " ('💖', 1165),\n",
       " ('😪', 1156),\n",
       " ('😝', 1130),\n",
       " ('💘', 1049),\n",
       " ('😖', 1039),\n",
       " ('😣', 1036),\n",
       " ('💀', 1025),\n",
       " ('🙋', 1013),\n",
       " ('😅', 987),\n",
       " ('👯', 937),\n",
       " ('👋', 936),\n",
       " ('💨', 915),\n",
       " ('✊', 900),\n",
       " ('😬', 898),\n",
       " ('👎', 875),\n",
       " ('☀', 855),\n",
       " ('🎈', 848),\n",
       " ('⚾', 843),\n",
       " ('💤', 837),\n",
       " ('😓', 830),\n",
       " ('😠', 827),\n",
       " ('💞', 821),\n",
       " ('👀', 821),\n",
       " ('🍻', 813),\n",
       " ('🙅', 812),\n",
       " ('🎧', 789),\n",
       " ('😆', 785),\n",
       " ('😻', 757),\n",
       " ('🎃', 755),\n",
       " ('💰', 730),\n",
       " ('☕', 726),\n",
       " ('👻', 698),\n",
       " ('🍕', 650),\n",
       " ('😰', 640)]"
      ]
     },
     "execution_count": 32,
     "metadata": {},
     "output_type": "execute_result"
    }
   ],
   "source": [
    "real_unigrams(tokenized)"
   ]
  },
  {
   "cell_type": "markdown",
   "metadata": {},
   "source": [
    "# Bigram Frequency"
   ]
  },
  {
   "cell_type": "code",
   "execution_count": 26,
   "metadata": {
    "collapsed": true
   },
   "outputs": [],
   "source": [
    "bigram_tokenized = [list(tok.tokenize(item)) for item in text_list]"
   ]
  },
  {
   "cell_type": "code",
   "execution_count": 35,
   "metadata": {
    "collapsed": false
   },
   "outputs": [],
   "source": [
    "def bigrams(text):\n",
    "    all_bigrams = [nltk.bigrams(sent) for sent in text]\n",
    "    all_bigrams = [pair for _list in all_bigrams for pair in list(_list) \\\n",
    "                   if pair[0] not in stop_words and pair[1] not in stop_words \\\n",
    "                  and pair[0] not in punctuation_words and pair[1] not in punctuation_words\n",
    "                  and is_emoji(pair[0]) == 1 and is_emoji(pair[1]) == 1 \n",
    "                  and pair[0] != pair[1]]\n",
    "    \n",
    "    bi_freq = nltk.FreqDist(all_bigrams)\n",
    "    top_bigrams = bi_freq.most_common(100)\n",
    "    return top_bigrams"
   ]
  },
  {
   "cell_type": "code",
   "execution_count": 36,
   "metadata": {
    "collapsed": true
   },
   "outputs": [
    {
     "data": {
      "text/plain": [
       "[(('😂', '😭'), 1546),\n",
       " (('😭', '😂'), 1089),\n",
       " (('😍', '😘'), 638),\n",
       " (('😍', '❤'), 418),\n",
       " (('😘', '❤'), 397),\n",
       " (('😂', '👏'), 386),\n",
       " (('💚', '💛'), 339),\n",
       " (('😂', '👌'), 322),\n",
       " (('🎉', '🎊'), 300),\n",
       " (('🎃', '👻'), 298),\n",
       " (('😘', '😍'), 287),\n",
       " (('😩', '😭'), 287),\n",
       " (('😍', '👌'), 261),\n",
       " (('😍', '💕'), 249),\n",
       " (('😳', '😂'), 233),\n",
       " (('😘', '💕'), 233),\n",
       " (('🎉', '🎈'), 218),\n",
       " (('😍', '😭'), 216),\n",
       " (('😭', '😩'), 206),\n",
       " (('😏', '👌'), 203),\n",
       " (('😭', '😍'), 203),\n",
       " (('💛', '💚'), 196),\n",
       " (('💙', '💛'), 188),\n",
       " (('🎊', '🎉'), 185),\n",
       " (('😩', '😂'), 178),\n",
       " (('😍', '🙌'), 176),\n",
       " (('😏', '😂'), 174),\n",
       " (('😭', '💔'), 174),\n",
       " (('💛', '❤'), 170),\n",
       " (('😭', '❤'), 170),\n",
       " (('😊', '😘'), 164),\n",
       " (('❤', '😘'), 162),\n",
       " (('💛', '💙'), 159),\n",
       " (('♡', '♥'), 155),\n",
       " (('😫', '😭'), 154),\n",
       " (('😂', '😘'), 154),\n",
       " (('❤', '💛'), 152),\n",
       " (('😊', '❤'), 152),\n",
       " (('🎉', '🎁'), 150),\n",
       " (('😂', '😩'), 147),\n",
       " (('😍', '😋'), 147),\n",
       " (('😍', '☺'), 146),\n",
       " (('😂', '😍'), 143),\n",
       " (('👊', '💢'), 143),\n",
       " (('🍃', '🍂'), 142),\n",
       " (('🙏', '🙌'), 140),\n",
       " (('😩', '😫'), 140),\n",
       " (('😊', '👌'), 138),\n",
       " (('👍', '👌'), 135),\n",
       " (('👌', '👍'), 129),\n",
       " (('♥', '♡'), 129),\n",
       " (('😊', '☺'), 129),\n",
       " (('😂', '😏'), 127),\n",
       " (('😏', '😘'), 124),\n",
       " (('🙌', '🙏'), 121),\n",
       " (('👌', '😂'), 117),\n",
       " (('💕', '😘'), 115),\n",
       " (('😊', '💕'), 114),\n",
       " (('😌', '👌'), 111),\n",
       " (('😂', '❤'), 110),\n",
       " (('😳', '😁'), 108),\n",
       " (('😍', '😂'), 107),\n",
       " (('😭', '💕'), 106),\n",
       " (('🎁', '🎉'), 106),\n",
       " (('👌', '😍'), 106),\n",
       " (('💙', '❤'), 105),\n",
       " (('😁', '👌'), 104),\n",
       " (('👌', '😏'), 104),\n",
       " (('😒', '😂'), 104),\n",
       " (('❤', '😍'), 103),\n",
       " (('🙌', '😍'), 102),\n",
       " (('👻', '🎃'), 101),\n",
       " (('🙌', '👌'), 101),\n",
       " (('🎊', '🎈'), 100),\n",
       " (('😡', '😤'), 100),\n",
       " (('💙', '💜'), 97),\n",
       " (('🎈', '🎉'), 97),\n",
       " (('😍', '😏'), 96),\n",
       " (('😂', '🙌'), 96),\n",
       " (('👏', '👌'), 95),\n",
       " (('😂', '✋'), 94),\n",
       " (('😉', '😘'), 94),\n",
       " (('😏', '😉'), 94),\n",
       " (('👏', '🙌'), 93),\n",
       " (('😒', '😔'), 93),\n",
       " (('😔', '💔'), 93),\n",
       " (('😭', '😫'), 93),\n",
       " (('😴', '💤'), 92),\n",
       " (('🍂', '🍃'), 92),\n",
       " (('☺', '😘'), 92),\n",
       " (('🍔', '🍟'), 92),\n",
       " (('🎧', '🎶'), 91),\n",
       " (('👅', '💦'), 90),\n",
       " (('🙈', '🙉'), 90),\n",
       " (('👌', '❤'), 90),\n",
       " (('🙈', '🙊'), 90),\n",
       " (('👏', '😂'), 89),\n",
       " (('🍁', '🍂'), 88),\n",
       " (('💛', '🏈'), 87),\n",
       " (('🍂', '🍁'), 87)]"
      ]
     },
     "execution_count": 36,
     "metadata": {},
     "output_type": "execute_result"
    }
   ],
   "source": [
    "bigrams(bigram_tokenized)"
   ]
  },
  {
   "cell_type": "markdown",
   "metadata": {},
   "source": [
    "## Collocations"
   ]
  },
  {
   "cell_type": "code",
   "execution_count": 38,
   "metadata": {
    "collapsed": false
   },
   "outputs": [
    {
     "data": {
      "text/plain": [
       "' hdl  hey checkout the website:  url   hdl  😪 i laugh a lot with that line sons of anarchy is back o'"
      ]
     },
     "execution_count": 38,
     "metadata": {},
     "output_type": "execute_result"
    }
   ],
   "source": [
    "text_joined = \" \".join(tweet_df.text)"
   ]
  },
  {
   "cell_type": "code",
   "execution_count": 41,
   "metadata": {
    "collapsed": true
   },
   "outputs": [],
   "source": [
    "bigram_measures = nltk.collocations.BigramAssocMeasures()\n",
    "\n",
    "def collocation_bigrams(text):    \n",
    "    finder = BigramCollocationFinder.from_words(text)\n",
    "    finder.apply_freq_filter(9)\n",
    "    bigram_coll = (finder.nbest(bigram_measures.pmi, 500))\n",
    "    return bigram_coll"
   ]
  },
  {
   "cell_type": "code",
   "execution_count": 42,
   "metadata": {
    "collapsed": false
   },
   "outputs": [],
   "source": [
    "collocation_bigrams = collocation_bigrams(text_joined)"
   ]
  },
  {
   "cell_type": "code",
   "execution_count": 53,
   "metadata": {
    "collapsed": true
   },
   "outputs": [
    {
     "data": {
      "text/plain": [
       "[('🌖', '🌗'),\n",
       " ('🌒', '🌓'),\n",
       " ('🌗', '🌘'),\n",
       " ('🌓', '🌔'),\n",
       " ('💷', '💶'),\n",
       " ('🎌', '🎌'),\n",
       " ('🚋', '🚋'),\n",
       " ('🔻', '🔺'),\n",
       " ('🔺', '🔻'),\n",
       " ('🎏', '🎏'),\n",
       " ('🌑', '🌒'),\n",
       " ('🚩', '🚩'),\n",
       " ('🌕', '🌖'),\n",
       " ('❕', '❕'),\n",
       " ('🐈', '🐈'),\n",
       " ('📢', '📢'),\n",
       " ('🍙', '🍘'),\n",
       " ('🎡', '🎠'),\n",
       " ('📦', '📦'),\n",
       " ('💈', '💈'),\n",
       " ('🌔', '🌕'),\n",
       " ('💺', '💺'),\n",
       " ('🎯', '🎯'),\n",
       " ('🐖', '🐖'),\n",
       " ('🐜', '🐜'),\n",
       " ('🍲', '🍢'),\n",
       " ('⚪', '⚪'),\n",
       " ('🔕', '🔕'),\n",
       " ('🎹', '🎹'),\n",
       " ('🚽', '🚽'),\n",
       " ('🐑', '🐑'),\n",
       " ('🔔', '🔔'),\n",
       " ('🔴', '🔵'),\n",
       " ('🔶', '🔷'),\n",
       " ('🎅', '🎄'),\n",
       " ('🍅', '🌽'),\n",
       " ('🔵', '🔴'),\n",
       " ('❓', '❓'),\n",
       " ('🍼', '🍼'),\n",
       " ('🐔', '🐔'),\n",
       " ('🚓', '🚔'),\n",
       " ('🐼', '🐼'),\n",
       " ('🍍', '🍍'),\n",
       " ('🍗', '🍖'),\n",
       " ('🏢', '🏢'),\n",
       " ('🐸', '🐸'),\n",
       " ('🐋', '🐋'),\n",
       " ('📲', '📲'),\n",
       " ('🐵', '🐵'),\n",
       " ('🐽', '🐽'),\n",
       " ('🐍', '🐍'),\n",
       " ('🔒', '🔒'),\n",
       " ('🚣', '🚣'),\n",
       " ('🚔', '🚨'),\n",
       " ('👣', '👣'),\n",
       " ('📓', '📓'),\n",
       " ('🍏', '🍊'),\n",
       " ('❌', '❌'),\n",
       " ('👟', '👞'),\n",
       " ('👞', '👟'),\n",
       " ('🍱', '🍣'),\n",
       " ('👾', '👾'),\n",
       " ('🍭', '🍬'),\n",
       " ('🍉', '🍉'),\n",
       " ('👇', '👇'),\n",
       " ('🐠', '🐟'),\n",
       " ('🔶', '⚫'),\n",
       " ('🍤', '🍤'),\n",
       " ('🎄', '🎅'),\n",
       " ('🎓', '🎓'),\n",
       " ('🐝', '🐝'),\n",
       " ('🐵', '🐒'),\n",
       " ('🚿', '🚿'),\n",
       " ('🍎', '🍏'),\n",
       " ('🎢', '🎡'),\n",
       " ('🐰', '🐰'),\n",
       " ('⚠', '⚠'),\n",
       " ('🌌', '🌠'),\n",
       " ('🍣', '🍙'),\n",
       " ('💲', '💲'),\n",
       " ('🐢', '🐢'),\n",
       " ('🐒', '🐵'),\n",
       " ('👲', '👲'),\n",
       " ('👴', '👵'),\n",
       " ('🍀', '🍀'),\n",
       " ('🍝', '🍛'),\n",
       " ('🌿', '🌿'),\n",
       " ('🍧', '🍨'),\n",
       " ('🍨', '🍧'),\n",
       " ('🐫', '🐫'),\n",
       " ('🐙', '🐙'),\n",
       " ('🐾', '🐾'),\n",
       " ('🍖', '🍝'),\n",
       " ('🍄', '🍄'),\n",
       " ('♪', '♪'),\n",
       " ('🍆', '🍆'),\n",
       " ('🐬', '🐬'),\n",
       " ('🍣', '🍱'),\n",
       " ('🍬', '🍭'),\n",
       " ('👰', '🎩'),\n",
       " ('🍌', '🍌'),\n",
       " ('🎡', '🎢'),\n",
       " ('📺', '📺'),\n",
       " ('💧', '💧'),\n",
       " ('🐷', '🐽'),\n",
       " ('🍛', '🍤'),\n",
       " ('🚨', '🚓'),\n",
       " ('🍔', '🍟'),\n",
       " ('🔮', '🔮'),\n",
       " ('💵', '💷'),\n",
       " ('☆', '☆'),\n",
       " ('🍳', '🍞'),\n",
       " ('★', '★'),\n",
       " ('⛽', '⛽'),\n",
       " ('🐘', '🐘'),\n",
       " ('🐪', '🐪'),\n",
       " ('👳', '👳'),\n",
       " ('🍆', '🍅'),\n",
       " ('👆', '👆'),\n",
       " ('👹', '👹'),\n",
       " ('🔴', '🔴'),\n",
       " ('🚗', '🚕'),\n",
       " ('🚓', '🚓'),\n",
       " ('🚨', '🚨'),\n",
       " ('🐳', '🐋'),\n",
       " ('🌵', '🌵'),\n",
       " ('📚', '📖'),\n",
       " ('💴', '💵'),\n",
       " ('🌈', '🌈'),\n",
       " ('🍒', '🍇'),\n",
       " ('🍩', '🍩'),\n",
       " ('😺', '😺'),\n",
       " ('👈', '👈'),\n",
       " ('🎩', '🎩'),\n",
       " ('🚓', '🚨'),\n",
       " ('✏', '📓'),\n",
       " ('🍇', '🍇'),\n",
       " ('🏄', '🏄'),\n",
       " ('🐴', '🐴'),\n",
       " ('👗', '👠'),\n",
       " ('🍓', '🍑'),\n",
       " ('🌼', '🌼'),\n",
       " ('🍇', '🍉')]"
      ]
     },
     "execution_count": 53,
     "metadata": {},
     "output_type": "execute_result"
    }
   ],
   "source": [
    "[pair for pair in collocation_bigrams if is_emoji(pair[0]) == 1 and is_emoji(pair[1]) == 1]"
   ]
  },
  {
   "cell_type": "markdown",
   "metadata": {},
   "source": [
    "#Add a new column that display just the emojis for the text"
   ]
  },
  {
   "cell_type": "code",
   "execution_count": 32,
   "metadata": {
    "collapsed": false
   },
   "outputs": [],
   "source": [
    "def emojiExtract(sent):\n",
    "    return [word for word in tok.tokenize(sent) if is_emoji(word) == 1]\n",
    "\n",
    "def textExtract(sent):\n",
    "    return [word for word in tok.tokenize(sent) if is_emoji(word) == 0]\n",
    "\n",
    "def textTokenized(sent):\n",
    "    return [word for word in tok.tokenize(sent)]\n",
    "\n",
    "def addTokenizedText(df):\n",
    "    df['Tokenized'] = [textTokenized(word) for word in df.text]\n",
    "\n",
    "def addEmojiCol(df):\n",
    "    df['Emoji'] = [emojiExtract(word) for word in df.text]\n",
    "\n",
    "def addText(df):\n",
    "    df['only_Text'] = [textExtract(word) for word in df.text]\n",
    "\n",
    "def addHashTag(df):\n",
    "    df['only_HashTag'] = [re.findall(r\"(#\\w+)\", word) for word in df.text]"
   ]
  },
  {
   "cell_type": "code",
   "execution_count": 40,
   "metadata": {
    "collapsed": false
   },
   "outputs": [
    {
     "data": {
      "text/html": [
       "<div>\n",
       "<table border=\"1\" class=\"dataframe\">\n",
       "  <thead>\n",
       "    <tr style=\"text-align: right;\">\n",
       "      <th></th>\n",
       "      <th>id</th>\n",
       "      <th>lat</th>\n",
       "      <th>lng</th>\n",
       "      <th>text</th>\n",
       "      <th>timeStamp</th>\n",
       "      <th>user_id</th>\n",
       "      <th>retweet</th>\n",
       "      <th>Emoji</th>\n",
       "      <th>only_Text</th>\n",
       "      <th>Tokenized</th>\n",
       "    </tr>\n",
       "  </thead>\n",
       "  <tbody>\n",
       "    <tr>\n",
       "      <th>0</th>\n",
       "      <td>377652254096228352</td>\n",
       "      <td>37.446100</td>\n",
       "      <td>-121.883557</td>\n",
       "      <td>hdl  hey checkout the website:  url</td>\n",
       "      <td>Wed Sep 11 04:38:08 +0000 2013</td>\n",
       "      <td>224874450</td>\n",
       "      <td>NaN</td>\n",
       "      <td>[]</td>\n",
       "      <td>[hdl, hey, checkout, the, website, :, url]</td>\n",
       "      <td>[hdl, hey, checkout, the, website, :, url]</td>\n",
       "    </tr>\n",
       "    <tr>\n",
       "      <th>1</th>\n",
       "      <td>377652255346159616</td>\n",
       "      <td>34.087406</td>\n",
       "      <td>-117.462604</td>\n",
       "      <td>hdl  😪</td>\n",
       "      <td>Wed Sep 11 04:38:08 +0000 2013</td>\n",
       "      <td>312179473</td>\n",
       "      <td>NaN</td>\n",
       "      <td>[😪]</td>\n",
       "      <td>[hdl]</td>\n",
       "      <td>[hdl, 😪]</td>\n",
       "    </tr>\n",
       "    <tr>\n",
       "      <th>2</th>\n",
       "      <td>377652262325456897</td>\n",
       "      <td>37.356131</td>\n",
       "      <td>-121.842867</td>\n",
       "      <td>i laugh a lot with that line</td>\n",
       "      <td>Wed Sep 11 04:38:10 +0000 2013</td>\n",
       "      <td>54351774</td>\n",
       "      <td>NaN</td>\n",
       "      <td>[]</td>\n",
       "      <td>[i, laugh, a, lot, with, that, line]</td>\n",
       "      <td>[i, laugh, a, lot, with, that, line]</td>\n",
       "    </tr>\n",
       "    <tr>\n",
       "      <th>3</th>\n",
       "      <td>377652264682655744</td>\n",
       "      <td>37.364664</td>\n",
       "      <td>-122.009629</td>\n",
       "      <td>sons of anarchy is back on woop woop</td>\n",
       "      <td>Wed Sep 11 04:38:11 +0000 2013</td>\n",
       "      <td>343219606</td>\n",
       "      <td>NaN</td>\n",
       "      <td>[]</td>\n",
       "      <td>[sons, of, anarchy, is, back, on, woop, woop]</td>\n",
       "      <td>[sons, of, anarchy, is, back, on, woop, woop]</td>\n",
       "    </tr>\n",
       "    <tr>\n",
       "      <th>4</th>\n",
       "      <td>377652271116722176</td>\n",
       "      <td>37.382600</td>\n",
       "      <td>-121.995000</td>\n",
       "      <td>Drinking a Fresh Squeezed IPA by  hdl  @ St. John's Bar &amp;amp; Grill —  url</td>\n",
       "      <td>Wed Sep 11 04:38:12 +0000 2013</td>\n",
       "      <td>1569395935</td>\n",
       "      <td>NaN</td>\n",
       "      <td>[]</td>\n",
       "      <td>[drinking, a, fresh, squeezed, ipa, by, hdl, @, st, ., john's, bar, &amp;, amp, ;, grill, —, url]</td>\n",
       "      <td>[drinking, a, fresh, squeezed, ipa, by, hdl, @, st, ., john's, bar, &amp;, amp, ;, grill, —, url]</td>\n",
       "    </tr>\n",
       "  </tbody>\n",
       "</table>\n",
       "</div>"
      ],
      "text/plain": [
       "                   id        lat         lng  \\\n",
       "0  377652254096228352  37.446100 -121.883557   \n",
       "1  377652255346159616  34.087406 -117.462604   \n",
       "2  377652262325456897  37.356131 -121.842867   \n",
       "3  377652264682655744  37.364664 -122.009629   \n",
       "4  377652271116722176  37.382600 -121.995000   \n",
       "\n",
       "                                                                          text  \\\n",
       "0                                         hdl  hey checkout the website:  url    \n",
       "1                                                                       hdl  😪   \n",
       "2                                                 i laugh a lot with that line   \n",
       "3                                         sons of anarchy is back on woop woop   \n",
       "4  Drinking a Fresh Squeezed IPA by  hdl  @ St. John's Bar &amp; Grill —  url    \n",
       "\n",
       "                        timeStamp     user_id retweet Emoji  \\\n",
       "0  Wed Sep 11 04:38:08 +0000 2013   224874450     NaN    []   \n",
       "1  Wed Sep 11 04:38:08 +0000 2013   312179473     NaN   [😪]   \n",
       "2  Wed Sep 11 04:38:10 +0000 2013    54351774     NaN    []   \n",
       "3  Wed Sep 11 04:38:11 +0000 2013   343219606     NaN    []   \n",
       "4  Wed Sep 11 04:38:12 +0000 2013  1569395935     NaN    []   \n",
       "\n",
       "                                                                                       only_Text  \\\n",
       "0                                                     [hdl, hey, checkout, the, website, :, url]   \n",
       "1                                                                                          [hdl]   \n",
       "2                                                           [i, laugh, a, lot, with, that, line]   \n",
       "3                                                  [sons, of, anarchy, is, back, on, woop, woop]   \n",
       "4  [drinking, a, fresh, squeezed, ipa, by, hdl, @, st, ., john's, bar, &, amp, ;, grill, —, url]   \n",
       "\n",
       "                                                                                       Tokenized  \n",
       "0                                                     [hdl, hey, checkout, the, website, :, url]  \n",
       "1                                                                                       [hdl, 😪]  \n",
       "2                                                           [i, laugh, a, lot, with, that, line]  \n",
       "3                                                  [sons, of, anarchy, is, back, on, woop, woop]  \n",
       "4  [drinking, a, fresh, squeezed, ipa, by, hdl, @, st, ., john's, bar, &, amp, ;, grill, —, url]  "
      ]
     },
     "execution_count": 40,
     "metadata": {},
     "output_type": "execute_result"
    }
   ],
   "source": [
    "#addEmojiCol(tweet_df)\n",
    "#addText(tweet_df)\n",
    "addTokenizedText(tweet_df)\n",
    "tweet_df.head()"
   ]
  },
  {
   "cell_type": "code",
   "execution_count": 449,
   "metadata": {
    "collapsed": false
   },
   "outputs": [
    {
     "data": {
      "text/plain": [
       "[['#collegeanatomy', '#kickingmybutt', '#study']]"
      ]
     },
     "execution_count": 449,
     "metadata": {},
     "output_type": "execute_result"
    }
   ],
   "source": [
    "ex = ['My Friday night... #collegeanatomy #kickingmybutt #study @ The Price Family Inn url']\n",
    "[re.findall(r\"(#\\w+)\", word) for word in ex]"
   ]
  },
  {
   "cell_type": "markdown",
   "metadata": {},
   "source": [
    "## Create Only Hashtag Column and Tokenized Columns"
   ]
  },
  {
   "cell_type": "code",
   "execution_count": 453,
   "metadata": {
    "collapsed": false
   },
   "outputs": [],
   "source": [
    "#addHashTag(tweet_df)\n",
    "#addTokenizedText(tweet_df)"
   ]
  },
  {
   "cell_type": "code",
   "execution_count": 34,
   "metadata": {
    "collapsed": true
   },
   "outputs": [],
   "source": [
    "import gensim\n",
    "from gensim.models import Word2Vec"
   ]
  },
  {
   "cell_type": "code",
   "execution_count": 38,
   "metadata": {
    "collapsed": false
   },
   "outputs": [],
   "source": [
    "#emoji_model = gensim.models.Word2Vec(list(tweet_df.Tokenized))\n",
    "# It might take some time to train the model. So, after it is trained, it can be saved as follows:\n",
    "#emoji_model.save('emoji.embedding')\n",
    "emoji_model = gensim.models.Word2Vec.load('emoji.embedding')"
   ]
  },
  {
   "cell_type": "code",
   "execution_count": 39,
   "metadata": {
    "collapsed": true
   },
   "outputs": [
    {
     "data": {
      "text/plain": [
       "[('ommmmmg', 0.7462140321731567),\n",
       " ('#dead', 0.6925972700119019),\n",
       " ('meagan', 0.6692696809768677),\n",
       " ('lmaooooooooooo', 0.6570378541946411),\n",
       " ('inseparable', 0.6502166986465454),\n",
       " ('#lrt', 0.6376644372940063),\n",
       " ('#playa', 0.6227041482925415),\n",
       " ('#dying', 0.5953817367553711),\n",
       " ('#sike', 0.5952829122543335),\n",
       " ('#coldworld', 0.5948764681816101),\n",
       " ('#blama', 0.5885862112045288),\n",
       " ('#icant', 0.5870974063873291),\n",
       " ('#workaholics', 0.5856915712356567),\n",
       " ('laffin', 0.5782320499420166),\n",
       " ('hahahahahahahahahahahahaha', 0.5772393345832825),\n",
       " ('. .. .', 0.5763115286827087),\n",
       " ('daaamn', 0.5759264826774597),\n",
       " ('omgosh', 0.5746556520462036),\n",
       " ('nikkah', 0.5687729716300964),\n",
       " ('gawwwd', 0.5650306344032288)]"
      ]
     },
     "execution_count": 39,
     "metadata": {},
     "output_type": "execute_result"
    }
   ],
   "source": [
    "emoji_model.most_similar(positive = ['😂'], topn = 20)"
   ]
  },
  {
   "cell_type": "code",
   "execution_count": 233,
   "metadata": {
    "collapsed": false
   },
   "outputs": [
    {
     "data": {
      "text/plain": [
       "151"
      ]
     },
     "execution_count": 233,
     "metadata": {},
     "output_type": "execute_result"
    }
   ],
   "source": [
    "len(tweet_df[tweet_df.text.str.contains(r'#bye')])"
   ]
  },
  {
   "cell_type": "markdown",
   "metadata": {},
   "source": [
    "#How many Hashtags? 155979"
   ]
  },
  {
   "cell_type": "code",
   "execution_count": 454,
   "metadata": {
    "collapsed": false
   },
   "outputs": [
    {
     "data": {
      "text/plain": [
       "id              155979\n",
       "lat             155979\n",
       "lng             155979\n",
       "text            155979\n",
       "timeStamp       155979\n",
       "user_id         155979\n",
       "is_emoji        155979\n",
       "is_face         155979\n",
       "Emoji           155979\n",
       "only_Text       155979\n",
       "only_HashTag    155979\n",
       "Tokenized       155979\n",
       "dtype: int64"
      ]
     },
     "execution_count": 454,
     "metadata": {},
     "output_type": "execute_result"
    }
   ],
   "source": [
    "tweet_df[tweet_df.only_HashTag.str.len() != 0].count(0)"
   ]
  },
  {
   "cell_type": "code",
   "execution_count": 333,
   "metadata": {
    "collapsed": false
   },
   "outputs": [
    {
     "data": {
      "text/plain": [
       "False"
      ]
     },
     "execution_count": 333,
     "metadata": {},
     "output_type": "execute_result"
    }
   ],
   "source": [
    "from nltk.corpus import words\n",
    "\"fuck\" in words.words()"
   ]
  },
  {
   "cell_type": "markdown",
   "metadata": {},
   "source": [
    "#Language Cleaning"
   ]
  },
  {
   "cell_type": "code",
   "execution_count": 142,
   "metadata": {
    "collapsed": false
   },
   "outputs": [],
   "source": [
    "punctuation = string.punctuation\n",
    "ex = ['“', '—', '’', ' ️', '️', '...', '”', '…', ' , , ,', '?', ' ', ' ⃣', '∞', '🆒']\n",
    "for pun in [word for word in ex if word not in punctuation]:\n",
    "    punctuation += pun\n",
    "def isEnglish(list):\n",
    "    try:\n",
    "        [word.encode('ascii') for word in list if word not in punctuation]\n",
    "    except Exception:\n",
    "        return False\n",
    "    else:\n",
    "        return True"
   ]
  },
  {
   "cell_type": "code",
   "execution_count": 170,
   "metadata": {
    "collapsed": false
   },
   "outputs": [],
   "source": [
    "def cleanNonEnglish(df):\n",
    "    text_list = df['only_Text'].values\n",
    "    english_Boolean = [isEnglish(sent) for sent in text_list]\n",
    "    return df[english_Boolean]"
   ]
  },
  {
   "cell_type": "code",
   "execution_count": 131,
   "metadata": {
    "collapsed": true
   },
   "outputs": [
    {
     "ename": "SyntaxError",
     "evalue": "invalid syntax (<ipython-input-131-4376a5765b61>, line 4)",
     "output_type": "error",
     "traceback": [
      "\u001b[0;36m  File \u001b[0;32m\"<ipython-input-131-4376a5765b61>\"\u001b[0;36m, line \u001b[0;32m4\u001b[0m\n\u001b[0;31m    print ({:3}'percentage of non-english tweets')\u001b[0m\n\u001b[0m            ^\u001b[0m\n\u001b[0;31mSyntaxError\u001b[0m\u001b[0;31m:\u001b[0m invalid syntax\n"
     ]
    }
   ],
   "source": [
    "#with pd.option_context('display.max_rows', 999):\n",
    "#    print (tweet_df_non_en['text'])\n",
    "#tweet_df_non_en['text'].to_csv('non_en.csv')"
   ]
  },
  {
   "cell_type": "code",
   "execution_count": 171,
   "metadata": {
    "collapsed": false
   },
   "outputs": [],
   "source": [
    "tweet_df = cleanNonEnglish(tweet_df)"
   ]
  },
  {
   "cell_type": "code",
   "execution_count": 172,
   "metadata": {
    "collapsed": false
   },
   "outputs": [
    {
     "data": {
      "text/plain": [
       "975442"
      ]
     },
     "execution_count": 172,
     "metadata": {},
     "output_type": "execute_result"
    }
   ],
   "source": [
    "len(tweet_df)"
   ]
  },
  {
   "cell_type": "code",
   "execution_count": null,
   "metadata": {
    "collapsed": true
   },
   "outputs": [],
   "source": []
  }
 ],
 "metadata": {
  "kernelspec": {
   "display_name": "Python 3",
   "language": "python",
   "name": "python3"
  },
  "language_info": {
   "codemirror_mode": {
    "name": "ipython",
    "version": 3
   },
   "file_extension": ".py",
   "mimetype": "text/x-python",
   "name": "python",
   "nbconvert_exporter": "python",
   "pygments_lexer": "ipython3",
   "version": "3.3.5"
  }
 },
 "nbformat": 4,
 "nbformat_minor": 0
}
