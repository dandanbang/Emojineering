{
 "cells": [
  {
   "cell_type": "code",
   "execution_count": 29,
   "metadata": {
    "collapsed": true
   },
   "outputs": [],
   "source": [
    "## import all necessary packages\n",
    "import time\n",
    "import json\n",
    "import re\n",
    "import nltk, string\n",
    "\n",
    "from nltk.collocations import *\n",
    "\n",
    "import numpy as np\n",
    "import matplotlib.pyplot as plt\n",
    "\n",
    "from pandas import *\n",
    "\n",
    "from sklearn.cluster import MiniBatchKMeans, KMeans\n",
    "from sklearn.metrics.pairwise import pairwise_distances_argmin\n",
    "from sklearn.datasets.samples_generator import make_blobs\n",
    "from sklearn.cluster import DBSCAN\n",
    "from sklearn import metrics\n",
    "from sklearn.datasets.samples_generator import make_blobs\n",
    "from sklearn.preprocessing import StandardScaler\n",
    "\n",
    "%matplotlib inline\n",
    "import matplotlib.pyplot as plt\n",
    "\n",
    "from collections import defaultdict\n",
    "\n",
    "import twokenize \n",
    "import HTMLParser"
   ]
  },
  {
   "cell_type": "code",
   "execution_count": 15,
   "metadata": {
    "collapsed": true
   },
   "outputs": [],
   "source": [
    "with open('./data/tweets_1M.json','r') as f:\n",
    "    tweets = json.load(f)"
   ]
  },
  {
   "cell_type": "code",
   "execution_count": 16,
   "metadata": {
    "collapsed": false
   },
   "outputs": [
    {
     "data": {
      "text/html": [
       "<div>\n",
       "<table border=\"1\" class=\"dataframe\">\n",
       "  <thead>\n",
       "    <tr style=\"text-align: right;\">\n",
       "      <th></th>\n",
       "      <th>id</th>\n",
       "      <th>lat</th>\n",
       "      <th>lng</th>\n",
       "      <th>text</th>\n",
       "      <th>timeStamp</th>\n",
       "      <th>user_id</th>\n",
       "    </tr>\n",
       "  </thead>\n",
       "  <tbody>\n",
       "    <tr>\n",
       "      <th>30</th>\n",
       "      <td>377653831934705664</td>\n",
       "      <td>34.125987</td>\n",
       "      <td>-117.990605</td>\n",
       "      <td>😂😂😂 RT @Yours_Truly3x: Bitch brush yoo mouth</td>\n",
       "      <td>Wed Sep 11 04:44:24 +0000 2013</td>\n",
       "      <td>108769611</td>\n",
       "    </tr>\n",
       "    <tr>\n",
       "      <th>31</th>\n",
       "      <td>377653836804288512</td>\n",
       "      <td>36.920730</td>\n",
       "      <td>-121.744991</td>\n",
       "      <td>@hello_emmelie you know girl. Emmelie let me s...</td>\n",
       "      <td>Wed Sep 11 04:44:25 +0000 2013</td>\n",
       "      <td>1049702996</td>\n",
       "    </tr>\n",
       "    <tr>\n",
       "      <th>32</th>\n",
       "      <td>377653839312465920</td>\n",
       "      <td>37.723981</td>\n",
       "      <td>-122.484290</td>\n",
       "      <td>In the 90's actresses didn't wear bras... #cha...</td>\n",
       "      <td>Wed Sep 11 04:44:26 +0000 2013</td>\n",
       "      <td>38926916</td>\n",
       "    </tr>\n",
       "    <tr>\n",
       "      <th>33</th>\n",
       "      <td>377653845650051072</td>\n",
       "      <td>37.783569</td>\n",
       "      <td>-122.212397</td>\n",
       "      <td>\" you deserve your name on a crown , on a thro...</td>\n",
       "      <td>Wed Sep 11 04:44:27 +0000 2013</td>\n",
       "      <td>230608737</td>\n",
       "    </tr>\n",
       "    <tr>\n",
       "      <th>34</th>\n",
       "      <td>377653846467952640</td>\n",
       "      <td>37.717741</td>\n",
       "      <td>-122.153800</td>\n",
       "      <td>Thank goodness for CPT days 👍</td>\n",
       "      <td>Wed Sep 11 04:44:28 +0000 2013</td>\n",
       "      <td>876663008</td>\n",
       "    </tr>\n",
       "    <tr>\n",
       "      <th>35</th>\n",
       "      <td>377653847717871616</td>\n",
       "      <td>34.185616</td>\n",
       "      <td>-116.399403</td>\n",
       "      <td>Yay my cat is cuddling with me tonight❤</td>\n",
       "      <td>Wed Sep 11 04:44:28 +0000 2013</td>\n",
       "      <td>526041822</td>\n",
       "    </tr>\n",
       "    <tr>\n",
       "      <th>36</th>\n",
       "      <td>377653854109978624</td>\n",
       "      <td>37.348083</td>\n",
       "      <td>-120.569948</td>\n",
       "      <td>Fake people suck...😖</td>\n",
       "      <td>Wed Sep 11 04:44:29 +0000 2013</td>\n",
       "      <td>28348907</td>\n",
       "    </tr>\n",
       "    <tr>\n",
       "      <th>37</th>\n",
       "      <td>377653857146634240</td>\n",
       "      <td>37.620391</td>\n",
       "      <td>-122.090301</td>\n",
       "      <td>Lol now that's it's winter almost... hahaa...</td>\n",
       "      <td>Wed Sep 11 04:44:30 +0000 2013</td>\n",
       "      <td>814226478</td>\n",
       "    </tr>\n",
       "    <tr>\n",
       "      <th>38</th>\n",
       "      <td>377653857394098176</td>\n",
       "      <td>37.577402</td>\n",
       "      <td>-122.323459</td>\n",
       "      <td>I tried to change the subject so I said some c...</td>\n",
       "      <td>Wed Sep 11 04:44:30 +0000 2013</td>\n",
       "      <td>1329849811</td>\n",
       "    </tr>\n",
       "    <tr>\n",
       "      <th>39</th>\n",
       "      <td>377653857364758530</td>\n",
       "      <td>37.758516</td>\n",
       "      <td>-121.980800</td>\n",
       "      <td>@teamroshe just made my day better thanks guys...</td>\n",
       "      <td>Wed Sep 11 04:44:30 +0000 2013</td>\n",
       "      <td>232122031</td>\n",
       "    </tr>\n",
       "  </tbody>\n",
       "</table>\n",
       "</div>"
      ],
      "text/plain": [
       "                    id        lat         lng  \\\n",
       "30  377653831934705664  34.125987 -117.990605   \n",
       "31  377653836804288512  36.920730 -121.744991   \n",
       "32  377653839312465920  37.723981 -122.484290   \n",
       "33  377653845650051072  37.783569 -122.212397   \n",
       "34  377653846467952640  37.717741 -122.153800   \n",
       "35  377653847717871616  34.185616 -116.399403   \n",
       "36  377653854109978624  37.348083 -120.569948   \n",
       "37  377653857146634240  37.620391 -122.090301   \n",
       "38  377653857394098176  37.577402 -122.323459   \n",
       "39  377653857364758530  37.758516 -121.980800   \n",
       "\n",
       "                                                 text  \\\n",
       "30    😂😂😂 RT @Yours_Truly3x: Bitch brush yoo mouth   \n",
       "31  @hello_emmelie you know girl. Emmelie let me s...   \n",
       "32  In the 90's actresses didn't wear bras... #cha...   \n",
       "33  \" you deserve your name on a crown , on a thro...   \n",
       "34                     Thank goodness for CPT days 👍   \n",
       "35            Yay my cat is cuddling with me tonight❤   \n",
       "36                              Fake people suck...😖   \n",
       "37      Lol now that's it's winter almost... hahaa...   \n",
       "38  I tried to change the subject so I said some c...   \n",
       "39  @teamroshe just made my day better thanks guys...   \n",
       "\n",
       "                         timeStamp     user_id  \n",
       "30  Wed Sep 11 04:44:24 +0000 2013   108769611  \n",
       "31  Wed Sep 11 04:44:25 +0000 2013  1049702996  \n",
       "32  Wed Sep 11 04:44:26 +0000 2013    38926916  \n",
       "33  Wed Sep 11 04:44:27 +0000 2013   230608737  \n",
       "34  Wed Sep 11 04:44:28 +0000 2013   876663008  \n",
       "35  Wed Sep 11 04:44:28 +0000 2013   526041822  \n",
       "36  Wed Sep 11 04:44:29 +0000 2013    28348907  \n",
       "37  Wed Sep 11 04:44:30 +0000 2013   814226478  \n",
       "38  Wed Sep 11 04:44:30 +0000 2013  1329849811  \n",
       "39  Wed Sep 11 04:44:30 +0000 2013   232122031  "
      ]
     },
     "execution_count": 16,
     "metadata": {},
     "output_type": "execute_result"
    }
   ],
   "source": [
    "#subset_tweets[:5]\n",
    "tweet_df = DataFrame(tweets)\n",
    "tweet_df[30:40]"
   ]
  },
  {
   "cell_type": "code",
   "execution_count": 17,
   "metadata": {
    "collapsed": true
   },
   "outputs": [],
   "source": [
    "samples = (\n",
    "    u\"RT @ #happyfuncoding: this is a typical Twitter tweet😖\",\n",
    "    u\"😂😂😂 RT @Yours_Truly3x: Bitch brush yoo mouth; other Web oddities can be an &aacute;cute <em class='grumpy'>pain</em> >:(\",\n",
    "    u\"Yay my cat is cuddling🔫 with me tonight❤ +1 (800) 123-4567, (800) 123-4567, and 123-4567 are treated as words despite their whitespace.\"\n",
    ")"
   ]
  },
  {
   "cell_type": "code",
   "execution_count": 30,
   "metadata": {
    "collapsed": false
   },
   "outputs": [
    {
     "ename": "NameError",
     "evalue": "global name 'HTMLParser' is not defined",
     "output_type": "error",
     "traceback": [
      "\u001b[0;31m---------------------------------------------------------------------------\u001b[0m",
      "\u001b[0;31mNameError\u001b[0m                                 Traceback (most recent call last)",
      "\u001b[0;32m<ipython-input-30-b4344753496b>\u001b[0m in \u001b[0;36m<module>\u001b[0;34m()\u001b[0m\n\u001b[1;32m      1\u001b[0m \u001b[0;32mfor\u001b[0m \u001b[0msent\u001b[0m \u001b[0;32min\u001b[0m \u001b[0msamples\u001b[0m\u001b[0;34m:\u001b[0m\u001b[0;34m\u001b[0m\u001b[0m\n\u001b[0;32m----> 2\u001b[0;31m     \u001b[0;32mprint\u001b[0m \u001b[0mtwokenize\u001b[0m\u001b[0;34m.\u001b[0m\u001b[0mtokenizeRawTweetText\u001b[0m\u001b[0;34m(\u001b[0m\u001b[0msent\u001b[0m\u001b[0;34m)\u001b[0m\u001b[0;34m\u001b[0m\u001b[0m\n\u001b[0m",
      "\u001b[0;32m/Users/carlo_liquido/Dropbox/Berkeley_MIMS/Fall_2015/256_NLP/Emojineering/twokenize.pyc\u001b[0m in \u001b[0;36mtokenizeRawTweetText\u001b[0;34m(text)\u001b[0m\n\u001b[1;32m    295\u001b[0m \u001b[0;31m# substrings of the original text.\u001b[0m\u001b[0;34m\u001b[0m\u001b[0;34m\u001b[0m\u001b[0m\n\u001b[1;32m    296\u001b[0m \u001b[0;32mdef\u001b[0m \u001b[0mtokenizeRawTweetText\u001b[0m\u001b[0;34m(\u001b[0m\u001b[0mtext\u001b[0m\u001b[0;34m)\u001b[0m\u001b[0;34m:\u001b[0m\u001b[0;34m\u001b[0m\u001b[0m\n\u001b[0;32m--> 297\u001b[0;31m     \u001b[0mtokens\u001b[0m \u001b[0;34m=\u001b[0m \u001b[0mtokenize\u001b[0m\u001b[0;34m(\u001b[0m\u001b[0mnormalizeTextForTagger\u001b[0m\u001b[0;34m(\u001b[0m\u001b[0mtext\u001b[0m\u001b[0;34m)\u001b[0m\u001b[0;34m)\u001b[0m\u001b[0;34m\u001b[0m\u001b[0m\n\u001b[0m\u001b[1;32m    298\u001b[0m     \u001b[0;32mreturn\u001b[0m \u001b[0mtokens\u001b[0m\u001b[0;34m\u001b[0m\u001b[0m\n\u001b[1;32m    299\u001b[0m \u001b[0;34m\u001b[0m\u001b[0m\n",
      "\u001b[0;32m/Users/carlo_liquido/Dropbox/Berkeley_MIMS/Fall_2015/256_NLP/Emojineering/twokenize.pyc\u001b[0m in \u001b[0;36mnormalizeTextForTagger\u001b[0;34m(text)\u001b[0m\n\u001b[1;32m    286\u001b[0m \u001b[0;32mdef\u001b[0m \u001b[0mnormalizeTextForTagger\u001b[0m\u001b[0;34m(\u001b[0m\u001b[0mtext\u001b[0m\u001b[0;34m)\u001b[0m\u001b[0;34m:\u001b[0m\u001b[0;34m\u001b[0m\u001b[0m\n\u001b[1;32m    287\u001b[0m     \u001b[0mtext\u001b[0m \u001b[0;34m=\u001b[0m \u001b[0mtext\u001b[0m\u001b[0;34m.\u001b[0m\u001b[0mreplace\u001b[0m\u001b[0;34m(\u001b[0m\u001b[0;34m\"&amp;\"\u001b[0m\u001b[0;34m,\u001b[0m \u001b[0;34m\"&\"\u001b[0m\u001b[0;34m)\u001b[0m\u001b[0;34m\u001b[0m\u001b[0m\n\u001b[0;32m--> 288\u001b[0;31m     \u001b[0mtext\u001b[0m \u001b[0;34m=\u001b[0m \u001b[0mhp\u001b[0m\u001b[0;34m.\u001b[0m\u001b[0munescape\u001b[0m\u001b[0;34m(\u001b[0m\u001b[0mtext\u001b[0m\u001b[0;34m)\u001b[0m\u001b[0;34m\u001b[0m\u001b[0m\n\u001b[0m\u001b[1;32m    289\u001b[0m     \u001b[0;32mreturn\u001b[0m \u001b[0mtext\u001b[0m\u001b[0;34m\u001b[0m\u001b[0m\n\u001b[1;32m    290\u001b[0m \u001b[0;34m\u001b[0m\u001b[0m\n",
      "\u001b[0;31mNameError\u001b[0m: global name 'HTMLParser' is not defined"
     ]
    }
   ],
   "source": [
    "for sent in samples:\n",
    "    print twokenize.tokenizeRawTweetText(sent)"
   ]
  },
  {
   "cell_type": "code",
   "execution_count": 31,
   "metadata": {
    "collapsed": true
   },
   "outputs": [],
   "source": [
    "def normalizeTextForTagger(text):\n",
    "    text = text.replace(\"&amp;\", \"&\")\n",
    "    text = hp.unescape(text)\n",
    "    return text"
   ]
  },
  {
   "cell_type": "code",
   "execution_count": null,
   "metadata": {
    "collapsed": true
   },
   "outputs": [],
   "source": [
    "for sent in samples:\n",
    "    normalizeTextForTagger(sent)"
   ]
  }
 ],
 "metadata": {
  "kernelspec": {
   "display_name": "Python 2",
   "language": "python",
   "name": "python2"
  },
  "language_info": {
   "codemirror_mode": {
    "name": "ipython",
    "version": 2
   },
   "file_extension": ".py",
   "mimetype": "text/x-python",
   "name": "python",
   "nbconvert_exporter": "python",
   "pygments_lexer": "ipython2",
   "version": "2.7.10"
  }
 },
 "nbformat": 4,
 "nbformat_minor": 0
}
