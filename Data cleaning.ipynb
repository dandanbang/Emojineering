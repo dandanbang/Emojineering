{
 "cells": [
  {
   "cell_type": "markdown",
   "metadata": {},
   "source": [
    "#Data cleaning"
   ]
  },
  {
   "cell_type": "markdown",
   "metadata": {},
   "source": [
    "Data cleaning steps:\n",
    "- replace @ handles with: hdl (chose a word with no punctuation so no extra step is needed to process, hdl = handle)\n",
    "- replace urls by: url\n",
    "- replace emoticons with corresponding emojis\n",
    "\n",
    "\n",
    "For all of these, first check what is the prevalence and if it is worth the effort. \n",
    "\n",
    "Ideas:\n",
    "- split hashtags into words\n",
    "    - Some people seperate words in hashtags with capitals. Make it much easier to seperate. \n",
    "- replace contractions\n",
    "- spellchecking\n",
    "- what does quoted messages mean? Someone quoting somebody else? Should we consider this text or remove it? \n",
    "- there are some smileys that are still in punctuation and not in unicode, eg :-P, :-)\n",
    "- Tweets not in english\n",
    "- Character ngram will probably be more efficient due to the really low quality of speach\n",
    "- Retweets have two formats:\n",
    "    - Either finish with RT &lt;content of retweet>\n",
    "    - OR \"&lt;content of retweet>\" &lt;content of tweet>\n",
    "    - Can also have mutliple embedings with “ for second level. E.g. : \n",
    "\"@letwerkaaaaa: “@Palmira_0: HAHA WHEN I WAS LITTLE I WAS FAT AS FUCK:joy:” Same I was so fat that they thought my vagina was a dick\" LMFAO\n",
    "    - For now will leave them here. We might have to consider while training if it is retweeted content or original content. Actually impacts the single response rate, ie when people just add an emoji to a tweet (as in the emoji is the sole content) "
   ]
  },
  {
   "cell_type": "code",
   "execution_count": 57,
   "metadata": {
    "collapsed": true
   },
   "outputs": [],
   "source": [
    "import json\n",
    "import numpy as np\n",
    "import matplotlib.pyplot as plt\n",
    "%matplotlib inline\n",
    "\n",
    "import pandas as pd\n",
    "pd.options.display.max_colwidth = 140\n",
    "import nltk\n",
    "import re"
   ]
  },
  {
   "cell_type": "code",
   "execution_count": 58,
   "metadata": {
    "collapsed": true
   },
   "outputs": [],
   "source": [
    "with open('./data/tweets_1M.json','r') as f:\n",
    "    tweets_df = pd.DataFrame(json.load(f))\n",
    "clean_tweets_df = pd.DataFrame(tweets_df[\"text\"])\n",
    "# del tweets_df"
   ]
  },
  {
   "cell_type": "markdown",
   "metadata": {},
   "source": [
    "### Replace @ handles with hdl"
   ]
  },
  {
   "cell_type": "markdown",
   "metadata": {},
   "source": [
    "No \"hdl\" words for confusion in the txt. Good replacement name. \n",
    "\n",
    "Best to replace handles with \"\\ hdl\\ \", so for tokenization it will be easier to identify as a word. "
   ]
  },
  {
   "cell_type": "code",
   "execution_count": 59,
   "metadata": {
    "collapsed": false,
    "scrolled": false
   },
   "outputs": [
    {
     "name": "stdout",
     "output_type": "stream",
     "text": [
      "367031 handles replaced\n"
     ]
    },
    {
     "data": {
      "text/html": [
       "<div>\n",
       "<table border=\"1\" class=\"dataframe\">\n",
       "  <thead>\n",
       "    <tr style=\"text-align: right;\">\n",
       "      <th></th>\n",
       "      <th>text</th>\n",
       "    </tr>\n",
       "  </thead>\n",
       "  <tbody>\n",
       "    <tr>\n",
       "      <th>10757</th>\n",
       "      <td>work in 6 hours god daym</td>\n",
       "    </tr>\n",
       "    <tr>\n",
       "      <th>396412</th>\n",
       "      <td>Wow ! You just liked them physically , and that's just wrong</td>\n",
       "    </tr>\n",
       "    <tr>\n",
       "      <th>511881</th>\n",
       "      <td>I want to read TFIOS again. #augustuswaterswannabe</td>\n",
       "    </tr>\n",
       "    <tr>\n",
       "      <th>837173</th>\n",
       "      <td>​ hdl  I wish I was far away from Congress as you are.</td>\n",
       "    </tr>\n",
       "    <tr>\n",
       "      <th>920737</th>\n",
       "      <td>I've been wanting it for a while now. 😏</td>\n",
       "    </tr>\n",
       "    <tr>\n",
       "      <th>652375</th>\n",
       "      <td>hdl  he said \"I'm drinking\" lol</td>\n",
       "    </tr>\n",
       "    <tr>\n",
       "      <th>156578</th>\n",
       "      <td>hdl  its good tell them Niggas to see me in 7on7</td>\n",
       "    </tr>\n",
       "    <tr>\n",
       "      <th>50306</th>\n",
       "      <td>When I hear babydoll I think of Danny... So it's weird if someone else says it. Haha</td>\n",
       "    </tr>\n",
       "    <tr>\n",
       "      <th>80700</th>\n",
       "      <td>The crowd sang happy birthday 👍 thanks guys!</td>\n",
       "    </tr>\n",
       "    <tr>\n",
       "      <th>694633</th>\n",
       "      <td>What is social life?</td>\n",
       "    </tr>\n",
       "  </tbody>\n",
       "</table>\n",
       "</div>"
      ],
      "text/plain": [
       "                                                                                        text\n",
       "10757                                                               work in 6 hours god daym\n",
       "396412                          Wow ! You just liked them physically , and that's just wrong\n",
       "511881                                    I want to read TFIOS again. #augustuswaterswannabe\n",
       "837173                                ​ hdl  I wish I was far away from Congress as you are.\n",
       "920737                                               I've been wanting it for a while now. 😏\n",
       "652375                                                       hdl  he said \"I'm drinking\" lol\n",
       "156578                                      hdl  its good tell them Niggas to see me in 7on7\n",
       "50306   When I hear babydoll I think of Danny... So it's weird if someone else says it. Haha\n",
       "80700                                           The crowd sang happy birthday 👍 thanks guys!\n",
       "694633                                                                  What is social life?"
      ]
     },
     "execution_count": 59,
     "metadata": {},
     "output_type": "execute_result"
    }
   ],
   "source": [
    "pattern = r\"@[a-zA-Z0-9_]{1,15}\" #from http://kagan.mactane.org/blog/2009/09/22/what-characters-are-allowed-in-twitter-usernames/\n",
    "print(\"{} handles replaced\".format(np.sum(clean_tweets_df.text.str.contains(pattern).values)))\n",
    "clean_tweets_df.text = clean_tweets_df.text.str.replace(pattern, \" hdl \")\n",
    "clean_tweets_df.sample(10)"
   ]
  },
  {
   "cell_type": "markdown",
   "metadata": {},
   "source": [
    "### Replace URLs with url"
   ]
  },
  {
   "cell_type": "markdown",
   "metadata": {},
   "source": [
    "URLs are quiet well formed and are generally at the end of tweets. No risk of engulfing in the cleaning some more text after the url.\n",
    "\n",
    "keyword url is used only 4 times in dataset, no risk of confusion"
   ]
  },
  {
   "cell_type": "code",
   "execution_count": 60,
   "metadata": {
    "collapsed": false,
    "scrolled": true
   },
   "outputs": [
    {
     "name": "stdout",
     "output_type": "stream",
     "text": [
      "227446 urls replaced\n"
     ]
    },
    {
     "data": {
      "text/html": [
       "<div>\n",
       "<table border=\"1\" class=\"dataframe\">\n",
       "  <thead>\n",
       "    <tr style=\"text-align: right;\">\n",
       "      <th></th>\n",
       "      <th>text</th>\n",
       "    </tr>\n",
       "  </thead>\n",
       "  <tbody>\n",
       "    <tr>\n",
       "      <th>761455</th>\n",
       "      <td>hdl  Stomping Grounds with Foxtails Brigade and Feed Me Jack at The Crepe Place (October 4, 2013):...  url</td>\n",
       "    </tr>\n",
       "    <tr>\n",
       "      <th>576156</th>\n",
       "      <td>Take me back to the other night &amp;lt;3</td>\n",
       "    </tr>\n",
       "    <tr>\n",
       "      <th>214573</th>\n",
       "      <td>“ hdl : #TweetYourWeakness Nice tips”</td>\n",
       "    </tr>\n",
       "    <tr>\n",
       "      <th>509600</th>\n",
       "      <td>I can't deal with Whiny babies 😭🙅</td>\n",
       "    </tr>\n",
       "    <tr>\n",
       "      <th>489798</th>\n",
       "      <td>I'm still thinking about that poodle from yesterday</td>\n",
       "    </tr>\n",
       "    <tr>\n",
       "      <th>549081</th>\n",
       "      <td>#aceandjig #thisjustin #newnewnew @ mira mira  url</td>\n",
       "    </tr>\n",
       "    <tr>\n",
       "      <th>810982</th>\n",
       "      <td>Ain't nothing like riding on the bridge smoking on some good weed #1700block @ San Francisco-Oakland…  url</td>\n",
       "    </tr>\n",
       "    <tr>\n",
       "      <th>674863</th>\n",
       "      <td>“ hdl :  hdl  oh princess court”💁</td>\n",
       "    </tr>\n",
       "    <tr>\n",
       "      <th>287468</th>\n",
       "      <td>I'm tweeting this from the GTA V phone👌😏👌</td>\n",
       "    </tr>\n",
       "    <tr>\n",
       "      <th>399297</th>\n",
       "      <td>💕 \"LOVERS IN THE PARKING LOT\" video 💕 @ The Westin St. Francis San Francisco on Union Square  url</td>\n",
       "    </tr>\n",
       "  </tbody>\n",
       "</table>\n",
       "</div>"
      ],
      "text/plain": [
       "                                                                                                                text\n",
       "761455   hdl  Stomping Grounds with Foxtails Brigade and Feed Me Jack at The Crepe Place (October 4, 2013):...  url \n",
       "576156                                                                         Take me back to the other night &lt;3\n",
       "214573                                                                         “ hdl : #TweetYourWeakness Nice tips”\n",
       "509600                                                                             I can't deal with Whiny babies 😭🙅\n",
       "489798                                                           I'm still thinking about that poodle from yesterday\n",
       "549081                                                           #aceandjig #thisjustin #newnewnew @ mira mira  url \n",
       "810982   Ain't nothing like riding on the bridge smoking on some good weed #1700block @ San Francisco-Oakland…  url \n",
       "674863                                                                             “ hdl :  hdl  oh princess court”💁\n",
       "287468                                                                     I'm tweeting this from the GTA V phone👌😏👌\n",
       "399297            💕 \"LOVERS IN THE PARKING LOT\" video 💕 @ The Westin St. Francis San Francisco on Union Square  url "
      ]
     },
     "execution_count": 60,
     "metadata": {},
     "output_type": "execute_result"
    }
   ],
   "source": [
    "pattern = r\"http://\\S+\"\n",
    "print(\"{} urls replaced\".format(np.sum(clean_tweets_df.text.str.contains(pattern).values)))\n",
    "clean_tweets_df.text = clean_tweets_df.text.str.replace(pattern, \" url \")\n",
    "clean_tweets_df.sample(10)"
   ]
  },
  {
   "cell_type": "markdown",
   "metadata": {},
   "source": [
    "### Convert emoticons to emojis"
   ]
  },
  {
   "cell_type": "code",
   "execution_count": 61,
   "metadata": {
    "collapsed": false
   },
   "outputs": [],
   "source": [
    "# Based on:\n",
    "# https://slack.zendesk.com/hc/en-us/articles/202931348-Emoji-and-emoticons\n",
    "# http://unicodey.com/emoji-data/table.htm\n",
    "# http://www.unicode.org/emoji/charts/emoji-list.html\n",
    "\n",
    "emoticon2emoji = {\n",
    "    r\"<3\": \"\\u2764\",\n",
    "    r\"</3\": \"\\U0001F494\",\n",
    "    r\"8\\)\": \"\\U0001F60E\",\n",
    "    r\"D:\": \"\\U0001F627\",\n",
    "    r\":'\\(\": \"\\U0001F622\",\n",
    "    r\":o\\)\": \"\\U0001F435\",\n",
    "    r\":-*\\*\": \"\\U0001F48B\",\n",
    "    r\"=-*\\)\": \"\\U0001F600\",\n",
    "    r\":-*D\": \"\\U0001F600\",\n",
    "    r\";-*\\)\": \"\\U0001F609\",\n",
    "    r\":-*>\": \"\\U0001F606\",\n",
    "    r\":-*\\|\": \"\\U0001F610\",\n",
    "    r\":-*[Oo]\": \"\\U0001F62E\",\n",
    "    r\">:-*\\(\": \"\\U0001F620\",\n",
    "    r\":-*\\)|\\(:\": \"\\U0001F603\",\n",
    "    r\":-*\\(|\\):\": \"\\U0001F61E\",\n",
    "    r\":-*[/\\\\]\": \"\\U0001F615\",\n",
    "    r\":-*[PpbB]\": \"\\U0001F61B\",\n",
    "    r\";-*[PpbB]\": \"\\U0001F61C\"\n",
    "}"
   ]
  },
  {
   "cell_type": "code",
   "execution_count": 62,
   "metadata": {
    "collapsed": false
   },
   "outputs": [
    {
     "name": "stdout",
     "output_type": "stream",
     "text": [
      ":-*\\*      ->     💋\n",
      ":-*D       ->     😀\n",
      "</3        ->     💔\n",
      ":-*\\(|\\):  ->     😞\n",
      ":'\\(       ->     😢\n",
      ";-*[PpbB]  ->     😜\n",
      ":-*[PpbB]  ->     😛\n",
      ":-*\\|      ->     😐\n",
      ":-*[Oo]    ->     😮\n",
      "D:         ->     😧\n",
      ">:-*\\(     ->     😠\n",
      ":-*[/\\\\]   ->     😕\n",
      "8\\)        ->     😎\n",
      ":-*>       ->     😆\n",
      ":-*\\)|\\(:  ->     😃\n",
      ";-*\\)      ->     😉\n",
      "=-*\\)      ->     😀\n",
      "<3         ->     ❤\n",
      ":o\\)       ->     🐵\n"
     ]
    }
   ],
   "source": [
    "for emoticon in emoticon2emoji:\n",
    "    print(\"{:10} -> {:>5}\".format(emoticon, emoticon2emoji[emoticon]))"
   ]
  },
  {
   "cell_type": "code",
   "execution_count": 63,
   "metadata": {
    "collapsed": false
   },
   "outputs": [
    {
     "name": "stdout",
     "output_type": "stream",
     "text": [
      "💋   replaced    287 times\n",
      "😀   replaced   1533 times\n",
      "💔   replaced      0 times\n",
      "😞   replaced   5763 times\n",
      "😢   replaced    341 times\n",
      "😜   replaced    329 times\n",
      "😛   replaced   1167 times\n",
      "😐   replaced     92 times\n",
      "😮   replaced    364 times\n",
      "😧   replaced    205 times\n",
      "😠   replaced      0 times\n",
      "😕   replaced   7436 times\n",
      "😎   replaced    109 times\n",
      "😆   replaced      0 times\n",
      "😃   replaced  15655 times\n",
      "😉   replaced   3357 times\n",
      "😀   replaced    209 times\n",
      "❤   replaced      0 times\n",
      "🐵   replaced      0 times\n",
      "ALL replaced 36847 times\n"
     ]
    }
   ],
   "source": [
    "total = 0\n",
    "for emoticon in emoticon2emoji:\n",
    "    nreplacements = np.sum(clean_tweets_df.text.str.contains(emoticon).values)\n",
    "    total += nreplacements\n",
    "    print(\"{:3} replaced {:6} times\".format(emoticon2emoji[emoticon], nreplacements))\n",
    "    clean_tweets_df.text = clean_tweets_df.text.str.replace(emoticon, emoticon2emoji[emoticon])\n",
    "print(\"{:3} replaced {} times\".format(\"ALL\", total))"
   ]
  },
  {
   "cell_type": "markdown",
   "metadata": {},
   "source": [
    "### Explore retweets"
   ]
  },
  {
   "cell_type": "code",
   "execution_count": 70,
   "metadata": {
    "collapsed": false,
    "scrolled": true
   },
   "outputs": [
    {
     "name": "stdout",
     "output_type": "stream",
     "text": [
      "There are 50202 retweets\n"
     ]
    },
    {
     "data": {
      "text/html": [
       "<div>\n",
       "<table border=\"1\" class=\"dataframe\">\n",
       "  <thead>\n",
       "    <tr style=\"text-align: right;\">\n",
       "      <th></th>\n",
       "      <th>text</th>\n",
       "    </tr>\n",
       "  </thead>\n",
       "  <tbody>\n",
       "    <tr>\n",
       "      <th>197770</th>\n",
       "      <td>“ hdl :  hdl   hdl   like I said immature” you act like I care though? 💁 Id rather be immature than basic like you</td>\n",
       "    </tr>\n",
       "    <tr>\n",
       "      <th>387539</th>\n",
       "      <td>Baaaaby! 😢 RT \" hdl : Yes, I can't stop thinking about you.\"</td>\n",
       "    </tr>\n",
       "    <tr>\n",
       "      <th>978011</th>\n",
       "      <td>Can't wait 😍“ hdl : fishing tomorrow with  hdl  🎣☀️”</td>\n",
       "    </tr>\n",
       "    <tr>\n",
       "      <th>169658</th>\n",
       "      <td>“ hdl : OMFG WHEN YOU CLICK ON IT... 😳  url</td>\n",
       "    </tr>\n",
       "    <tr>\n",
       "      <th>146390</th>\n",
       "      <td>Long day bro “ hdl :  hdl  me too”</td>\n",
       "    </tr>\n",
       "    <tr>\n",
       "      <th>210819</th>\n",
       "      <td>“ hdl : I wish you guys could smell how appetizing my weed smells. Girl Scout cookies is my favorite.”animal cookies 🍪</td>\n",
       "    </tr>\n",
       "    <tr>\n",
       "      <th>143131</th>\n",
       "      <td>😂😂😂 RT  hdl : My girlfriend got have some type of booty, I can't mess with that hank hill ass.</td>\n",
       "    </tr>\n",
       "    <tr>\n",
       "      <th>530529</th>\n",
       "      <td>“ hdl : TWEET PA GUYS!!! Hihihi. 😀)) #G2BWhatDoWeMeanToEachOther -jemina”</td>\n",
       "    </tr>\n",
       "    <tr>\n",
       "      <th>72077</th>\n",
       "      <td>“ hdl : I feel so alone on a Friday night🎶”</td>\n",
       "    </tr>\n",
       "    <tr>\n",
       "      <th>838312</th>\n",
       "      <td>Wtf😂😂😂 im not asian and i dont have a 6 pack“ hdl : dayum!!!  hdl  is that u?! (O.o) lol  url</td>\n",
       "    </tr>\n",
       "  </tbody>\n",
       "</table>\n",
       "</div>"
      ],
      "text/plain": [
       "                                                                                                                          text\n",
       "197770      “ hdl :  hdl   hdl   like I said immature” you act like I care though? 💁 Id rather be immature than basic like you\n",
       "387539                                                            Baaaaby! 😢 RT \" hdl : Yes, I can't stop thinking about you.\"\n",
       "978011                                                                    Can't wait 😍“ hdl : fishing tomorrow with  hdl  🎣☀️”\n",
       "169658                                                                            “ hdl : OMFG WHEN YOU CLICK ON IT... 😳  url \n",
       "146390                                                                                      Long day bro “ hdl :  hdl  me too”\n",
       "210819  “ hdl : I wish you guys could smell how appetizing my weed smells. Girl Scout cookies is my favorite.”animal cookies 🍪\n",
       "143131                          😂😂😂 RT  hdl : My girlfriend got have some type of booty, I can't mess with that hank hill ass.\n",
       "530529                                               “ hdl : TWEET PA GUYS!!! Hihihi. 😀)) #G2BWhatDoWeMeanToEachOther -jemina”\n",
       "72077                                                                              “ hdl : I feel so alone on a Friday night🎶”\n",
       "838312                          Wtf😂😂😂 im not asian and i dont have a 6 pack“ hdl : dayum!!!  hdl  is that u?! (O.o) lol  url "
      ]
     },
     "execution_count": 70,
     "metadata": {},
     "output_type": "execute_result"
    }
   ],
   "source": [
    "pattern = r\"\"\"(?:\\W|^)RT(?:[ \\\":“]|$)| # Retweets with RT keyword\n",
    "            [\\\"“]\\s*hdl                # Retweets with quotes\"\"\"\n",
    "temp = clean_tweets_df.text.str.contains(pattern, flags=re.X)\n",
    "print(\"There are {} retweets\".format(np.sum(temp.values)))\n",
    "clean_tweets_df[temp].sample(10)"
   ]
  },
  {
   "cell_type": "markdown",
   "metadata": {},
   "source": [
    "###Twitter hashtags"
   ]
  },
  {
   "cell_type": "code",
   "execution_count": null,
   "metadata": {
    "collapsed": true
   },
   "outputs": [],
   "source": []
  }
 ],
 "metadata": {
  "kernelspec": {
   "display_name": "Python 3",
   "language": "python",
   "name": "python3"
  },
  "language_info": {
   "codemirror_mode": {
    "name": "ipython",
    "version": 3
   },
   "file_extension": ".py",
   "mimetype": "text/x-python",
   "name": "python",
   "nbconvert_exporter": "python",
   "pygments_lexer": "ipython3",
   "version": "3.3.5"
  }
 },
 "nbformat": 4,
 "nbformat_minor": 0
}
