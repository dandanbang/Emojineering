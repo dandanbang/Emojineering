{
 "cells": [
  {
   "cell_type": "markdown",
   "metadata": {},
   "source": [
    "#Load Library "
   ]
  },
  {
   "cell_type": "code",
   "execution_count": 1,
   "metadata": {
    "collapsed": false
   },
   "outputs": [],
   "source": [
    "## import all necessary packages\n",
    "import json\n",
    "import re\n",
    "import pandas as pd\n",
    "\n",
    "import nltk, string\n",
    "from nltk.collocations import *\n",
    "\n",
    "import numpy as np\n",
    "import matplotlib.pyplot as plt\n",
    "\n",
    "from pandas import *\n",
    "\n",
    "from collections import defaultdict\n",
    "\n",
    "import data_cleaning_hr as tc\n",
    "\n",
    "import string\n",
    "import happyfuntokenizing"
   ]
  },
  {
   "cell_type": "markdown",
   "metadata": {},
   "source": [
    "#Load Data"
   ]
  },
  {
   "cell_type": "code",
   "execution_count": 74,
   "metadata": {
    "collapsed": false
   },
   "outputs": [],
   "source": [
    "with open('./data/tweets_training_clean.json','r') as f:\n",
    "    tweet_df = DataFrame(json.load(f))"
   ]
  },
  {
   "cell_type": "markdown",
   "metadata": {},
   "source": [
    "#Clean Data (Handle, URL, Emoticon Conversion)"
   ]
  },
  {
   "cell_type": "code",
   "execution_count": 3,
   "metadata": {
    "collapsed": false
   },
   "outputs": [
    {
     "name": "stdout",
     "output_type": "stream",
     "text": [
      "293672 handles replaced\n",
      "187643 urls replaced\n",
      ":-*\\(|\\):  ->     😞 replaced   4600 times\n",
      "</3        ->     💔 replaced      0 times\n",
      ":-*\\|      ->     😐 replaced     70 times\n",
      "8\\)        ->     😎 replaced     81 times\n",
      ":-*>       ->     😆 replaced      0 times\n",
      ":-*\\)|\\(:  ->     😃 replaced  12516 times\n",
      ";-*\\)      ->     😉 replaced   2688 times\n",
      ":-*[PpbB]  ->     😛 replaced    962 times\n",
      "=-*\\)      ->     😀 replaced    174 times\n",
      ":-*[/\\\\]   ->     😕 replaced   1571 times\n",
      ":-*\\*      ->     💋 replaced    238 times\n",
      ":'\\(       ->     😢 replaced    263 times\n",
      ":-*D       ->     😀 replaced   1220 times\n",
      ";-*[PpbB]  ->     😜 replaced    263 times\n",
      ">:-*\\(     ->     😠 replaced      0 times\n",
      ":-*[Oo]    ->     😮 replaced    295 times\n",
      ":o\\)       ->     🐵 replaced      0 times\n",
      "D:         ->     😧 replaced    160 times\n",
      "<3         ->     ❤ replaced      0 times\n",
      "ALL replaced 25101 times\n",
      "834937 retweets processed\n"
     ]
    },
    {
     "data": {
      "text/html": [
       "<div>\n",
       "<table border=\"1\" class=\"dataframe\">\n",
       "  <thead>\n",
       "    <tr style=\"text-align: right;\">\n",
       "      <th></th>\n",
       "      <th>id</th>\n",
       "      <th>lat</th>\n",
       "      <th>lng</th>\n",
       "      <th>text</th>\n",
       "      <th>timeStamp</th>\n",
       "      <th>user_id</th>\n",
       "      <th>retweet</th>\n",
       "    </tr>\n",
       "  </thead>\n",
       "  <tbody>\n",
       "    <tr>\n",
       "      <th>0</th>\n",
       "      <td>383560784879833088</td>\n",
       "      <td>37.369106</td>\n",
       "      <td>-121.998494</td>\n",
       "      <td>I'm at SEPTEMBER♥ (Sunnyvale, CA)  url</td>\n",
       "      <td>Fri Sep 27 11:56:31 +0000 2013</td>\n",
       "      <td>47880944</td>\n",
       "      <td>NaN</td>\n",
       "    </tr>\n",
       "    <tr>\n",
       "      <th>1</th>\n",
       "      <td>385148713460453376</td>\n",
       "      <td>37.002203</td>\n",
       "      <td>-122.058052</td>\n",
       "      <td>oops. fell asleep in the library. class started at 2.</td>\n",
       "      <td>Tue Oct 01 21:06:23 +0000 2013</td>\n",
       "      <td>259008472</td>\n",
       "      <td>NaN</td>\n",
       "    </tr>\n",
       "    <tr>\n",
       "      <th>10</th>\n",
       "      <td>380062755639676928</td>\n",
       "      <td>37.438669</td>\n",
       "      <td>-121.879072</td>\n",
       "      <td>hdl  you told me your birthday yourself 2chainz lol</td>\n",
       "      <td>Tue Sep 17 20:16:36 +0000 2013</td>\n",
       "      <td>630468267</td>\n",
       "      <td>NaN</td>\n",
       "    </tr>\n",
       "    <tr>\n",
       "      <th>100</th>\n",
       "      <td>384797380198928384</td>\n",
       "      <td>37.299621</td>\n",
       "      <td>-121.982024</td>\n",
       "      <td>She throw it back like Thursday</td>\n",
       "      <td>Mon Sep 30 21:50:19 +0000 2013</td>\n",
       "      <td>272108001</td>\n",
       "      <td>NaN</td>\n",
       "    </tr>\n",
       "    <tr>\n",
       "      <th>1000</th>\n",
       "      <td>383691693767143425</td>\n",
       "      <td>39.137889</td>\n",
       "      <td>-121.658646</td>\n",
       "      <td>Not ready for this exam</td>\n",
       "      <td>Fri Sep 27 20:36:43 +0000 2013</td>\n",
       "      <td>790458278</td>\n",
       "      <td>NaN</td>\n",
       "    </tr>\n",
       "  </tbody>\n",
       "</table>\n",
       "</div>"
      ],
      "text/plain": [
       "                      id        lat         lng  \\\n",
       "0     383560784879833088  37.369106 -121.998494   \n",
       "1     385148713460453376  37.002203 -122.058052   \n",
       "10    380062755639676928  37.438669 -121.879072   \n",
       "100   384797380198928384  37.299621 -121.982024   \n",
       "1000  383691693767143425  39.137889 -121.658646   \n",
       "\n",
       "                                                       text  \\\n",
       "0                   I'm at SEPTEMBER♥ (Sunnyvale, CA)  url    \n",
       "1     oops. fell asleep in the library. class started at 2.   \n",
       "10      hdl  you told me your birthday yourself 2chainz lol   \n",
       "100                         She throw it back like Thursday   \n",
       "1000                                Not ready for this exam   \n",
       "\n",
       "                           timeStamp    user_id retweet  \n",
       "0     Fri Sep 27 11:56:31 +0000 2013   47880944     NaN  \n",
       "1     Tue Oct 01 21:06:23 +0000 2013  259008472     NaN  \n",
       "10    Tue Sep 17 20:16:36 +0000 2013  630468267     NaN  \n",
       "100   Mon Sep 30 21:50:19 +0000 2013  272108001     NaN  \n",
       "1000  Fri Sep 27 20:36:43 +0000 2013  790458278     NaN  "
      ]
     },
     "execution_count": 3,
     "metadata": {},
     "output_type": "execute_result"
    }
   ],
   "source": [
    "tc.clean(tweet_df)\n",
    "tweet_df.head()"
   ]
  },
  {
   "cell_type": "markdown",
   "metadata": {},
   "source": [
    "#Emoji Finder"
   ]
  },
  {
   "cell_type": "code",
   "execution_count": 4,
   "metadata": {
    "collapsed": true
   },
   "outputs": [],
   "source": [
    "try:\n",
    "    # Wide UCS-4 build\n",
    "    highpoints = re.compile(u'['\n",
    "        u'\\U0001F300-\\U0001F64F'\n",
    "        u'\\U0001F680-\\U0001F6FF'\n",
    "        u'\\u2600-\\u26FF\\u2700-\\u27BF]+', \n",
    "        re.UNICODE)\n",
    "except re.error:\n",
    "    # Narrow UCS-2 build\n",
    "    highpoints = re.compile(u'('\n",
    "        u'\\ud83c[\\udf00-\\udfff]|'\n",
    "        u'\\ud83d[\\udc00-\\ude4f\\ude80-\\udeff]|'\n",
    "        u'[\\u2600-\\u26FF\\u2700-\\u27BF])+', \n",
    "        re.UNICODE)"
   ]
  },
  {
   "cell_type": "code",
   "execution_count": 5,
   "metadata": {
    "collapsed": false
   },
   "outputs": [],
   "source": [
    "faces = re.compile(u'['\n",
    "        u'\\U0001F600-\\U0001F64F]',\n",
    "        re.UNICODE)\n",
    "# Function that takes a list of text and return text that contains just faces\n",
    "def just_face(text):\n",
    "    return (faces.findall(text))\n",
    "# Function that take a list of text and return text with just emojis\n",
    "def just_emojis(text):\n",
    "    return (highpoints.findall(text))\n",
    "# Function that a list of text and return the number of emojis in the text.\n",
    "def count_emojis(text):\n",
    "    return len(highpoints.findall(text))\n",
    "\n",
    "# Functions to check whether there's an emoji in the text, return 1 if true, 0 if false\n",
    "def is_emoji(text):\n",
    "    if highpoints.search(text):\n",
    "        return 1\n",
    "    else:\n",
    "        return 0\n",
    "\n",
    "    # Functions to check whether there's a face emoji in the text, return 1 if true, 0 if false\n",
    "def is_face(text):\n",
    "    if faces.search(text):\n",
    "        return 1\n",
    "    else:\n",
    "        return 0"
   ]
  },
  {
   "cell_type": "markdown",
   "metadata": {},
   "source": [
    "##Fidning out the Average Emoji Count and Text length"
   ]
  },
  {
   "cell_type": "code",
   "execution_count": 8,
   "metadata": {
    "collapsed": false
   },
   "outputs": [
    {
     "data": {
      "text/html": [
       "<div>\n",
       "<table border=\"1\" class=\"dataframe\">\n",
       "  <thead>\n",
       "    <tr style=\"text-align: right;\">\n",
       "      <th></th>\n",
       "      <th>id</th>\n",
       "      <th>user_id</th>\n",
       "      <th>Emoji Count</th>\n",
       "      <th>Text Length</th>\n",
       "    </tr>\n",
       "  </thead>\n",
       "  <tbody>\n",
       "    <tr>\n",
       "      <th>count</th>\n",
       "      <td>2.082520e+05</td>\n",
       "      <td>2.082520e+05</td>\n",
       "      <td>208252.000000</td>\n",
       "      <td>208252.000000</td>\n",
       "    </tr>\n",
       "    <tr>\n",
       "      <th>mean</th>\n",
       "      <td>3.822541e+17</td>\n",
       "      <td>5.198651e+08</td>\n",
       "      <td>1.122659</td>\n",
       "      <td>53.161506</td>\n",
       "    </tr>\n",
       "    <tr>\n",
       "      <th>std</th>\n",
       "      <td>2.378889e+15</td>\n",
       "      <td>4.612050e+08</td>\n",
       "      <td>0.603226</td>\n",
       "      <td>33.193435</td>\n",
       "    </tr>\n",
       "    <tr>\n",
       "      <th>min</th>\n",
       "      <td>3.776523e+17</td>\n",
       "      <td>2.100000e+01</td>\n",
       "      <td>1.000000</td>\n",
       "      <td>1.000000</td>\n",
       "    </tr>\n",
       "    <tr>\n",
       "      <th>25%</th>\n",
       "      <td>3.801828e+17</td>\n",
       "      <td>1.499460e+08</td>\n",
       "      <td>1.000000</td>\n",
       "      <td>27.000000</td>\n",
       "    </tr>\n",
       "    <tr>\n",
       "      <th>50%</th>\n",
       "      <td>3.823091e+17</td>\n",
       "      <td>3.852509e+08</td>\n",
       "      <td>1.000000</td>\n",
       "      <td>46.000000</td>\n",
       "    </tr>\n",
       "    <tr>\n",
       "      <th>75%</th>\n",
       "      <td>3.843753e+17</td>\n",
       "      <td>7.546697e+08</td>\n",
       "      <td>1.000000</td>\n",
       "      <td>75.000000</td>\n",
       "    </tr>\n",
       "    <tr>\n",
       "      <th>max</th>\n",
       "      <td>3.863382e+17</td>\n",
       "      <td>1.934553e+09</td>\n",
       "      <td>70.000000</td>\n",
       "      <td>214.000000</td>\n",
       "    </tr>\n",
       "  </tbody>\n",
       "</table>\n",
       "</div>"
      ],
      "text/plain": [
       "                 id       user_id    Emoji Count    Text Length\n",
       "count  2.082520e+05  2.082520e+05  208252.000000  208252.000000\n",
       "mean   3.822541e+17  5.198651e+08       1.122659      53.161506\n",
       "std    2.378889e+15  4.612050e+08       0.603226      33.193435\n",
       "min    3.776523e+17  2.100000e+01       1.000000       1.000000\n",
       "25%    3.801828e+17  1.499460e+08       1.000000      27.000000\n",
       "50%    3.823091e+17  3.852509e+08       1.000000      46.000000\n",
       "75%    3.843753e+17  7.546697e+08       1.000000      75.000000\n",
       "max    3.863382e+17  1.934553e+09      70.000000     214.000000"
      ]
     },
     "execution_count": 8,
     "metadata": {},
     "output_type": "execute_result"
    }
   ],
   "source": [
    "emoji_df[\"Emoji Count\"] = emoji_df[\"text\"].apply(count_emojis)\n",
    "emoji_df[\"Text Length\"] = emoji_df[\"text\"].apply(lambda x: len(x))\n",
    "emoji_df = emoji_df[['id', 'text', 'timeStamp', 'user_id', 'Emoji Count', 'Text Length']]\n",
    "emoji_df.describe()"
   ]
  },
  {
   "cell_type": "markdown",
   "metadata": {},
   "source": [
    "## Exploring Emoji vs no Emoji (20% Text has Emojis, 15% has face)"
   ]
  },
  {
   "cell_type": "markdown",
   "metadata": {},
   "source": [
    "###Functions to check whether it's emoji or face"
   ]
  },
  {
   "cell_type": "code",
   "execution_count": 73,
   "metadata": {
    "collapsed": false
   },
   "outputs": [
    {
     "data": {
      "text/html": [
       "<div>\n",
       "<table border=\"1\" class=\"dataframe\">\n",
       "  <thead>\n",
       "    <tr style=\"text-align: right;\">\n",
       "      <th></th>\n",
       "      <th>id</th>\n",
       "      <th>lat</th>\n",
       "      <th>lng</th>\n",
       "      <th>text</th>\n",
       "      <th>timeStamp</th>\n",
       "      <th>user_id</th>\n",
       "      <th>is_emoji</th>\n",
       "      <th>is_face</th>\n",
       "    </tr>\n",
       "  </thead>\n",
       "  <tbody>\n",
       "    <tr>\n",
       "      <th>0</th>\n",
       "      <td>377652254096228352</td>\n",
       "      <td>37.446100</td>\n",
       "      <td>-121.883557</td>\n",
       "      <td>hdl  hey checkout the website:  url</td>\n",
       "      <td>Wed Sep 11 04:38:08 +0000 2013</td>\n",
       "      <td>224874450</td>\n",
       "      <td>0</td>\n",
       "      <td>0</td>\n",
       "    </tr>\n",
       "    <tr>\n",
       "      <th>1</th>\n",
       "      <td>377652255346159616</td>\n",
       "      <td>34.087406</td>\n",
       "      <td>-117.462604</td>\n",
       "      <td>hdl  😪</td>\n",
       "      <td>Wed Sep 11 04:38:08 +0000 2013</td>\n",
       "      <td>312179473</td>\n",
       "      <td>1</td>\n",
       "      <td>1</td>\n",
       "    </tr>\n",
       "    <tr>\n",
       "      <th>2</th>\n",
       "      <td>377652262325456897</td>\n",
       "      <td>37.356131</td>\n",
       "      <td>-121.842867</td>\n",
       "      <td>i laugh a lot with that line</td>\n",
       "      <td>Wed Sep 11 04:38:10 +0000 2013</td>\n",
       "      <td>54351774</td>\n",
       "      <td>0</td>\n",
       "      <td>0</td>\n",
       "    </tr>\n",
       "    <tr>\n",
       "      <th>3</th>\n",
       "      <td>377652264682655744</td>\n",
       "      <td>37.364664</td>\n",
       "      <td>-122.009629</td>\n",
       "      <td>sons of anarchy is back on woop woop</td>\n",
       "      <td>Wed Sep 11 04:38:11 +0000 2013</td>\n",
       "      <td>343219606</td>\n",
       "      <td>0</td>\n",
       "      <td>0</td>\n",
       "    </tr>\n",
       "    <tr>\n",
       "      <th>4</th>\n",
       "      <td>377652271116722176</td>\n",
       "      <td>37.382600</td>\n",
       "      <td>-121.995000</td>\n",
       "      <td>Drinking a Fresh Squeezed IPA by  hdl  @ St. John's Bar &amp;amp; Grill —  url</td>\n",
       "      <td>Wed Sep 11 04:38:12 +0000 2013</td>\n",
       "      <td>1569395935</td>\n",
       "      <td>0</td>\n",
       "      <td>0</td>\n",
       "    </tr>\n",
       "  </tbody>\n",
       "</table>\n",
       "</div>"
      ],
      "text/plain": [
       "                   id        lat         lng  \\\n",
       "0  377652254096228352  37.446100 -121.883557   \n",
       "1  377652255346159616  34.087406 -117.462604   \n",
       "2  377652262325456897  37.356131 -121.842867   \n",
       "3  377652264682655744  37.364664 -122.009629   \n",
       "4  377652271116722176  37.382600 -121.995000   \n",
       "\n",
       "                                                                          text  \\\n",
       "0                                         hdl  hey checkout the website:  url    \n",
       "1                                                                       hdl  😪   \n",
       "2                                                 i laugh a lot with that line   \n",
       "3                                         sons of anarchy is back on woop woop   \n",
       "4  Drinking a Fresh Squeezed IPA by  hdl  @ St. John's Bar &amp; Grill —  url    \n",
       "\n",
       "                        timeStamp     user_id  is_emoji  is_face  \n",
       "0  Wed Sep 11 04:38:08 +0000 2013   224874450         0        0  \n",
       "1  Wed Sep 11 04:38:08 +0000 2013   312179473         1        1  \n",
       "2  Wed Sep 11 04:38:10 +0000 2013    54351774         0        0  \n",
       "3  Wed Sep 11 04:38:11 +0000 2013   343219606         0        0  \n",
       "4  Wed Sep 11 04:38:12 +0000 2013  1569395935         0        0  "
      ]
     },
     "execution_count": 73,
     "metadata": {},
     "output_type": "execute_result"
    }
   ],
   "source": [
    "tweet_df[\"is_emoji\"] = tweet_df.text.apply(is_emoji)\n",
    "tweet_df[\"is_face\"] = tweet_df.text.apply(is_face)\n",
    "tweet_df.head()"
   ]
  },
  {
   "cell_type": "code",
   "execution_count": 25,
   "metadata": {
    "collapsed": false
   },
   "outputs": [
    {
     "data": {
      "text/html": [
       "<div>\n",
       "<table border=\"1\" class=\"dataframe\">\n",
       "  <thead>\n",
       "    <tr style=\"text-align: right;\">\n",
       "      <th></th>\n",
       "      <th>id</th>\n",
       "      <th>lat</th>\n",
       "      <th>lng</th>\n",
       "      <th>user_id</th>\n",
       "      <th>is_emoji</th>\n",
       "      <th>is_face</th>\n",
       "    </tr>\n",
       "  </thead>\n",
       "  <tbody>\n",
       "    <tr>\n",
       "      <th>count</th>\n",
       "      <td>1.000000e+06</td>\n",
       "      <td>1000000.000000</td>\n",
       "      <td>1000000.000000</td>\n",
       "      <td>1.000000e+06</td>\n",
       "      <td>1000000.000000</td>\n",
       "      <td>1000000.000000</td>\n",
       "    </tr>\n",
       "    <tr>\n",
       "      <th>mean</th>\n",
       "      <td>3.822416e+17</td>\n",
       "      <td>37.241980</td>\n",
       "      <td>-121.533430</td>\n",
       "      <td>4.961052e+09</td>\n",
       "      <td>0.208252</td>\n",
       "      <td>0.154146</td>\n",
       "    </tr>\n",
       "    <tr>\n",
       "      <th>std</th>\n",
       "      <td>2.370783e+15</td>\n",
       "      <td>1.333404</td>\n",
       "      <td>1.542418</td>\n",
       "      <td>4.503597e+12</td>\n",
       "      <td>0.406058</td>\n",
       "      <td>0.361089</td>\n",
       "    </tr>\n",
       "    <tr>\n",
       "      <th>min</th>\n",
       "      <td>3.776523e+17</td>\n",
       "      <td>12.983300</td>\n",
       "      <td>-170.296751</td>\n",
       "      <td>1.200000e+01</td>\n",
       "      <td>0.000000</td>\n",
       "      <td>0.000000</td>\n",
       "    </tr>\n",
       "    <tr>\n",
       "      <th>25%</th>\n",
       "      <td>3.801867e+17</td>\n",
       "      <td>37.320896</td>\n",
       "      <td>-122.350934</td>\n",
       "      <td>7.382110e+07</td>\n",
       "      <td>0.000000</td>\n",
       "      <td>0.000000</td>\n",
       "    </tr>\n",
       "    <tr>\n",
       "      <th>50%</th>\n",
       "      <td>3.822777e+17</td>\n",
       "      <td>37.656377</td>\n",
       "      <td>-122.043733</td>\n",
       "      <td>3.188787e+08</td>\n",
       "      <td>0.000000</td>\n",
       "      <td>0.000000</td>\n",
       "    </tr>\n",
       "    <tr>\n",
       "      <th>75%</th>\n",
       "      <td>3.843437e+17</td>\n",
       "      <td>37.790622</td>\n",
       "      <td>-121.785433</td>\n",
       "      <td>6.229686e+08</td>\n",
       "      <td>0.000000</td>\n",
       "      <td>0.000000</td>\n",
       "    </tr>\n",
       "    <tr>\n",
       "      <th>max</th>\n",
       "      <td>3.887526e+17</td>\n",
       "      <td>57.170120</td>\n",
       "      <td>77.583300</td>\n",
       "      <td>4.503597e+15</td>\n",
       "      <td>1.000000</td>\n",
       "      <td>1.000000</td>\n",
       "    </tr>\n",
       "  </tbody>\n",
       "</table>\n",
       "</div>"
      ],
      "text/plain": [
       "                 id             lat             lng       user_id  \\\n",
       "count  1.000000e+06  1000000.000000  1000000.000000  1.000000e+06   \n",
       "mean   3.822416e+17       37.241980     -121.533430  4.961052e+09   \n",
       "std    2.370783e+15        1.333404        1.542418  4.503597e+12   \n",
       "min    3.776523e+17       12.983300     -170.296751  1.200000e+01   \n",
       "25%    3.801867e+17       37.320896     -122.350934  7.382110e+07   \n",
       "50%    3.822777e+17       37.656377     -122.043733  3.188787e+08   \n",
       "75%    3.843437e+17       37.790622     -121.785433  6.229686e+08   \n",
       "max    3.887526e+17       57.170120       77.583300  4.503597e+15   \n",
       "\n",
       "             is_emoji         is_face  \n",
       "count  1000000.000000  1000000.000000  \n",
       "mean         0.208252        0.154146  \n",
       "std          0.406058        0.361089  \n",
       "min          0.000000        0.000000  \n",
       "25%          0.000000        0.000000  \n",
       "50%          0.000000        0.000000  \n",
       "75%          0.000000        0.000000  \n",
       "max          1.000000        1.000000  "
      ]
     },
     "execution_count": 25,
     "metadata": {},
     "output_type": "execute_result"
    }
   ],
   "source": [
    "tweet_df.describe()"
   ]
  },
  {
   "cell_type": "markdown",
   "metadata": {},
   "source": [
    "##Take a look at the imported tokenizer and test it"
   ]
  },
  {
   "cell_type": "code",
   "execution_count": 6,
   "metadata": {
    "collapsed": false
   },
   "outputs": [],
   "source": [
    "tok = happyfuntokenizing.TweetTokenizer(preserve_case=False)\n",
    "samples = (\n",
    "    u\"RT @ #happyfuncoding: this is a typical Twitter tweet😖\",\n",
    "    u\"😂😂😂 RT @Yours_Truly3x: Bitch brush yoo mouth; other Web oddities can be an &aacute;cute <em class='grumpy'>pain</em> >:(\",\n",
    "    u\"Yay my cat is cuddling🔫 with me tonight❤ +1 (800) 123-4567, (800) 123-4567, and 123-4567 are treated as words despite their whitespace.\"\n",
    "    )"
   ]
  },
  {
   "cell_type": "code",
   "execution_count": 31,
   "metadata": {
    "collapsed": false
   },
   "outputs": [
    {
     "name": "stdout",
     "output_type": "stream",
     "text": [
      "======================================================================\n",
      "RT @ #happyfuncoding: this is a typical Twitter tweet😖\n",
      "['rt', '@', '#happyfuncoding', ':', 'this', 'is', 'a', 'typical', 'twitter', 'tweet', '😖']\n",
      "\n",
      "\n",
      "======================================================================\n",
      "😂😂😂 RT @Yours_Truly3x: Bitch brush yoo mouth; other Web oddities can be an &aacute;cute <em class='grumpy'>pain</em> >:(\n",
      "['😂', '😂', '😂', 'rt', '@yours_truly3x', ':', 'bitch', 'brush', 'yoo', 'mouth', ';', 'other', 'web', 'oddities', 'can', 'be', 'an', 'ácute', \"<em class='grumpy'>\", 'pain', '</em>', '>:(']\n",
      "\n",
      "\n",
      "======================================================================\n",
      "Yay my cat is cuddling🔫 with me tonight❤ +1 (800) 123-4567, (800) 123-4567, and 123-4567 are treated as words despite their whitespace.\n",
      "['yay', 'my', 'cat', 'is', 'cuddling', '🔫', 'with', 'me', 'tonight', '❤', '+1 (800) 123-4567', ',', '(800) 123-4567', ',', 'and', '123-4567', 'are', 'treated', 'as', 'words', 'despite', 'their', 'whitespace', '.']\n",
      "\n",
      "\n"
     ]
    }
   ],
   "source": [
    "for s in samples:\n",
    "        print(\"======================================================================\")\n",
    "        print(s)\n",
    "        tokenized = tok.tokenize(s)\n",
    "        print(list(tokenized))\n",
    "        print(\"\\n\")"
   ]
  },
  {
   "cell_type": "markdown",
   "metadata": {},
   "source": [
    "#Add a new column that display just the emojis for the text"
   ]
  },
  {
   "cell_type": "code",
   "execution_count": 20,
   "metadata": {
    "collapsed": false
   },
   "outputs": [
    {
     "data": {
      "text/plain": [
       "'hdl not funny! Sad  bye money . Now you have to drive me places Donna'"
      ]
     },
     "execution_count": 20,
     "metadata": {},
     "output_type": "execute_result"
    }
   ],
   "source": [
    "ex = 'hdl not funny! Sad 😞😭 bye money 💸. Now you have to drive me places Donna'\n",
    "def textExtract(sent):\n",
    "    return ''.join([word for word in sent if is_emoji(word) == 0])\n",
    "\n",
    "def emojiExtract(sent):\n",
    "    return [word for word in tok.tokenize(sent) if is_emoji(word) == 1]\n",
    "\n",
    "textExtract(ex)"
   ]
  },
  {
   "cell_type": "markdown",
   "metadata": {},
   "source": [
    "##Functions to extact emoji, text, and tokenize"
   ]
  },
  {
   "cell_type": "code",
   "execution_count": 7,
   "metadata": {
    "collapsed": false
   },
   "outputs": [],
   "source": [
    "def emojiExtract(sent):\n",
    "    return [word for word in tok.tokenize(sent) if is_emoji(word) == 1]\n",
    "\n",
    "def textExtract(sent):\n",
    "    return ''.join([word for word in sent if is_emoji(word) == 0])\n",
    "\n",
    "def addTokenizedText(df):\n",
    "    def textTokenized(sent):\n",
    "        return [word for word in tok.tokenize(sent)]\n",
    "    df['Tokenized'] = [textTokenized(word) for word in df.text]\n",
    "\n",
    "def addEmojiCol(df):\n",
    "    df['Emoji'] = [emojiExtract(word) for word in df.text]\n",
    "\n",
    "def addText(df):\n",
    "    df['only_Text'] = [textExtract(word) for word in df.text]\n",
    "\n",
    "def addHashTag(df):\n",
    "    df['only_HashTag'] = [re.findall(r\"(#\\w+)\", word) for word in df.text]"
   ]
  },
  {
   "cell_type": "markdown",
   "metadata": {},
   "source": [
    "## Functions to Split the Emojis"
   ]
  },
  {
   "cell_type": "code",
   "execution_count": 71,
   "metadata": {
    "collapsed": true
   },
   "outputs": [],
   "source": [
    "def splitTextEmoji(df):\n",
    "    def emojiExtract(sent):\n",
    "        return [word for word in tok.tokenize(sent) if is_emoji(word) == 1]\n",
    "\n",
    "    def textExtract(sent):\n",
    "        return ''.join([word for word in sent if is_emoji(word) == 0])\n",
    "\n",
    "    def addEmoji(df):\n",
    "        df['only_Emoji'] = [emojiExtract(word) for word in df.text]\n",
    "\n",
    "    def addText(df):\n",
    "        df['only_Text'] = [textExtract(word) for word in df.text]\n",
    "    \n",
    "    addText(df)\n",
    "    addEmoji(df)\n",
    "    return"
   ]
  },
  {
   "cell_type": "code",
   "execution_count": 40,
   "metadata": {
    "collapsed": false
   },
   "outputs": [
    {
     "data": {
      "text/html": [
       "<div>\n",
       "<table border=\"1\" class=\"dataframe\">\n",
       "  <thead>\n",
       "    <tr style=\"text-align: right;\">\n",
       "      <th></th>\n",
       "      <th>id</th>\n",
       "      <th>lat</th>\n",
       "      <th>lng</th>\n",
       "      <th>text</th>\n",
       "      <th>timeStamp</th>\n",
       "      <th>user_id</th>\n",
       "      <th>retweet</th>\n",
       "      <th>Emoji</th>\n",
       "      <th>only_Text</th>\n",
       "      <th>Tokenized</th>\n",
       "    </tr>\n",
       "  </thead>\n",
       "  <tbody>\n",
       "    <tr>\n",
       "      <th>0</th>\n",
       "      <td>377652254096228352</td>\n",
       "      <td>37.446100</td>\n",
       "      <td>-121.883557</td>\n",
       "      <td>hdl  hey checkout the website:  url</td>\n",
       "      <td>Wed Sep 11 04:38:08 +0000 2013</td>\n",
       "      <td>224874450</td>\n",
       "      <td>NaN</td>\n",
       "      <td>[]</td>\n",
       "      <td>[hdl, hey, checkout, the, website, :, url]</td>\n",
       "      <td>[hdl, hey, checkout, the, website, :, url]</td>\n",
       "    </tr>\n",
       "    <tr>\n",
       "      <th>1</th>\n",
       "      <td>377652255346159616</td>\n",
       "      <td>34.087406</td>\n",
       "      <td>-117.462604</td>\n",
       "      <td>hdl  😪</td>\n",
       "      <td>Wed Sep 11 04:38:08 +0000 2013</td>\n",
       "      <td>312179473</td>\n",
       "      <td>NaN</td>\n",
       "      <td>[😪]</td>\n",
       "      <td>[hdl]</td>\n",
       "      <td>[hdl, 😪]</td>\n",
       "    </tr>\n",
       "    <tr>\n",
       "      <th>2</th>\n",
       "      <td>377652262325456897</td>\n",
       "      <td>37.356131</td>\n",
       "      <td>-121.842867</td>\n",
       "      <td>i laugh a lot with that line</td>\n",
       "      <td>Wed Sep 11 04:38:10 +0000 2013</td>\n",
       "      <td>54351774</td>\n",
       "      <td>NaN</td>\n",
       "      <td>[]</td>\n",
       "      <td>[i, laugh, a, lot, with, that, line]</td>\n",
       "      <td>[i, laugh, a, lot, with, that, line]</td>\n",
       "    </tr>\n",
       "    <tr>\n",
       "      <th>3</th>\n",
       "      <td>377652264682655744</td>\n",
       "      <td>37.364664</td>\n",
       "      <td>-122.009629</td>\n",
       "      <td>sons of anarchy is back on woop woop</td>\n",
       "      <td>Wed Sep 11 04:38:11 +0000 2013</td>\n",
       "      <td>343219606</td>\n",
       "      <td>NaN</td>\n",
       "      <td>[]</td>\n",
       "      <td>[sons, of, anarchy, is, back, on, woop, woop]</td>\n",
       "      <td>[sons, of, anarchy, is, back, on, woop, woop]</td>\n",
       "    </tr>\n",
       "    <tr>\n",
       "      <th>4</th>\n",
       "      <td>377652271116722176</td>\n",
       "      <td>37.382600</td>\n",
       "      <td>-121.995000</td>\n",
       "      <td>Drinking a Fresh Squeezed IPA by  hdl  @ St. John's Bar &amp;amp; Grill —  url</td>\n",
       "      <td>Wed Sep 11 04:38:12 +0000 2013</td>\n",
       "      <td>1569395935</td>\n",
       "      <td>NaN</td>\n",
       "      <td>[]</td>\n",
       "      <td>[drinking, a, fresh, squeezed, ipa, by, hdl, @, st, ., john's, bar, &amp;, amp, ;, grill, —, url]</td>\n",
       "      <td>[drinking, a, fresh, squeezed, ipa, by, hdl, @, st, ., john's, bar, &amp;, amp, ;, grill, —, url]</td>\n",
       "    </tr>\n",
       "  </tbody>\n",
       "</table>\n",
       "</div>"
      ],
      "text/plain": [
       "                   id        lat         lng  \\\n",
       "0  377652254096228352  37.446100 -121.883557   \n",
       "1  377652255346159616  34.087406 -117.462604   \n",
       "2  377652262325456897  37.356131 -121.842867   \n",
       "3  377652264682655744  37.364664 -122.009629   \n",
       "4  377652271116722176  37.382600 -121.995000   \n",
       "\n",
       "                                                                          text  \\\n",
       "0                                         hdl  hey checkout the website:  url    \n",
       "1                                                                       hdl  😪   \n",
       "2                                                 i laugh a lot with that line   \n",
       "3                                         sons of anarchy is back on woop woop   \n",
       "4  Drinking a Fresh Squeezed IPA by  hdl  @ St. John's Bar &amp; Grill —  url    \n",
       "\n",
       "                        timeStamp     user_id retweet Emoji  \\\n",
       "0  Wed Sep 11 04:38:08 +0000 2013   224874450     NaN    []   \n",
       "1  Wed Sep 11 04:38:08 +0000 2013   312179473     NaN   [😪]   \n",
       "2  Wed Sep 11 04:38:10 +0000 2013    54351774     NaN    []   \n",
       "3  Wed Sep 11 04:38:11 +0000 2013   343219606     NaN    []   \n",
       "4  Wed Sep 11 04:38:12 +0000 2013  1569395935     NaN    []   \n",
       "\n",
       "                                                                                       only_Text  \\\n",
       "0                                                     [hdl, hey, checkout, the, website, :, url]   \n",
       "1                                                                                          [hdl]   \n",
       "2                                                           [i, laugh, a, lot, with, that, line]   \n",
       "3                                                  [sons, of, anarchy, is, back, on, woop, woop]   \n",
       "4  [drinking, a, fresh, squeezed, ipa, by, hdl, @, st, ., john's, bar, &, amp, ;, grill, —, url]   \n",
       "\n",
       "                                                                                       Tokenized  \n",
       "0                                                     [hdl, hey, checkout, the, website, :, url]  \n",
       "1                                                                                       [hdl, 😪]  \n",
       "2                                                           [i, laugh, a, lot, with, that, line]  \n",
       "3                                                  [sons, of, anarchy, is, back, on, woop, woop]  \n",
       "4  [drinking, a, fresh, squeezed, ipa, by, hdl, @, st, ., john's, bar, &, amp, ;, grill, —, url]  "
      ]
     },
     "execution_count": 40,
     "metadata": {},
     "output_type": "execute_result"
    }
   ],
   "source": [
    "addEmojiCol(tweet_df)\n",
    "addText(tweet_df)\n",
    "addTokenizedText(tweet_df)\n",
    "addHashTag(tweet_df)\n",
    "addTokenizedText(tweet_df)\n",
    "tweet_df.head()"
   ]
  },
  {
   "cell_type": "markdown",
   "metadata": {},
   "source": [
    "# Word2Vec Trained Model with Twitter Corpus"
   ]
  },
  {
   "cell_type": "code",
   "execution_count": 1,
   "metadata": {
    "collapsed": true
   },
   "outputs": [],
   "source": [
    "import gensim\n",
    "from gensim.models import Word2Vec"
   ]
  },
  {
   "cell_type": "code",
   "execution_count": 2,
   "metadata": {
    "collapsed": false
   },
   "outputs": [],
   "source": [
    "#emoji_model = gensim.models.Word2Vec(list(tweet_df.Tokenized))\n",
    "# It might take some time to train the model. So, after it is trained, it can be saved as follows:\n",
    "#emoji_model.save('emoji.embedding')\n",
    "emoji_model = gensim.models.Word2Vec.load('emoji.embedding')"
   ]
  },
  {
   "cell_type": "code",
   "execution_count": 15,
   "metadata": {
    "collapsed": false
   },
   "outputs": [
    {
     "data": {
      "text/plain": [
       "[('💁', 0.4806186556816101),\n",
       " ('👋', 0.34049510955810547),\n",
       " ('🙆', 0.29769474267959595),\n",
       " ('👉', 0.2918941378593445),\n",
       " ('inner', 0.29165148735046387),\n",
       " ('😙', 0.2791195809841156),\n",
       " ('🙍', 0.27740317583084106),\n",
       " ('👈', 0.2638785243034363),\n",
       " ('alert', 0.2621900141239166),\n",
       " ('🙉', 0.26103898882865906)]"
      ]
     },
     "execution_count": 15,
     "metadata": {},
     "output_type": "execute_result"
    }
   ],
   "source": [
    "emoji_model.most_similar(positive = ['🙋'], negative = [], topn = 10)"
   ]
  },
  {
   "cell_type": "code",
   "execution_count": 233,
   "metadata": {
    "collapsed": false
   },
   "outputs": [
    {
     "data": {
      "text/plain": [
       "151"
      ]
     },
     "execution_count": 233,
     "metadata": {},
     "output_type": "execute_result"
    }
   ],
   "source": [
    "len(tweet_df[tweet_df.text.str.contains(r'#bye')])"
   ]
  },
  {
   "cell_type": "markdown",
   "metadata": {},
   "source": [
    "#How many Hashtags? 155979"
   ]
  },
  {
   "cell_type": "code",
   "execution_count": 454,
   "metadata": {
    "collapsed": false
   },
   "outputs": [
    {
     "data": {
      "text/plain": [
       "id              155979\n",
       "lat             155979\n",
       "lng             155979\n",
       "text            155979\n",
       "timeStamp       155979\n",
       "user_id         155979\n",
       "is_emoji        155979\n",
       "is_face         155979\n",
       "Emoji           155979\n",
       "only_Text       155979\n",
       "only_HashTag    155979\n",
       "Tokenized       155979\n",
       "dtype: int64"
      ]
     },
     "execution_count": 454,
     "metadata": {},
     "output_type": "execute_result"
    }
   ],
   "source": [
    "tweet_df[tweet_df.only_HashTag.str.len() != 0].count(0)"
   ]
  }
 ],
 "metadata": {
  "kernelspec": {
   "display_name": "Python 3",
   "language": "python",
   "name": "python3"
  },
  "language_info": {
   "codemirror_mode": {
    "name": "ipython",
    "version": 3
   },
   "file_extension": ".py",
   "mimetype": "text/x-python",
   "name": "python",
   "nbconvert_exporter": "python",
   "pygments_lexer": "ipython3",
   "version": "3.3.5"
  }
 },
 "nbformat": 4,
 "nbformat_minor": 0
}
