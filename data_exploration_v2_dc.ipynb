{
 "cells": [
  {
   "cell_type": "markdown",
   "metadata": {},
   "source": [
    "#Load Library "
   ]
  },
  {
   "cell_type": "code",
   "execution_count": 3,
   "metadata": {
    "collapsed": false
   },
   "outputs": [
    {
     "ename": "SyntaxError",
     "evalue": "invalid syntax (data_cleaning_hr.py, line 250)",
     "output_type": "error",
     "traceback": [
      "\u001b[0;36m  File \u001b[0;32m\"./data_cleaning_hr.py\"\u001b[0;36m, line \u001b[0;32m250\u001b[0m\n\u001b[0;31m    <<<<<<< HEAD\u001b[0m\n\u001b[0m     ^\u001b[0m\n\u001b[0;31mSyntaxError\u001b[0m\u001b[0;31m:\u001b[0m invalid syntax\n"
     ]
    }
   ],
   "source": [
    "## import all necessary packages\n",
    "import json\n",
    "import re\n",
    "import pandas as pd\n",
    "\n",
    "import nltk, string\n",
    "from nltk.collocations import *\n",
    "\n",
    "import numpy as np\n",
    "import matplotlib.pyplot as plt\n",
    "\n",
    "from pandas import *\n",
    "\n",
    "from collections import defaultdict\n",
    "\n",
    "import data_cleaning_hr as tc\n",
    "\n",
    "import string\n",
    "import happyfuntokenizing"
   ]
  },
  {
   "cell_type": "markdown",
   "metadata": {},
   "source": [
    "#Load Data"
   ]
  },
  {
   "cell_type": "code",
   "execution_count": null,
   "metadata": {
    "collapsed": false
   },
   "outputs": [],
   "source": [
    "with open('./data/tweets_training.json','r') as f:\n",
    "    tweet_df = DataFrame(json.load(f))"
   ]
  },
  {
   "cell_type": "markdown",
   "metadata": {},
   "source": [
    "#Clean Data (Handle, URL, Emoticon Conversion)"
   ]
  },
  {
   "cell_type": "code",
   "execution_count": 21,
   "metadata": {
    "collapsed": true
   },
   "outputs": [
    {
     "name": "stdout",
     "output_type": "stream",
     "text": [
      "367031 handles replaced\n",
      "0 urls replaced\n",
      ":-*[Oo]    ->     😮 replaced    365 times\n",
      ":-*\\*      ->     💋 replaced    289 times\n",
      "</3        ->     💔 replaced      0 times\n",
      ":-*\\)|\\(:  ->     😃 replaced  15717 times\n",
      "D:         ->     😧 replaced    208 times\n",
      "<3         ->     ❤ replaced      0 times\n",
      ";-*\\)      ->     😉 replaced   3358 times\n",
      ":-*\\(|\\):  ->     😞 replaced   5702 times\n",
      "8\\)        ->     😎 replaced    108 times\n",
      ":-*>       ->     😆 replaced      0 times\n",
      ":-*[PpbB]  ->     😛 replaced   1165 times\n",
      "=-*\\)      ->     😀 replaced    207 times\n",
      ":-*\\|      ->     😐 replaced     92 times\n",
      ":'\\(       ->     😢 replaced    339 times\n",
      ":-*[/\\\\]   ->     😕 replaced   1960 times\n",
      ";-*[PpbB]  ->     😜 replaced    330 times\n",
      ">:-*\\(     ->     😠 replaced      0 times\n",
      ":o\\)       ->     🐵 replaced      0 times\n",
      ":-*D       ->     😀 replaced   1530 times\n",
      "ALL replaced 31370 times\n",
      "1043720 retweets processed\n"
     ]
    },
    {
     "data": {
      "text/html": [
       "<div>\n",
       "<table border=\"1\" class=\"dataframe\">\n",
       "  <thead>\n",
       "    <tr style=\"text-align: right;\">\n",
       "      <th></th>\n",
       "      <th>id</th>\n",
       "      <th>lat</th>\n",
       "      <th>lng</th>\n",
       "      <th>text</th>\n",
       "      <th>timeStamp</th>\n",
       "      <th>user_id</th>\n",
       "      <th>retweet</th>\n",
       "    </tr>\n",
       "  </thead>\n",
       "  <tbody>\n",
       "    <tr>\n",
       "      <th>0</th>\n",
       "      <td>377652254096228352</td>\n",
       "      <td>37.446100</td>\n",
       "      <td>-121.883557</td>\n",
       "      <td>hdl  hey checkout the website:  url</td>\n",
       "      <td>Wed Sep 11 04:38:08 +0000 2013</td>\n",
       "      <td>224874450</td>\n",
       "      <td>NaN</td>\n",
       "    </tr>\n",
       "    <tr>\n",
       "      <th>1</th>\n",
       "      <td>377652255346159616</td>\n",
       "      <td>34.087406</td>\n",
       "      <td>-117.462604</td>\n",
       "      <td>hdl  😪</td>\n",
       "      <td>Wed Sep 11 04:38:08 +0000 2013</td>\n",
       "      <td>312179473</td>\n",
       "      <td>NaN</td>\n",
       "    </tr>\n",
       "    <tr>\n",
       "      <th>2</th>\n",
       "      <td>377652262325456897</td>\n",
       "      <td>37.356131</td>\n",
       "      <td>-121.842867</td>\n",
       "      <td>i laugh a lot with that line</td>\n",
       "      <td>Wed Sep 11 04:38:10 +0000 2013</td>\n",
       "      <td>54351774</td>\n",
       "      <td>NaN</td>\n",
       "    </tr>\n",
       "    <tr>\n",
       "      <th>3</th>\n",
       "      <td>377652264682655744</td>\n",
       "      <td>37.364664</td>\n",
       "      <td>-122.009629</td>\n",
       "      <td>sons of anarchy is back on woop woop</td>\n",
       "      <td>Wed Sep 11 04:38:11 +0000 2013</td>\n",
       "      <td>343219606</td>\n",
       "      <td>NaN</td>\n",
       "    </tr>\n",
       "    <tr>\n",
       "      <th>4</th>\n",
       "      <td>377652271116722176</td>\n",
       "      <td>37.382600</td>\n",
       "      <td>-121.995000</td>\n",
       "      <td>Drinking a Fresh Squeezed IPA by  hdl  @ St. John's Bar &amp;amp; Grill —  url</td>\n",
       "      <td>Wed Sep 11 04:38:12 +0000 2013</td>\n",
       "      <td>1569395935</td>\n",
       "      <td>NaN</td>\n",
       "    </tr>\n",
       "  </tbody>\n",
       "</table>\n",
       "</div>"
      ],
      "text/plain": [
       "                   id        lat         lng  \\\n",
       "0  377652254096228352  37.446100 -121.883557   \n",
       "1  377652255346159616  34.087406 -117.462604   \n",
       "2  377652262325456897  37.356131 -121.842867   \n",
       "3  377652264682655744  37.364664 -122.009629   \n",
       "4  377652271116722176  37.382600 -121.995000   \n",
       "\n",
       "                                                                          text  \\\n",
       "0                                         hdl  hey checkout the website:  url    \n",
       "1                                                                       hdl  😪   \n",
       "2                                                 i laugh a lot with that line   \n",
       "3                                         sons of anarchy is back on woop woop   \n",
       "4  Drinking a Fresh Squeezed IPA by  hdl  @ St. John's Bar &amp; Grill —  url    \n",
       "\n",
       "                        timeStamp     user_id retweet  \n",
       "0  Wed Sep 11 04:38:08 +0000 2013   224874450     NaN  \n",
       "1  Wed Sep 11 04:38:08 +0000 2013   312179473     NaN  \n",
       "2  Wed Sep 11 04:38:10 +0000 2013    54351774     NaN  \n",
       "3  Wed Sep 11 04:38:11 +0000 2013   343219606     NaN  \n",
       "4  Wed Sep 11 04:38:12 +0000 2013  1569395935     NaN  "
      ]
     },
     "execution_count": 21,
     "metadata": {},
     "output_type": "execute_result"
    }
   ],
   "source": [
    "tc.cleanHandle(tweet_df)\n",
    "tc.cleanURL(tweet_df)\n",
    "tc.convertEmoticon(tweet_df)\n",
    "tc.cleanRetweets(tweet_df)\n",
    "tweet_df.head()"
   ]
  },
  {
   "cell_type": "markdown",
   "metadata": {},
   "source": [
    "#Emoji Finder"
   ]
  },
  {
   "cell_type": "code",
   "execution_count": 22,
   "metadata": {
    "collapsed": true
   },
   "outputs": [],
   "source": [
    "try:\n",
    "    # Wide UCS-4 build\n",
    "    highpoints = re.compile(u'['\n",
    "        u'\\U0001F300-\\U0001F64F'\n",
    "        u'\\U0001F680-\\U0001F6FF'\n",
    "        u'\\u2600-\\u26FF\\u2700-\\u27BF]+', \n",
    "        re.UNICODE)\n",
    "except re.error:\n",
    "    # Narrow UCS-2 build\n",
    "    highpoints = re.compile(u'('\n",
    "        u'\\ud83c[\\udf00-\\udfff]|'\n",
    "        u'\\ud83d[\\udc00-\\ude4f\\ude80-\\udeff]|'\n",
    "        u'[\\u2600-\\u26FF\\u2700-\\u27BF])+', \n",
    "        re.UNICODE)"
   ]
  },
  {
   "cell_type": "code",
   "execution_count": 1,
   "metadata": {
    "collapsed": false
   },
   "outputs": [
    {
     "ename": "NameError",
     "evalue": "name 're' is not defined",
     "output_type": "error",
     "traceback": [
      "\u001b[0;31m---------------------------------------------------------------------------\u001b[0m",
      "\u001b[0;31mNameError\u001b[0m                                 Traceback (most recent call last)",
      "\u001b[0;32m<ipython-input-1-2b74175e7135>\u001b[0m in \u001b[0;36m<module>\u001b[0;34m()\u001b[0m\n\u001b[0;32m----> 1\u001b[0;31m faces = re.compile(u'['\n\u001b[0m\u001b[1;32m      2\u001b[0m         \u001b[0;34mu'\\U0001F600-\\U0001F64F]'\u001b[0m\u001b[0;34m,\u001b[0m\u001b[0;34m\u001b[0m\u001b[0m\n\u001b[1;32m      3\u001b[0m         re.UNICODE)\n\u001b[1;32m      4\u001b[0m \u001b[0;31m# Function that takes a list of text and return text that contains just faces\u001b[0m\u001b[0;34m\u001b[0m\u001b[0;34m\u001b[0m\u001b[0m\n\u001b[1;32m      5\u001b[0m \u001b[0;32mdef\u001b[0m \u001b[0mjust_face\u001b[0m\u001b[0;34m(\u001b[0m\u001b[0mtext\u001b[0m\u001b[0;34m)\u001b[0m\u001b[0;34m:\u001b[0m\u001b[0;34m\u001b[0m\u001b[0m\n",
      "\u001b[0;31mNameError\u001b[0m: name 're' is not defined"
     ]
    }
   ],
   "source": [
    "faces = re.compile(u'['\n",
    "        u'\\U0001F600-\\U0001F64F]',\n",
    "        re.UNICODE)\n",
    "# Function that takes a list of text and return text that contains just faces\n",
    "def just_face(text):\n",
    "    return (faces.findall(text))\n",
    "# Function that take a list of text and return text with just emojis\n",
    "def just_emojis(text):\n",
    "    return (highpoints.findall(text))\n",
    "# Function that a list of text and return the number of emojis in the text.\n",
    "def count_emojis(text):\n",
    "    return len(highpoints.findall(text))\n",
    "\n",
    "# Functions to check whether there's an emoji in the text, return 1 if true, 0 if false\n",
    "def is_emoji(text):\n",
    "    if highpoints.search(text):\n",
    "        return 1\n",
    "    else:\n",
    "        return 0\n",
    "\n",
    "    # Functions to check whether there's a face emoji in the text, return 1 if true, 0 if false\n",
    "def is_face(text):\n",
    "    if faces.search(text):\n",
    "        return 1\n",
    "    else:\n",
    "        return 0"
   ]
  },
  {
   "cell_type": "code",
   "execution_count": 8,
   "metadata": {
    "collapsed": true
   },
   "outputs": [
    {
     "data": {
      "text/html": [
       "<div>\n",
       "<table border=\"1\" class=\"dataframe\">\n",
       "  <thead>\n",
       "    <tr style=\"text-align: right;\">\n",
       "      <th></th>\n",
       "      <th>id</th>\n",
       "      <th>user_id</th>\n",
       "      <th>Emoji Count</th>\n",
       "      <th>Text Length</th>\n",
       "    </tr>\n",
       "  </thead>\n",
       "  <tbody>\n",
       "    <tr>\n",
       "      <th>count</th>\n",
       "      <td>2.082520e+05</td>\n",
       "      <td>2.082520e+05</td>\n",
       "      <td>208252.000000</td>\n",
       "      <td>208252.000000</td>\n",
       "    </tr>\n",
       "    <tr>\n",
       "      <th>mean</th>\n",
       "      <td>3.822541e+17</td>\n",
       "      <td>5.198651e+08</td>\n",
       "      <td>1.122659</td>\n",
       "      <td>53.161506</td>\n",
       "    </tr>\n",
       "    <tr>\n",
       "      <th>std</th>\n",
       "      <td>2.378889e+15</td>\n",
       "      <td>4.612050e+08</td>\n",
       "      <td>0.603226</td>\n",
       "      <td>33.193435</td>\n",
       "    </tr>\n",
       "    <tr>\n",
       "      <th>min</th>\n",
       "      <td>3.776523e+17</td>\n",
       "      <td>2.100000e+01</td>\n",
       "      <td>1.000000</td>\n",
       "      <td>1.000000</td>\n",
       "    </tr>\n",
       "    <tr>\n",
       "      <th>25%</th>\n",
       "      <td>3.801828e+17</td>\n",
       "      <td>1.499460e+08</td>\n",
       "      <td>1.000000</td>\n",
       "      <td>27.000000</td>\n",
       "    </tr>\n",
       "    <tr>\n",
       "      <th>50%</th>\n",
       "      <td>3.823091e+17</td>\n",
       "      <td>3.852509e+08</td>\n",
       "      <td>1.000000</td>\n",
       "      <td>46.000000</td>\n",
       "    </tr>\n",
       "    <tr>\n",
       "      <th>75%</th>\n",
       "      <td>3.843753e+17</td>\n",
       "      <td>7.546697e+08</td>\n",
       "      <td>1.000000</td>\n",
       "      <td>75.000000</td>\n",
       "    </tr>\n",
       "    <tr>\n",
       "      <th>max</th>\n",
       "      <td>3.863382e+17</td>\n",
       "      <td>1.934553e+09</td>\n",
       "      <td>70.000000</td>\n",
       "      <td>214.000000</td>\n",
       "    </tr>\n",
       "  </tbody>\n",
       "</table>\n",
       "</div>"
      ],
      "text/plain": [
       "                 id       user_id    Emoji Count    Text Length\n",
       "count  2.082520e+05  2.082520e+05  208252.000000  208252.000000\n",
       "mean   3.822541e+17  5.198651e+08       1.122659      53.161506\n",
       "std    2.378889e+15  4.612050e+08       0.603226      33.193435\n",
       "min    3.776523e+17  2.100000e+01       1.000000       1.000000\n",
       "25%    3.801828e+17  1.499460e+08       1.000000      27.000000\n",
       "50%    3.823091e+17  3.852509e+08       1.000000      46.000000\n",
       "75%    3.843753e+17  7.546697e+08       1.000000      75.000000\n",
       "max    3.863382e+17  1.934553e+09      70.000000     214.000000"
      ]
     },
     "execution_count": 8,
     "metadata": {},
     "output_type": "execute_result"
    }
   ],
   "source": [
    "emoji_df[\"Emoji Count\"] = emoji_df[\"text\"].apply(count_emojis)\n",
    "emoji_df[\"Text Length\"] = emoji_df[\"text\"].apply(lambda x: len(x))\n",
    "emoji_df = emoji_df[['id', 'text', 'timeStamp', 'user_id', 'Emoji Count', 'Text Length']]\n",
    "emoji_df.describe()"
   ]
  },
  {
   "cell_type": "markdown",
   "metadata": {},
   "source": [
    "# Exploring Emoji vs no Emoji (20% Text has Emojis, 15% has face)"
   ]
  },
  {
   "cell_type": "markdown",
   "metadata": {},
   "source": [
    "###Functions to check whether it's emoji or face"
   ]
  },
  {
   "cell_type": "code",
   "execution_count": 73,
   "metadata": {
    "collapsed": true
   },
   "outputs": [
    {
     "data": {
      "text/html": [
       "<div>\n",
       "<table border=\"1\" class=\"dataframe\">\n",
       "  <thead>\n",
       "    <tr style=\"text-align: right;\">\n",
       "      <th></th>\n",
       "      <th>id</th>\n",
       "      <th>lat</th>\n",
       "      <th>lng</th>\n",
       "      <th>text</th>\n",
       "      <th>timeStamp</th>\n",
       "      <th>user_id</th>\n",
       "      <th>is_emoji</th>\n",
       "      <th>is_face</th>\n",
       "    </tr>\n",
       "  </thead>\n",
       "  <tbody>\n",
       "    <tr>\n",
       "      <th>0</th>\n",
       "      <td>377652254096228352</td>\n",
       "      <td>37.446100</td>\n",
       "      <td>-121.883557</td>\n",
       "      <td>hdl  hey checkout the website:  url</td>\n",
       "      <td>Wed Sep 11 04:38:08 +0000 2013</td>\n",
       "      <td>224874450</td>\n",
       "      <td>0</td>\n",
       "      <td>0</td>\n",
       "    </tr>\n",
       "    <tr>\n",
       "      <th>1</th>\n",
       "      <td>377652255346159616</td>\n",
       "      <td>34.087406</td>\n",
       "      <td>-117.462604</td>\n",
       "      <td>hdl  😪</td>\n",
       "      <td>Wed Sep 11 04:38:08 +0000 2013</td>\n",
       "      <td>312179473</td>\n",
       "      <td>1</td>\n",
       "      <td>1</td>\n",
       "    </tr>\n",
       "    <tr>\n",
       "      <th>2</th>\n",
       "      <td>377652262325456897</td>\n",
       "      <td>37.356131</td>\n",
       "      <td>-121.842867</td>\n",
       "      <td>i laugh a lot with that line</td>\n",
       "      <td>Wed Sep 11 04:38:10 +0000 2013</td>\n",
       "      <td>54351774</td>\n",
       "      <td>0</td>\n",
       "      <td>0</td>\n",
       "    </tr>\n",
       "    <tr>\n",
       "      <th>3</th>\n",
       "      <td>377652264682655744</td>\n",
       "      <td>37.364664</td>\n",
       "      <td>-122.009629</td>\n",
       "      <td>sons of anarchy is back on woop woop</td>\n",
       "      <td>Wed Sep 11 04:38:11 +0000 2013</td>\n",
       "      <td>343219606</td>\n",
       "      <td>0</td>\n",
       "      <td>0</td>\n",
       "    </tr>\n",
       "    <tr>\n",
       "      <th>4</th>\n",
       "      <td>377652271116722176</td>\n",
       "      <td>37.382600</td>\n",
       "      <td>-121.995000</td>\n",
       "      <td>Drinking a Fresh Squeezed IPA by  hdl  @ St. John's Bar &amp;amp; Grill —  url</td>\n",
       "      <td>Wed Sep 11 04:38:12 +0000 2013</td>\n",
       "      <td>1569395935</td>\n",
       "      <td>0</td>\n",
       "      <td>0</td>\n",
       "    </tr>\n",
       "  </tbody>\n",
       "</table>\n",
       "</div>"
      ],
      "text/plain": [
       "                   id        lat         lng  \\\n",
       "0  377652254096228352  37.446100 -121.883557   \n",
       "1  377652255346159616  34.087406 -117.462604   \n",
       "2  377652262325456897  37.356131 -121.842867   \n",
       "3  377652264682655744  37.364664 -122.009629   \n",
       "4  377652271116722176  37.382600 -121.995000   \n",
       "\n",
       "                                                                          text  \\\n",
       "0                                         hdl  hey checkout the website:  url    \n",
       "1                                                                       hdl  😪   \n",
       "2                                                 i laugh a lot with that line   \n",
       "3                                         sons of anarchy is back on woop woop   \n",
       "4  Drinking a Fresh Squeezed IPA by  hdl  @ St. John's Bar &amp; Grill —  url    \n",
       "\n",
       "                        timeStamp     user_id  is_emoji  is_face  \n",
       "0  Wed Sep 11 04:38:08 +0000 2013   224874450         0        0  \n",
       "1  Wed Sep 11 04:38:08 +0000 2013   312179473         1        1  \n",
       "2  Wed Sep 11 04:38:10 +0000 2013    54351774         0        0  \n",
       "3  Wed Sep 11 04:38:11 +0000 2013   343219606         0        0  \n",
       "4  Wed Sep 11 04:38:12 +0000 2013  1569395935         0        0  "
      ]
     },
     "execution_count": 73,
     "metadata": {},
     "output_type": "execute_result"
    }
   ],
   "source": [
    "tweet_df[\"is_emoji\"] = tweet_df.text.apply(is_emoji)\n",
    "tweet_df[\"is_face\"] = tweet_df.text.apply(is_face)\n",
    "tweet_df.head()"
   ]
  },
  {
   "cell_type": "code",
   "execution_count": 25,
   "metadata": {
    "collapsed": true
   },
   "outputs": [
    {
     "data": {
      "text/html": [
       "<div>\n",
       "<table border=\"1\" class=\"dataframe\">\n",
       "  <thead>\n",
       "    <tr style=\"text-align: right;\">\n",
       "      <th></th>\n",
       "      <th>id</th>\n",
       "      <th>lat</th>\n",
       "      <th>lng</th>\n",
       "      <th>user_id</th>\n",
       "      <th>is_emoji</th>\n",
       "      <th>is_face</th>\n",
       "    </tr>\n",
       "  </thead>\n",
       "  <tbody>\n",
       "    <tr>\n",
       "      <th>count</th>\n",
       "      <td>1.000000e+06</td>\n",
       "      <td>1000000.000000</td>\n",
       "      <td>1000000.000000</td>\n",
       "      <td>1.000000e+06</td>\n",
       "      <td>1000000.000000</td>\n",
       "      <td>1000000.000000</td>\n",
       "    </tr>\n",
       "    <tr>\n",
       "      <th>mean</th>\n",
       "      <td>3.822416e+17</td>\n",
       "      <td>37.241980</td>\n",
       "      <td>-121.533430</td>\n",
       "      <td>4.961052e+09</td>\n",
       "      <td>0.208252</td>\n",
       "      <td>0.154146</td>\n",
       "    </tr>\n",
       "    <tr>\n",
       "      <th>std</th>\n",
       "      <td>2.370783e+15</td>\n",
       "      <td>1.333404</td>\n",
       "      <td>1.542418</td>\n",
       "      <td>4.503597e+12</td>\n",
       "      <td>0.406058</td>\n",
       "      <td>0.361089</td>\n",
       "    </tr>\n",
       "    <tr>\n",
       "      <th>min</th>\n",
       "      <td>3.776523e+17</td>\n",
       "      <td>12.983300</td>\n",
       "      <td>-170.296751</td>\n",
       "      <td>1.200000e+01</td>\n",
       "      <td>0.000000</td>\n",
       "      <td>0.000000</td>\n",
       "    </tr>\n",
       "    <tr>\n",
       "      <th>25%</th>\n",
       "      <td>3.801867e+17</td>\n",
       "      <td>37.320896</td>\n",
       "      <td>-122.350934</td>\n",
       "      <td>7.382110e+07</td>\n",
       "      <td>0.000000</td>\n",
       "      <td>0.000000</td>\n",
       "    </tr>\n",
       "    <tr>\n",
       "      <th>50%</th>\n",
       "      <td>3.822777e+17</td>\n",
       "      <td>37.656377</td>\n",
       "      <td>-122.043733</td>\n",
       "      <td>3.188787e+08</td>\n",
       "      <td>0.000000</td>\n",
       "      <td>0.000000</td>\n",
       "    </tr>\n",
       "    <tr>\n",
       "      <th>75%</th>\n",
       "      <td>3.843437e+17</td>\n",
       "      <td>37.790622</td>\n",
       "      <td>-121.785433</td>\n",
       "      <td>6.229686e+08</td>\n",
       "      <td>0.000000</td>\n",
       "      <td>0.000000</td>\n",
       "    </tr>\n",
       "    <tr>\n",
       "      <th>max</th>\n",
       "      <td>3.887526e+17</td>\n",
       "      <td>57.170120</td>\n",
       "      <td>77.583300</td>\n",
       "      <td>4.503597e+15</td>\n",
       "      <td>1.000000</td>\n",
       "      <td>1.000000</td>\n",
       "    </tr>\n",
       "  </tbody>\n",
       "</table>\n",
       "</div>"
      ],
      "text/plain": [
       "                 id             lat             lng       user_id  \\\n",
       "count  1.000000e+06  1000000.000000  1000000.000000  1.000000e+06   \n",
       "mean   3.822416e+17       37.241980     -121.533430  4.961052e+09   \n",
       "std    2.370783e+15        1.333404        1.542418  4.503597e+12   \n",
       "min    3.776523e+17       12.983300     -170.296751  1.200000e+01   \n",
       "25%    3.801867e+17       37.320896     -122.350934  7.382110e+07   \n",
       "50%    3.822777e+17       37.656377     -122.043733  3.188787e+08   \n",
       "75%    3.843437e+17       37.790622     -121.785433  6.229686e+08   \n",
       "max    3.887526e+17       57.170120       77.583300  4.503597e+15   \n",
       "\n",
       "             is_emoji         is_face  \n",
       "count  1000000.000000  1000000.000000  \n",
       "mean         0.208252        0.154146  \n",
       "std          0.406058        0.361089  \n",
       "min          0.000000        0.000000  \n",
       "25%          0.000000        0.000000  \n",
       "50%          0.000000        0.000000  \n",
       "75%          0.000000        0.000000  \n",
       "max          1.000000        1.000000  "
      ]
     },
     "execution_count": 25,
     "metadata": {},
     "output_type": "execute_result"
    }
   ],
   "source": [
    "tweet_df.describe()"
   ]
  },
  {
   "cell_type": "markdown",
   "metadata": {},
   "source": [
    "##Take a look at the imported tokenizer and test it"
   ]
  },
  {
   "cell_type": "code",
   "execution_count": 29,
   "metadata": {
    "collapsed": false
   },
   "outputs": [],
   "source": [
    "tok = happyfuntokenizing.TweetTokenizer(preserve_case=False)\n",
    "samples = (\n",
    "    u\"RT @ #happyfuncoding: this is a typical Twitter tweet😖\",\n",
    "    u\"😂😂😂 RT @Yours_Truly3x: Bitch brush yoo mouth; other Web oddities can be an &aacute;cute <em class='grumpy'>pain</em> >:(\",\n",
    "    u\"Yay my cat is cuddling🔫 with me tonight❤ +1 (800) 123-4567, (800) 123-4567, and 123-4567 are treated as words despite their whitespace.\"\n",
    "    )"
   ]
  },
  {
   "cell_type": "code",
   "execution_count": 31,
   "metadata": {
    "collapsed": true
   },
   "outputs": [
    {
     "name": "stdout",
     "output_type": "stream",
     "text": [
      "======================================================================\n",
      "RT @ #happyfuncoding: this is a typical Twitter tweet😖\n",
      "['rt', '@', '#happyfuncoding', ':', 'this', 'is', 'a', 'typical', 'twitter', 'tweet', '😖']\n",
      "\n",
      "\n",
      "======================================================================\n",
      "😂😂😂 RT @Yours_Truly3x: Bitch brush yoo mouth; other Web oddities can be an &aacute;cute <em class='grumpy'>pain</em> >:(\n",
      "['😂', '😂', '😂', 'rt', '@yours_truly3x', ':', 'bitch', 'brush', 'yoo', 'mouth', ';', 'other', 'web', 'oddities', 'can', 'be', 'an', 'ácute', \"<em class='grumpy'>\", 'pain', '</em>', '>:(']\n",
      "\n",
      "\n",
      "======================================================================\n",
      "Yay my cat is cuddling🔫 with me tonight❤ +1 (800) 123-4567, (800) 123-4567, and 123-4567 are treated as words despite their whitespace.\n",
      "['yay', 'my', 'cat', 'is', 'cuddling', '🔫', 'with', 'me', 'tonight', '❤', '+1 (800) 123-4567', ',', '(800) 123-4567', ',', 'and', '123-4567', 'are', 'treated', 'as', 'words', 'despite', 'their', 'whitespace', '.']\n",
      "\n",
      "\n"
     ]
    }
   ],
   "source": [
    "for s in samples:\n",
    "        print(\"======================================================================\")\n",
    "        print(s)\n",
    "        tokenized = tok.tokenize(s)\n",
    "        print(list(tokenized))\n",
    "        print(\"\\n\")"
   ]
  },
  {
   "cell_type": "markdown",
   "metadata": {},
   "source": [
    "#Add a new column that display just the emojis for the text"
   ]
  },
  {
   "cell_type": "code",
   "execution_count": 32,
   "metadata": {
    "collapsed": false
   },
   "outputs": [],
   "source": [
    "def emojiExtract(sent):\n",
    "    return [word for word in tok.tokenize(sent) if is_emoji(word) == 1]\n",
    "\n",
    "def textExtract(sent):\n",
    "    return [word for word in tok.tokenize(sent) if is_emoji(word) == 0]\n",
    "\n",
    "def textTokenized(sent):\n",
    "    return [word for word in tok.tokenize(sent)]\n",
    "\n",
    "def addTokenizedText(df):\n",
    "    df['Tokenized'] = [textTokenized(word) for word in df.text]\n",
    "\n",
    "def addEmojiCol(df):\n",
    "    df['Emoji'] = [emojiExtract(word) for word in df.text]\n",
    "\n",
    "def addText(df):\n",
    "    df['only_Text'] = [textExtract(word) for word in df.text]\n",
    "\n",
    "def addHashTag(df):\n",
    "    df['only_HashTag'] = [re.findall(r\"(#\\w+)\", word) for word in df.text]"
   ]
  },
  {
   "cell_type": "code",
   "execution_count": 40,
   "metadata": {
    "collapsed": false
   },
   "outputs": [
    {
     "data": {
      "text/html": [
       "<div>\n",
       "<table border=\"1\" class=\"dataframe\">\n",
       "  <thead>\n",
       "    <tr style=\"text-align: right;\">\n",
       "      <th></th>\n",
       "      <th>id</th>\n",
       "      <th>lat</th>\n",
       "      <th>lng</th>\n",
       "      <th>text</th>\n",
       "      <th>timeStamp</th>\n",
       "      <th>user_id</th>\n",
       "      <th>retweet</th>\n",
       "      <th>Emoji</th>\n",
       "      <th>only_Text</th>\n",
       "      <th>Tokenized</th>\n",
       "    </tr>\n",
       "  </thead>\n",
       "  <tbody>\n",
       "    <tr>\n",
       "      <th>0</th>\n",
       "      <td>377652254096228352</td>\n",
       "      <td>37.446100</td>\n",
       "      <td>-121.883557</td>\n",
       "      <td>hdl  hey checkout the website:  url</td>\n",
       "      <td>Wed Sep 11 04:38:08 +0000 2013</td>\n",
       "      <td>224874450</td>\n",
       "      <td>NaN</td>\n",
       "      <td>[]</td>\n",
       "      <td>[hdl, hey, checkout, the, website, :, url]</td>\n",
       "      <td>[hdl, hey, checkout, the, website, :, url]</td>\n",
       "    </tr>\n",
       "    <tr>\n",
       "      <th>1</th>\n",
       "      <td>377652255346159616</td>\n",
       "      <td>34.087406</td>\n",
       "      <td>-117.462604</td>\n",
       "      <td>hdl  😪</td>\n",
       "      <td>Wed Sep 11 04:38:08 +0000 2013</td>\n",
       "      <td>312179473</td>\n",
       "      <td>NaN</td>\n",
       "      <td>[😪]</td>\n",
       "      <td>[hdl]</td>\n",
       "      <td>[hdl, 😪]</td>\n",
       "    </tr>\n",
       "    <tr>\n",
       "      <th>2</th>\n",
       "      <td>377652262325456897</td>\n",
       "      <td>37.356131</td>\n",
       "      <td>-121.842867</td>\n",
       "      <td>i laugh a lot with that line</td>\n",
       "      <td>Wed Sep 11 04:38:10 +0000 2013</td>\n",
       "      <td>54351774</td>\n",
       "      <td>NaN</td>\n",
       "      <td>[]</td>\n",
       "      <td>[i, laugh, a, lot, with, that, line]</td>\n",
       "      <td>[i, laugh, a, lot, with, that, line]</td>\n",
       "    </tr>\n",
       "    <tr>\n",
       "      <th>3</th>\n",
       "      <td>377652264682655744</td>\n",
       "      <td>37.364664</td>\n",
       "      <td>-122.009629</td>\n",
       "      <td>sons of anarchy is back on woop woop</td>\n",
       "      <td>Wed Sep 11 04:38:11 +0000 2013</td>\n",
       "      <td>343219606</td>\n",
       "      <td>NaN</td>\n",
       "      <td>[]</td>\n",
       "      <td>[sons, of, anarchy, is, back, on, woop, woop]</td>\n",
       "      <td>[sons, of, anarchy, is, back, on, woop, woop]</td>\n",
       "    </tr>\n",
       "    <tr>\n",
       "      <th>4</th>\n",
       "      <td>377652271116722176</td>\n",
       "      <td>37.382600</td>\n",
       "      <td>-121.995000</td>\n",
       "      <td>Drinking a Fresh Squeezed IPA by  hdl  @ St. John's Bar &amp;amp; Grill —  url</td>\n",
       "      <td>Wed Sep 11 04:38:12 +0000 2013</td>\n",
       "      <td>1569395935</td>\n",
       "      <td>NaN</td>\n",
       "      <td>[]</td>\n",
       "      <td>[drinking, a, fresh, squeezed, ipa, by, hdl, @, st, ., john's, bar, &amp;, amp, ;, grill, —, url]</td>\n",
       "      <td>[drinking, a, fresh, squeezed, ipa, by, hdl, @, st, ., john's, bar, &amp;, amp, ;, grill, —, url]</td>\n",
       "    </tr>\n",
       "  </tbody>\n",
       "</table>\n",
       "</div>"
      ],
      "text/plain": [
       "                   id        lat         lng  \\\n",
       "0  377652254096228352  37.446100 -121.883557   \n",
       "1  377652255346159616  34.087406 -117.462604   \n",
       "2  377652262325456897  37.356131 -121.842867   \n",
       "3  377652264682655744  37.364664 -122.009629   \n",
       "4  377652271116722176  37.382600 -121.995000   \n",
       "\n",
       "                                                                          text  \\\n",
       "0                                         hdl  hey checkout the website:  url    \n",
       "1                                                                       hdl  😪   \n",
       "2                                                 i laugh a lot with that line   \n",
       "3                                         sons of anarchy is back on woop woop   \n",
       "4  Drinking a Fresh Squeezed IPA by  hdl  @ St. John's Bar &amp; Grill —  url    \n",
       "\n",
       "                        timeStamp     user_id retweet Emoji  \\\n",
       "0  Wed Sep 11 04:38:08 +0000 2013   224874450     NaN    []   \n",
       "1  Wed Sep 11 04:38:08 +0000 2013   312179473     NaN   [😪]   \n",
       "2  Wed Sep 11 04:38:10 +0000 2013    54351774     NaN    []   \n",
       "3  Wed Sep 11 04:38:11 +0000 2013   343219606     NaN    []   \n",
       "4  Wed Sep 11 04:38:12 +0000 2013  1569395935     NaN    []   \n",
       "\n",
       "                                                                                       only_Text  \\\n",
       "0                                                     [hdl, hey, checkout, the, website, :, url]   \n",
       "1                                                                                          [hdl]   \n",
       "2                                                           [i, laugh, a, lot, with, that, line]   \n",
       "3                                                  [sons, of, anarchy, is, back, on, woop, woop]   \n",
       "4  [drinking, a, fresh, squeezed, ipa, by, hdl, @, st, ., john's, bar, &, amp, ;, grill, —, url]   \n",
       "\n",
       "                                                                                       Tokenized  \n",
       "0                                                     [hdl, hey, checkout, the, website, :, url]  \n",
       "1                                                                                       [hdl, 😪]  \n",
       "2                                                           [i, laugh, a, lot, with, that, line]  \n",
       "3                                                  [sons, of, anarchy, is, back, on, woop, woop]  \n",
       "4  [drinking, a, fresh, squeezed, ipa, by, hdl, @, st, ., john's, bar, &, amp, ;, grill, —, url]  "
      ]
     },
     "execution_count": 40,
     "metadata": {},
     "output_type": "execute_result"
    }
   ],
   "source": [
    "addEmojiCol(tweet_df)\n",
    "addText(tweet_df)\n",
    "addTokenizedText(tweet_df)\n",
    "addHashTag(tweet_df)\n",
    "addTokenizedText(tweet_df)\n",
    "tweet_df.head()"
   ]
  },
  {
   "cell_type": "markdown",
   "metadata": {},
   "source": [
    "# Word2Vec Trained Model with Twitter Corpus"
   ]
  },
  {
   "cell_type": "code",
   "execution_count": 34,
   "metadata": {
    "collapsed": true
   },
   "outputs": [],
   "source": [
    "import gensim\n",
    "from gensim.models import Word2Vec"
   ]
  },
  {
   "cell_type": "code",
   "execution_count": 38,
   "metadata": {
    "collapsed": false
   },
   "outputs": [],
   "source": [
    "#emoji_model = gensim.models.Word2Vec(list(tweet_df.Tokenized))\n",
    "# It might take some time to train the model. So, after it is trained, it can be saved as follows:\n",
    "#emoji_model.save('emoji.embedding')\n",
    "emoji_model = gensim.models.Word2Vec.load('emoji.embedding')"
   ]
  },
  {
   "cell_type": "code",
   "execution_count": 39,
   "metadata": {
    "collapsed": true
   },
   "outputs": [
    {
     "data": {
      "text/plain": [
       "[('ommmmmg', 0.7462140321731567),\n",
       " ('#dead', 0.6925972700119019),\n",
       " ('meagan', 0.6692696809768677),\n",
       " ('lmaooooooooooo', 0.6570378541946411),\n",
       " ('inseparable', 0.6502166986465454),\n",
       " ('#lrt', 0.6376644372940063),\n",
       " ('#playa', 0.6227041482925415),\n",
       " ('#dying', 0.5953817367553711),\n",
       " ('#sike', 0.5952829122543335),\n",
       " ('#coldworld', 0.5948764681816101),\n",
       " ('#blama', 0.5885862112045288),\n",
       " ('#icant', 0.5870974063873291),\n",
       " ('#workaholics', 0.5856915712356567),\n",
       " ('laffin', 0.5782320499420166),\n",
       " ('hahahahahahahahahahahahaha', 0.5772393345832825),\n",
       " ('. .. .', 0.5763115286827087),\n",
       " ('daaamn', 0.5759264826774597),\n",
       " ('omgosh', 0.5746556520462036),\n",
       " ('nikkah', 0.5687729716300964),\n",
       " ('gawwwd', 0.5650306344032288)]"
      ]
     },
     "execution_count": 39,
     "metadata": {},
     "output_type": "execute_result"
    }
   ],
   "source": [
    "emoji_model.most_similar(positive = ['😂'], topn = 20)"
   ]
  },
  {
   "cell_type": "code",
   "execution_count": 233,
   "metadata": {
    "collapsed": false
   },
   "outputs": [
    {
     "data": {
      "text/plain": [
       "151"
      ]
     },
     "execution_count": 233,
     "metadata": {},
     "output_type": "execute_result"
    }
   ],
   "source": [
    "len(tweet_df[tweet_df.text.str.contains(r'#bye')])"
   ]
  },
  {
   "cell_type": "markdown",
   "metadata": {},
   "source": [
    "#How many Hashtags? 155979"
   ]
  },
  {
   "cell_type": "code",
   "execution_count": 454,
   "metadata": {
    "collapsed": true
   },
   "outputs": [
    {
     "data": {
      "text/plain": [
       "id              155979\n",
       "lat             155979\n",
       "lng             155979\n",
       "text            155979\n",
       "timeStamp       155979\n",
       "user_id         155979\n",
       "is_emoji        155979\n",
       "is_face         155979\n",
       "Emoji           155979\n",
       "only_Text       155979\n",
       "only_HashTag    155979\n",
       "Tokenized       155979\n",
       "dtype: int64"
      ]
     },
     "execution_count": 454,
     "metadata": {},
     "output_type": "execute_result"
    }
   ],
   "source": [
    "tweet_df[tweet_df.only_HashTag.str.len() != 0].count(0)"
   ]
  },
  {
   "cell_type": "markdown",
   "metadata": {},
   "source": [
    "#Language Cleaning"
   ]
  },
  {
   "cell_type": "code",
   "execution_count": 142,
   "metadata": {
    "collapsed": false
   },
   "outputs": [],
   "source": [
    "punctuation = string.punctuation\n",
    "ex = ['“', '—', '’', ' ️', '️', '...', '”', '…', ' , , ,', '?', ' ', ' ⃣', '∞', '🆒']\n",
    "for pun in [word for word in ex if word not in punctuation]:\n",
    "    punctuation += pun\n",
    "def isEnglish(list):\n",
    "    try:\n",
    "        [word.encode('ascii') for word in list if word not in punctuation]\n",
    "    except Exception:\n",
    "        return False\n",
    "    else:\n",
    "        return True"
   ]
  },
  {
   "cell_type": "code",
   "execution_count": 170,
   "metadata": {
    "collapsed": false
   },
   "outputs": [],
   "source": [
    "def cleanNonEnglish(df):\n",
    "    text_list = df['only_Text'].values\n",
    "    english_Boolean = [isEnglish(sent) for sent in text_list]\n",
    "    return df[english_Boolean]"
   ]
  },
  {
   "cell_type": "code",
   "execution_count": 171,
   "metadata": {
    "collapsed": false
   },
   "outputs": [],
   "source": [
    "tweet_df = cleanNonEnglish(tweet_df)\n",
    "len(tweet_df)"
   ]
  }
 ],
 "metadata": {
  "kernelspec": {
   "display_name": "Python 3",
   "language": "python",
   "name": "python3"
  },
  "language_info": {
   "codemirror_mode": {
    "name": "ipython",
    "version": 3
   },
   "file_extension": ".py",
   "mimetype": "text/x-python",
   "name": "python",
   "nbconvert_exporter": "python",
   "pygments_lexer": "ipython3",
   "version": "3.3.5"
  }
 },
 "nbformat": 4,
 "nbformat_minor": 0
}
