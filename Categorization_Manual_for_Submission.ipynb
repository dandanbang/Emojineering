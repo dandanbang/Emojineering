{
 "cells": [
  {
   "cell_type": "markdown",
   "metadata": {},
   "source": [
    "## Categorization Manual\n",
    "\n",
    "### Purpose\n",
    "Purpose of notebook is to add more abstracted categories of emojis to the 'tweets_test_clean.json' file"
   ]
  },
  {
   "cell_type": "code",
   "execution_count": 1,
   "metadata": {
    "collapsed": false
   },
   "outputs": [],
   "source": [
    "## import all necessary packages\n",
    "import json\n",
    "import re\n",
    "import pandas as pd\n",
    "\n",
    "import nltk, string\n",
    "from nltk.collocations import *\n",
    "\n",
    "import numpy as np\n",
    "import matplotlib.pyplot as plt\n",
    "\n",
    "from pandas import *\n",
    "\n",
    "from collections import defaultdict\n",
    "\n",
    "import string\n",
    "import happyfuntokenizing\n",
    "import json"
   ]
  },
  {
   "cell_type": "markdown",
   "metadata": {},
   "source": [
    "### Load Data"
   ]
  },
  {
   "cell_type": "code",
   "execution_count": 2,
   "metadata": {
    "collapsed": true
   },
   "outputs": [],
   "source": [
    "with open(\"./data/categories_manual.json\") as json_file:\n",
    "    category_dict = json.load(json_file)"
   ]
  },
  {
   "cell_type": "code",
   "execution_count": 3,
   "metadata": {
    "collapsed": true
   },
   "outputs": [],
   "source": [
    "with open('./data/emoji_webscraped_expanded.json','r') as f_emoji:\n",
    "    emoji_df = DataFrame(json.load(f_emoji))"
   ]
  },
  {
   "cell_type": "code",
   "execution_count": 4,
   "metadata": {
    "collapsed": true
   },
   "outputs": [],
   "source": [
    "with open('./data/tweets_test_clean.json','r') as f:\n",
    "    test_df = DataFrame(json.load(f))"
   ]
  },
  {
   "cell_type": "code",
   "execution_count": 5,
   "metadata": {
    "collapsed": true
   },
   "outputs": [],
   "source": [
    "with open('./data/tweets_training_clean.json','r') as f:\n",
    "    training_df = DataFrame(json.load(f))"
   ]
  },
  {
   "cell_type": "markdown",
   "metadata": {},
   "source": [
    "## Create array with faces used to create category column"
   ]
  },
  {
   "cell_type": "code",
   "execution_count": 6,
   "metadata": {
    "collapsed": false
   },
   "outputs": [],
   "source": [
    "def array_to_categorize(_dict):\n",
    "    _unique = [face for item in _dict.values() for face in item]\n",
    "    return _unique"
   ]
  },
  {
   "cell_type": "markdown",
   "metadata": {},
   "source": [
    "## Add category column to dataframe"
   ]
  },
  {
   "cell_type": "code",
   "execution_count": 7,
   "metadata": {
    "collapsed": false
   },
   "outputs": [],
   "source": [
    "def cateogry_column(text, _unique):\n",
    "    if len(text) == 0:\n",
    "        return None\n",
    "    \n",
    "    boolean_face = [True if face in _unique else False for face in text]\n",
    "    \n",
    "    for item in boolean_face:\n",
    "        if all(boolean_face) == True:\n",
    "        \n",
    "            cateogrize = []\n",
    "            for category, faces in category_dict.items():\n",
    "                for face in text:\n",
    "                        if face in faces:\n",
    "                            cateogrize.append(category)\n",
    "            cateogrize = list(set(cateogrize))\n",
    "            if len(cateogrize)==1:\n",
    "                return cateogrize[0]\n",
    "            else:\n",
    "                return \"Mix_P\"\n",
    "                \n",
    "            return list(set(cateogrize))\n",
    "        \n",
    "        elif all(not element for element in boolean_face):\n",
    "            return \"Other\"\n",
    "\n",
    "        else:\n",
    "            true_boolean = [index for index, item in enumerate(boolean_face) if item == True]\n",
    "            keep_true = [text[i] for i in true_boolean]\n",
    "            \n",
    "            cateogrize = []\n",
    "            for category, faces in category_dict.items():\n",
    "                for face in keep_true:\n",
    "                        if face in faces:\n",
    "                            cateogrize.append(category)\n",
    "            cateogrize = list(set(cateogrize))\n",
    "            if len(cateogrize)==1:\n",
    "                return cateogrize[0]\n",
    "            else:\n",
    "                return \"Mix_P\"\n",
    "\n",
    "    return"
   ]
  },
  {
   "cell_type": "markdown",
   "metadata": {},
   "source": [
    "## Make Final column numeric"
   ]
  },
  {
   "cell_type": "code",
   "execution_count": 8,
   "metadata": {
    "collapsed": false
   },
   "outputs": [],
   "source": [
    "def numeric_placeholder():\n",
    "    _numeric = [(0, 'happy'), \n",
    "                (1, 'love'), \n",
    "                (2, 'despairing'), \n",
    "                (3, 'Other'), (4, 'Mix_P'), \n",
    "                (5, None), \n",
    "                (6, 'nonhuman')]\n",
    "    return _numeric"
   ]
  },
  {
   "cell_type": "code",
   "execution_count": 9,
   "metadata": {
    "collapsed": false
   },
   "outputs": [],
   "source": [
    "def make_numeric(text, numeric_category):\n",
    "    _num = [item[0] for item in numeric_category if text == item[1]]\n",
    "    return _num[0]"
   ]
  },
  {
   "cell_type": "code",
   "execution_count": 10,
   "metadata": {
    "collapsed": false
   },
   "outputs": [],
   "source": [
    "def run_make_category(df, _dict, _numeric):\n",
    "    unique_face = array_to_categorize(_dict)\n",
    "    df[\"cateogry_prediction\"] = df.only_emoji.apply(cateogry_column, _unique=unique_face)\n",
    "    df['category_numeric'] = df.cateogry_prediction.apply(make_numeric, numeric_category=_numeric)\n",
    "    return df"
   ]
  },
  {
   "cell_type": "code",
   "execution_count": 11,
   "metadata": {
    "collapsed": false
   },
   "outputs": [],
   "source": [
    "category_training_df = run_make_category(training_df, category_dict, numeric_placeholder())\n",
    "category_training_df.to_json('./data/tweets_training_clean_preprocessing.json', force_ascii=False)\n",
    "\n",
    "category_test_df = run_make_category(test_df, category_dict, numeric_placeholder())\n",
    "category_test_df.to_json('./data/tweets_test_clean_preprocessing.json', force_ascii=False)"
   ]
  },
  {
   "cell_type": "code",
   "execution_count": null,
   "metadata": {
    "collapsed": true
   },
   "outputs": [],
   "source": []
  }
 ],
 "metadata": {
  "kernelspec": {
   "display_name": "Python 3",
   "language": "python",
   "name": "python3"
  },
  "language_info": {
   "codemirror_mode": {
    "name": "ipython",
    "version": 3
   },
   "file_extension": ".py",
   "mimetype": "text/x-python",
   "name": "python",
   "nbconvert_exporter": "python",
   "pygments_lexer": "ipython3",
   "version": "3.4.3"
  }
 },
 "nbformat": 4,
 "nbformat_minor": 0
}
