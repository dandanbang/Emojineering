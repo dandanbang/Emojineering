{
 "cells": [
  {
   "cell_type": "markdown",
   "metadata": {},
   "source": [
    "## Make Categories\n",
    "\n",
    "### Purpose\n",
    "Purpose of the notebook is to create the manual categories json file that is needed for the 'Cateogrization_Manual' file, which is the notebook which adds these emoji categories to the clean data file"
   ]
  },
  {
   "cell_type": "code",
   "execution_count": 1,
   "metadata": {
    "collapsed": true
   },
   "outputs": [],
   "source": [
    "import json"
   ]
  },
  {
   "cell_type": "code",
   "execution_count": 2,
   "metadata": {
    "collapsed": false
   },
   "outputs": [],
   "source": [
    "def create_categories():\n",
    "    despairing = [\"\\U0001F610\", \"\\U0001F611\",\"\\U0001F636\", \"\\U0001F623\", \n",
    "                  \"\\U0001F625\", \"\\U0001F62E\",\"\\U0001F62F\",\n",
    "                  \"\\U0001F62A\",\"\\U0001F62B\",\"\\U0001F634\",\"\\U0001F612\",\n",
    "                  \"\\U0001F613\",\"\\U0001F614\",\"\\U0001F615\",\"\\U0001F616\",\n",
    "                  \"\\U0001F637\",\"\\U0001F632\",\"\\U0001F61E\",\"\\U0001F61F\",\n",
    "                  \"\\U0001F624\",\"\\U0001F622\",\"\\U0001F62D\",\"\\U0001F626\",\n",
    "                  \"\\U0001F627\",\"\\U0001F628\",\"\\U0001F629\",\"\\U0001F62C\",\n",
    "                  \"\\U0001F630\",\"\\U0001F631\",\"\\U0001F633\",\"\\U0001F635\",\n",
    "                  \"\\U0001F621\",\"\\U0001F620\",\"\\U0001F608\",\"\\U0001F47F\",\n",
    "                  \"\\U0001F640\",\"\\U0001F648\",\"\\U0001F649\",\"\\U0001F64A\"]\n",
    "\n",
    "    happy =[\"\\U0001F600\",\"\\U0001F601\", \"\\U0001F60E\",\"\\U0000263A\",\n",
    "            \"\\U0001F60F\",\"\\U0001F603\",\"\\U0001F60C\",\"\\U0001F61B\",\n",
    "            \"\\U0001F61C\",\"\\U0001F61D\",\"\\U0001F604\",\"\\U0001F605\",\n",
    "            \"\\U0001F606\",\"\\U0001F609\",\"\\U0001F60A\",\"\\U0001F638\",\n",
    "            \"\\U0001F639\",\"\\U0001F60B\",\"\\U0001F607\",\"\\U0001F602\"]\n",
    "\n",
    "    love =[\"\\U0001F60D\", \"\\U0001F618\", \"\\U0001F619\", \"\\U0001F61A\", \"\\U0001F63B\"]\n",
    "\n",
    "    nonhuman =[\"\\U0001F47C\",\"\\U0001F440\",\"\\U0001F47D\",\"\\U0001F4A9\",\n",
    "               \"\\U0001F436\",\"\\U0001F431\",\"\\U0001F42F\",\"\\U0001F434\",\n",
    "               \"\\U0001F437\",\"\\U0001F43B\",\"\\U0001F31A\",\"\\U0001F31D\",\n",
    "               \"\\U0001F31E\",\"\\U0001F479\",\"\\U0001F480\",\"\\U0001F47B\"\n",
    "              ]\n",
    "\n",
    "    category_dict = dict()\n",
    "    category_dict[\"despairing\"] = despairing\n",
    "    category_dict[\"happy\"]      = happy\n",
    "    category_dict[\"nonhuman\"]   = nonhuman\n",
    "    category_dict[\"love\"]       = love\n",
    "\n",
    "    return category_dict"
   ]
  },
  {
   "cell_type": "code",
   "execution_count": 3,
   "metadata": {
    "collapsed": false
   },
   "outputs": [],
   "source": [
    "categories = create_categories()"
   ]
  },
  {
   "cell_type": "code",
   "execution_count": 4,
   "metadata": {
    "collapsed": false
   },
   "outputs": [],
   "source": [
    "with open('./data/categories_manual.json', 'w') as fp:\n",
    "    json.dump(categories, fp, ensure_ascii=False)"
   ]
  },
  {
   "cell_type": "code",
   "execution_count": null,
   "metadata": {
    "collapsed": true
   },
   "outputs": [],
   "source": []
  }
 ],
 "metadata": {
  "kernelspec": {
   "display_name": "Python 3",
   "language": "python",
   "name": "python3"
  },
  "language_info": {
   "codemirror_mode": {
    "name": "ipython",
    "version": 3
   },
   "file_extension": ".py",
   "mimetype": "text/x-python",
   "name": "python",
   "nbconvert_exporter": "python",
   "pygments_lexer": "ipython3",
   "version": "3.4.3"
  }
 },
 "nbformat": 4,
 "nbformat_minor": 0
}
