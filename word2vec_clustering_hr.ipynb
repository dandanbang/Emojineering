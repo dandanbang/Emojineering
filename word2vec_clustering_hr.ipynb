{
 "cells": [
  {
   "cell_type": "markdown",
   "metadata": {},
   "source": [
    "The goal is to try to do hierarchical clustering of emojis, based on word2vec, ie cosine similarity between word contexts. \n",
    "\n",
    "Inspired from data_exploration_dc.ipynb (but no functions so I couldn't import it! ;))"
   ]
  },
  {
   "cell_type": "code",
   "execution_count": 3,
   "metadata": {
    "collapsed": false
   },
   "outputs": [],
   "source": [
    "import gensim\n",
    "from gensim.models import Word2Vec\n",
    "\n",
    "from data_cleaning_hr import loader\n",
    "import src.happyfuntokenizing\n",
    "\n",
    "import pandas as pd\n",
    "import re\n",
    "\n",
    "from IPython.display import display\n",
    "\n",
    "from sklearn.cluster import AgglomerativeClustering\n",
    "from scipy.cluster.hierarchy import linkage, dendrogram\n",
    "import numpy as np\n",
    "import math\n",
    "\n",
    "import itertools\n",
    "\n",
    "import matplotlib.pyplot as plt\n",
    "%matplotlib inline"
   ]
  },
  {
   "cell_type": "markdown",
   "metadata": {},
   "source": [
    "## Load files"
   ]
  },
  {
   "cell_type": "code",
   "execution_count": 32,
   "metadata": {
    "collapsed": true
   },
   "outputs": [],
   "source": [
    "tweet_df = loader(\"./data/tweets_training_clean.json\")\n",
    "emojis_df = loader(\"./data/emoji_webscraped_expanded.json\")"
   ]
  },
  {
   "cell_type": "markdown",
   "metadata": {},
   "source": [
    "## Training word2vec model"
   ]
  },
  {
   "cell_type": "markdown",
   "metadata": {},
   "source": [
    "When defining the word2vec model, with a window of 5 (default) we are only considering emojis that cooccur close by. Which makes sense. We could even use a smaller window. "
   ]
  },
  {
   "cell_type": "code",
   "execution_count": 16,
   "metadata": {
    "collapsed": false
   },
   "outputs": [],
   "source": [
    "tok = src.happyfuntokenizing.Tokenizer(preserve_case=False)\n",
    "tweet_df[\"tokens\"] = [list(tok.tokenize(tweet)) for tweet in tweet_df.text]"
   ]
  },
  {
   "cell_type": "code",
   "execution_count": 17,
   "metadata": {
    "collapsed": false
   },
   "outputs": [],
   "source": [
    "# To reduce size, train only on tweets with emojis\n",
    "emoji_model = gensim.models.Word2Vec(list(tweet_df.tokens), window=10) # Does the tokenizer work well on flags? \n",
    "# emoji_model.save('emoji.embedding')\n",
    "emoji_model = gensim.models.Word2Vec.load('emoji.embedding')"
   ]
  },
  {
   "cell_type": "code",
   "execution_count": 18,
   "metadata": {
    "collapsed": true
   },
   "outputs": [
    {
     "data": {
      "text/plain": [
       "[('👍', 0.6583754420280457),\n",
       " ('😋', 0.656490683555603),\n",
       " ('😆', 0.6184258460998535),\n",
       " ('😜', 0.5988847017288208),\n",
       " ('😝', 0.5813663005828857),\n",
       " ('#whatevs', 0.5766386985778809),\n",
       " ('😎', 0.5600958466529846),\n",
       " ('😅', 0.5561439394950867),\n",
       " ('😄', 0.5554729700088501),\n",
       " ('👌', 0.5463070273399353)]"
      ]
     },
     "execution_count": 18,
     "metadata": {},
     "output_type": "execute_result"
    }
   ],
   "source": [
    "emoji_model.most_similar(positive = ['\\U0001F601'], negative= [])"
   ]
  },
  {
   "cell_type": "markdown",
   "metadata": {},
   "source": [
    "## Hierarchical clustering"
   ]
  },
  {
   "cell_type": "code",
   "execution_count": 48,
   "metadata": {
    "collapsed": false
   },
   "outputs": [
    {
     "name": "stdout",
     "output_type": "stream",
     "text": [
      "121\n"
     ]
    }
   ],
   "source": [
    "# Subsetting to faces\n",
    "def subset_annotations(df):\n",
    "    annotations = df.annotations\n",
    "    list_titles = [list(item) for item in list(annotations)]\n",
    "    index_face_person = [index for index,value in enumerate(list_titles) if 'face' in value] # or 'person' in value]\n",
    "    df_face_person = df.iloc[index_face_person]\n",
    "    return df_face_person\n",
    "\n",
    "emojis_df = subset_annotations(emojis_df)\n",
    "print(len(emojis_df))"
   ]
  },
  {
   "cell_type": "code",
   "execution_count": 57,
   "metadata": {
    "collapsed": false
   },
   "outputs": [],
   "source": [
    "def convertEmojis(df):\n",
    "    \"\"\"Converts emojis df to printable format \"\"\"\n",
    "    emojis = list(map(lambda x: bytes(\"{}{}\".format(*x), 'ascii').decode('unicode-escape'), zip(list(df.byteCode1), list(df.byteCode2)))) \n",
    "    return emojis"
   ]
  },
  {
   "cell_type": "code",
   "execution_count": 58,
   "metadata": {
    "collapsed": false,
    "scrolled": true
   },
   "outputs": [],
   "source": [
    "# Calculate distances\n",
    "emojis = convertEmojis(emojis_df)\n",
    "combinations = itertools.combinations(emojis, 2)\n",
    "\n",
    "similarities = []\n",
    "for combination in combinations:\n",
    "    try:\n",
    "        similarities += [emoji_model.similarity(*combination)]\n",
    "    except Exception:\n",
    "#         similarities += [np.NAN]\n",
    "        similarities += [0]\n",
    "similarities = np.array(similarities)\n",
    "\n",
    "distances = 1 - np.arccos(similarities) / np.pi # From https://en.wikipedia.org/wiki/Cosine_similarity#Angular_similarity"
   ]
  },
  {
   "cell_type": "markdown",
   "metadata": {},
   "source": [
    "Check if flags are working"
   ]
  },
  {
   "cell_type": "markdown",
   "metadata": {},
   "source": [
    "#### Using Scipy linkage and dandrogram"
   ]
  },
  {
   "cell_type": "code",
   "execution_count": 59,
   "metadata": {
    "collapsed": false
   },
   "outputs": [],
   "source": [
    "hc_linkage = linkage(distances, method=\"complete\")"
   ]
  },
  {
   "cell_type": "code",
   "execution_count": 60,
   "metadata": {
    "collapsed": false,
    "scrolled": false
   },
   "outputs": [
    {
     "data": {
      "image/png": "[encoded data removed]",
      "text/plain": [
       "<matplotlib.figure.Figure at 0x105620b10>"
      ]
     },
     "metadata": {},
     "output_type": "display_data"
    }
   ],
   "source": [
    "p = 121 # Number of clusters at which to truncate\n",
    "fig, ax = plt.subplots(figsize=(15, 0.2*p)) # set size\n",
    "R = dendrogram(hc_linkage, orientation=\"right\", labels=emojis, truncate_mode=\"lastp\", p=p, get_leaves=True, show_leaf_counts=True, show_contracted=False)\n",
    "\n",
    "plt.tick_params(\\\n",
    "    axis= 'x',          # changes apply to the x-axis\n",
    "    which='both',      # both major and minor ticks are affected\n",
    "    bottom='on',      # ticks along the bottom edge are off\n",
    "    top='on',         # ticks along the top edge are off\n",
    "    labelbottom='on')\n",
    "\n",
    "# plt.tight_layout() #show plot with tight layout\n",
    "ax.xaxis.grid(True, which='minor')\n",
    "# ax.set_yticklabels(a.get_yticks(), emoji_font)"
   ]
  },
  {
   "cell_type": "code",
   "execution_count": 61,
   "metadata": {
    "collapsed": true
   },
   "outputs": [],
   "source": [
    "from scipy.cluster.hierarchy import fcluster\n",
    "k=11\n",
    "categories = fcluster(hc_linkage, k, criterion='maxclust')\n",
    "emojis_df[\"category\"] = categories"
   ]
  },
  {
   "cell_type": "code",
   "execution_count": 62,
   "metadata": {
    "collapsed": false
   },
   "outputs": [
    {
     "name": "stdout",
     "output_type": "stream",
     "text": [
      "Category 1\n",
      "🌛😦\n",
      "\n",
      "Category 2\n",
      "😀😑🐷😏🐼😥😛😲🌚😠👽😽🙉\n",
      "\n",
      "Category 3\n",
      "☺😂🙄🐸😨☠🙊\n",
      "\n",
      "Category 4\n",
      "😚🦄🐭😟\n",
      "\n",
      "Category 5\n",
      "👼🙂🐱🐰😮🤓😄😒😢🌝🌬😬😳😵💀🙀😋\n",
      "\n",
      "Category 6\n",
      "😁⛑🗣😙🤗🐶😶🦁🐯🐻🐲😃😝🙁😔🤕😅😧😩😡😈🤖💩😸🗿😿\n",
      "\n",
      "Category 7\n",
      "😍🐵😞😤🌞😆😰👹👾😼🙈\n",
      "\n",
      "Category 8\n",
      "🐮😌😓😱👿😺\n",
      "\n",
      "Category 9\n",
      "😎😘👀🐺🐽🐳🤐😯😴😕😖🤑😭😊😹😾\n",
      "\n",
      "Category 10\n",
      "🐹😪😜\n",
      "\n",
      "Category 11\n",
      "😗😇🤔😐🐴😣😫☹🙃😷🤒🌜😉👺👻😻\n",
      "\n"
     ]
    }
   ],
   "source": [
    "for category in range(1, k+1):\n",
    "    print(\"Category {}\".format(category))\n",
    "    emojis_cat = emojis_df[emojis_df[\"category\"] == category]\n",
    "    for emoji in convertEmojis(emojis_cat):\n",
    "        print(emoji, end=\"\")\n",
    "    print(\"\\n\")\n"
   ]
  },
  {
   "cell_type": "code",
   "execution_count": 25,
   "metadata": {
    "collapsed": false
   },
   "outputs": [
    {
     "name": "stdout",
     "output_type": "stream",
     "text": [
      "😀😁😎👲㊙🈺🈵▪▫◻◼◽◾⬛👳⬜🔶🔷🔸🔹🔺🔻💠🔘🔲👷🔳⚪⚫🔴🔵🇦🇨🇦🇩🇦🇪🇦🇫🇦🇬⛑🇦🇮🇦🇱🇦🇲🇦🇴🇦🇶🇦🇷🇦🇸🇦🇹🇦🇺🇦🇼👸🇦🇽🇦🇿🇧🇦🇧🇧🇧🇩🇧🇪🇧🇫🇧🇬🇧🇭🇧🇮💂🇧🇯🇧🇱🇧🇲🇧🇳🇧🇴🇧🇶🇧🇷🇧🇸🇧🇹🇧🇻🕵🇧🇼🇧🇾🇧🇿🇨🇦🇨🇨🇨🇩🇨🇫🇨🇬🇨🇭🇨🇮🎅🇨🇰🇨🇱🇨🇲🇨🇳🇨🇴🇨🇵🇨🇷🇨🇺🇨🇻🇨🇼👼🇨🇽🇨🇾🇨🇿🇩🇪🇩🇬🇩🇯🇩🇰🇩🇲🇩🇴🇩🇿👯🇪🇦🇪🇨🇪🇪🇪🇬🇪🇭🇪🇷🇪🇸🇪🇹🇪🇺🇫🇮😍💆🇫🇯🇫🇰🇫🇲🇫🇴🇫🇷🇬🇦🇬🇧🇬🇩🇬🇪🇬🇫💇🇬🇬🇬🇭🇬🇮🇬🇱🇬🇲🇬🇳🇬🇵🇬🇶🇬🇷🇬🇸👰🇬🇹🇬🇺🇬🇼🇬🇾🇭🇰🇭🇲🇭🇳🇭🇷🇭🇹🇭🇺🙍🇮🇨🇮🇩🇮🇪🇮🇱🇮🇲🇮🇳🇮🇴🇮🇶🇮🇷🇮🇸🙎🇮🇹🇯🇪🇯🇲🇯🇴🇯🇵🇰🇪🇰🇬🇰🇭🇰🇮🇰🇲🙅🇰🇳🇰🇵🇰🇷🇰🇼🇰🇾🇰🇿🇱🇦🇱🇧🇱🇨🇱🇮🙆🇱🇰🇱🇷🇱🇸🇱🇹🇱🇺🇱🇻🇱🇾🇲🇦🇲🇨🇲🇩💁🇲🇪🇲🇫🇲🇬🇲🇭🇲🇰🇲🇱🇲🇲🇲🇳🇲🇴🇲🇵🙋🇲🇶🇲🇷🇲🇸🇲🇹🇲🇺🇲🇻🇲🇼🇲🇽🇲🇾🇲🇿🙇🇳🇦🇳🇨🇳🇪🇳🇫🇳🇬🇳🇮🇳🇱🇳🇴🇳🇵🇳🇷😘🙌🇳🇺🇳🇿🇴🇲🇵🇦🇵🇪🇵🇫🇵🇬🇵🇭🇵🇰🇵🇱🙏🇵🇲🇵🇳🇵🇷🇵🇸🇵🇹🇵🇼🇵🇾🇶🇦🇷🇪🇷🇴🗣🇷🇸🇷🇺🇷🇼🇸🇦🇸🇧🇸🇨🇸🇩🇸🇪🇸🇬🇸🇭👤🇸🇮🇸🇯🇸🇰🇸🇱🇸🇲🇸🇳🇸🇴🇸🇷🇸🇸🇸🇹👥🇸🇻🇸🇽🇸🇾🇸🇿🇹🇦🇹🇨🇹🇩🇹🇫🇹🇬🇹🇭🚶🇹🇯🇹🇰🇹🇱🇹🇲🇹🇳🇹🇴🇹🇷🇹🇹🇹🇻🇹🇼🏃🇹🇿🇺🇦🇺🇬🇺🇲🇺🇸🇺🇾🇺🇿🇻🇦🇻🇨🇻🇪💃🇻🇬🇻🇮🇻🇳🇻🇺🇼🇫🇼🇸🇽🇰🇾🇪🇾🇹🇿🇦🕴🇿🇲🇿🇼💏😗💑👪👫👬👭🏻🏼🏽🏾🏿😙💪👈👉☝👆🖕👇✌🖖🤘😚🖐✊✋👊👌👍👎👋👏👐☺✍💅👂👃👣👀👁👅👄💋🙂💘❤💓💔💕💖💗💙💚💛🤗💜💝💞💟❣💌💤💢💣💥😇💦💨💫💬🗨🗯💭🕳👓🕶😂🤔👔👕👖👗👘👙👚👛👜👝😐🛍🎒👞👟👠👡👢👑👒🎩😑🎓📿💄💍💎🐵🐒🐶🐕🐩😶🐺🐱🐈🦁🐯🐅🐆🐴🐎🦄🙄🐮🐂🐃🐄🐷🐖🐗🐽🐏🐑😏🐐🐪🐫🐘🐭🐁🐀🐹🐰🐇😣🐿🐻🐨🐼🐾🦃🐔🐓🐣🐤😥🐥🐦🐧🕊🐸🐊🐢🐍🐲🐉😮🐳🐋🐬🐟🐠🐡🐙🐚🦀🐌🤐🐛🐜🐝🐞🕷🕸🦂💐🌸💮😃😯🏵🌹🌺🌻🌼🌷☘🌱🌲🌳😪🌴🌵🌾🌿🍀🍁🍂🍃🍇🍈😫🍉🍊🍋🍌🍍🍎🍏🍐🍑🍒😴🍓🍅🍆🌽🌶🍄🌰🍞🧀🍖😌🍗🍔🍟🍕🌭🌮🌯🍿🍲🍱🤓🍘🍙🍚🍛🍜🍝🍠🍢🍣🍤😛🍥🍡🍦🍧🍨🍩🍪🎂🍰🍫😜🍬🍭🍮🍯🍼☕🍵🍶🍾🍷😝🍸🍹🍺🍻🍽🍴🍳🏺🌍🌎☹🌏🌐🗺🏔⛰🌋🗻🏕🏖🏜😄🙁🏝🏞🏟🏛🏗🏘🏙🏚🏠🏡😒⛪🕋🕌🕍⛩🏢🏣🏤🏥🏦😓🏨🏩🏪🏫🏬🏭🏯🏰💒🗼😔🗽🗾⛲⛺🌁🌃🌄🌅🌆🌇😕🌉♨🌌🎠🎡🎢💈🎪🎭🖼😖🎨🎰🚂🚃🚄🚅🚆🚇🚈🚉🙃🚊🚝🚞🚋🚌🚍🚎🚏🚐🚑😷🚒🚓🚔🚕🚖🚗🚘🚙🚚🚛🤒🚜🚲⛽🛣🛤🚨🚥🚦🚧⚓🤕⛵🚣🚤🛳⛴🛥🚢✈🛩🛫😅🤑🛬💺🚁🚟🚠🚡🚀🛰🛎🚪😲🛌🛏🛋🚽🚿🛀🛁⌛⏳⌚😞⏰⏱⏲🕰🕛🕧🕐🕜🕑🕝😟🕒🕞🕓🕟🕔🕠🕕🕡🕖🕢😤🕗🕣🕘🕤🕙🕥🕚🕦🌑🌒😢🌓🌔🌕🌖🌗🌘🌙🌚🌛🌜😭🌡☀🌝🌞⭐🌟🌠☁⛅⛈😦🌤🌥🌦🌧🌨🌩🌪🌫🌬🌀😧🌈🌂☂☔⛱⚡❄☃⛄☄😨🔥💧🌊🎃🎄🎆🎇✨🎈🎉😆😩🎊🎋🎌🎍🎎🎏🎐🎑🎀🎁😬🎖🎗🎞🎟🎫🏷⚽⚾🏀🏈😰🏉🎾🎱🎳⛳🏌⛸🎣🎽🎿😱⛷🏂🏄🏇🏊⛹🏋🚴🚵🏎😳🏍🏅🏆🏏🏐🏑🏒🏓🏸🎯😵🎮🕹🎲♠♥♦♣🃏🀄🎴😡🔇🔈🔉🔊📢📣📯🔔🔕🎼😠🎵🎶🎙🎚🎛🎤🎧🎷🎸🎹😈🎺🎻📻📱📲☎📞📟📠🔋👿🔌💻🖥🖨⌨🖱🖲💽💾💿😉👹📀🎥🎬📽📺📷📸📹📼🔍👺🔎🔬🔭📡🕯💡🔦🏮📔📕💀📖📗📘📙📚📓📒📃📜📄☠📰🗞📑🔖💰💴💵💶💷💸👻💳💹✉📧📨📩📤📥📦📫👽📪📬📭📮🗳✏✒🖋🖊🖌👾🖍📝💼📁📂🗂📅📆🗒🗓🤖📇📈📉📊📋📌📍📎🖇📏💩📐✂🗃🗄🗑🔒🔓🔏🔐🔑😺🗝🔨⛏⚒🛠🔧🔩⚙🗜⚗😊😸⚖🔗⛓💉💊🗡🔪⚔🔫🛡😹🏹🏁🏳🏴🚩🚬⚰⚱🗿🛢😻🔮🏧🚮🚰♿🚹🚺🚻🚼🚾😼🛂🛃🛄🛅⚠🚸⛔🚫🚳🚭😽🚯🚱🚷☢☣⬆↗➡↘⬇🙀↙⬅↖↕↔↩↪⤴⤵🔃😿🔄🔙🔚🔛🔜🔝🛐⚛🕉✡😾☸☯✝☦☪☮🕎🔯♻📛🙈⚜🔰🔱⭕✅☑✔✖❌❎🙉➕➖➗➰➿〽✳✴❇💱😋🙊💲‼⁉❓❔❕❗〰©®👦™♈♉♊♋♌♍♎♏♐👧♑♒♓⛎🔀🔁🔂▶⏩⏭👨⏯◀⏪⏮🔼⏫🔽⏬⏸⏹👩⏺⏏🎦🔅🔆📶📵📳📴#⃣👴*⃣0⃣1⃣2⃣3⃣4⃣5⃣6⃣7⃣8⃣👵9⃣🔟💯🔞🔠🔡🔢🔣🔤🅰👶🆎🅱🆑🆒🆓ℹ🆔Ⓜ🆕🆖👱🅾🆗🅿🆘🆙🆚🈁🈂🈷🈶👮🈯🉐🈹🈚🈲🉑🈸🈴🈳㊗"
     ]
    }
   ],
   "source": [
    "for emoji in emojis:\n",
    "    print(emoji, end=\"\")"
   ]
  },
  {
   "cell_type": "code",
   "execution_count": null,
   "metadata": {
    "collapsed": true
   },
   "outputs": [],
   "source": [
    "#### Using AgglomerativeClustering\n",
    "\n",
    "#\"while the training objective of the skipgram model is to learn word-vector representations that are good at predicting its context in the same sentence\" from http://www.yseam.com/blog/WV.html\n",
    "\n",
    "# Convert array to 2D matrix\n",
    "n_emojis = len(emojis_df)\n",
    "weights_m = np.zeros((n_emojis, n_emojis))\n",
    "weights_m[np.triu_indices(n_emojis)] = weights\n",
    "weights_m = weights_m + np.transpose(weights_m) - np.diag(weights_m.diagonal())\n",
    "\n",
    "hc_model = AgglomerativeClustering(affinity=\"precomputed\", linkage=\"complete\").fit(weights_m)"
   ]
  }
 ],
 "metadata": {
  "kernelspec": {
   "display_name": "Python 3",
   "language": "python",
   "name": "python3"
  },
  "language_info": {
   "codemirror_mode": {
    "name": "ipython",
    "version": 3
   },
   "file_extension": ".py",
   "mimetype": "text/x-python",
   "name": "python",
   "nbconvert_exporter": "python",
   "pygments_lexer": "ipython3",
   "version": "3.3.5"
  }
 },
 "nbformat": 4,
 "nbformat_minor": 0
}
