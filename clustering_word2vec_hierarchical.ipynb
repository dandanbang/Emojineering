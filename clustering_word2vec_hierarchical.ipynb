{
 "cells": [
  {
   "cell_type": "markdown",
   "metadata": {},
   "source": [
    "The goal is to try to do hierarchical clustering of emojis, based on word2vec, ie cosine similarity between word contexts. "
   ]
  },
  {
   "cell_type": "code",
   "execution_count": 44,
   "metadata": {
    "collapsed": false
   },
   "outputs": [],
   "source": [
    "import re\n",
    "import math\n",
    "import itertools\n",
    "\n",
    "import pandas as pd\n",
    "import numpy as np\n",
    "import matplotlib.pyplot as plt\n",
    "%matplotlib inline\n",
    "\n",
    "import gensim\n",
    "from gensim.models import Word2Vec\n",
    "from sklearn.cluster import AgglomerativeClustering\n",
    "from scipy.cluster.hierarchy import linkage, dendrogram, fcluster\n",
    "\n",
    "from data_cleaning import loader\n",
    "import src.happyfuntokenizing\n",
    "\n",
    "from IPython.display import display"
   ]
  },
  {
   "cell_type": "markdown",
   "metadata": {},
   "source": [
    "## Load files"
   ]
  },
  {
   "cell_type": "code",
   "execution_count": 45,
   "metadata": {
    "collapsed": false
   },
   "outputs": [],
   "source": [
    "tweet_df = loader(\"./data/tweets_training_clean.json\")\n",
    "emojis_df = loader(\"./data/emoji_webscraped_expanded.json\")"
   ]
  },
  {
   "cell_type": "code",
   "execution_count": 46,
   "metadata": {
    "collapsed": false
   },
   "outputs": [],
   "source": [
    "def convertEmojis(df):\n",
    "    \"\"\"Converts emojis df to printable format \"\"\"\n",
    "    emojis = list(map(lambda x: bytes(\"{}{}\".format(*x), 'ascii').decode('unicode-escape'), zip(list(df.byteCode1), list(df.byteCode2)))) \n",
    "    return emojis"
   ]
  },
  {
   "cell_type": "code",
   "execution_count": 47,
   "metadata": {
    "collapsed": true
   },
   "outputs": [],
   "source": [
    "emojis_df[\"emojis\"] = convertEmojis(emojis_df)"
   ]
  },
  {
   "cell_type": "markdown",
   "metadata": {},
   "source": [
    "## Training word2vec model"
   ]
  },
  {
   "cell_type": "code",
   "execution_count": 53,
   "metadata": {
    "collapsed": false
   },
   "outputs": [],
   "source": [
    "# Tokenising\n",
    "tok = src.happyfuntokenizing.Tokenizer(preserve_case=False)\n",
    "tweet_df[\"tokens\"] = [list(tok.tokenize(tweet)) for tweet in tweet_df.text]"
   ]
  },
  {
   "cell_type": "code",
   "execution_count": 54,
   "metadata": {
    "collapsed": true
   },
   "outputs": [],
   "source": [
    "# Run once to create and save the word2vec model\n",
    "# emoji_model = gensim.models.Word2Vec(list(tweet_df.tokens), window=10, size=200, workers=4, min_count=100) \n",
    "# emoji_model.save('emoji.embedding')\n",
    "emoji_model = gensim.models.Word2Vec.load('emoji.embedding')"
   ]
  },
  {
   "cell_type": "code",
   "execution_count": 56,
   "metadata": {
    "collapsed": false
   },
   "outputs": [
    {
     "data": {
      "text/plain": [
       "[('🍸', 0.8616750836372375),\n",
       " ('🍹', 0.8468615412712097),\n",
       " ('🍺', 0.8321883082389832),\n",
       " ('🍷', 0.6295613050460815),\n",
       " ('💊', 0.6177286505699158),\n",
       " ('🎁', 0.6154630184173584),\n",
       " ('🎊', 0.6148277521133423),\n",
       " ('🎈', 0.60704505443573),\n",
       " ('🎂', 0.6069178581237793),\n",
       " ('🍴', 0.6053353548049927)]"
      ]
     },
     "execution_count": 56,
     "metadata": {},
     "output_type": "execute_result"
    }
   ],
   "source": [
    "emoji_model.most_similar(positive = ['🍻'], negative= [])"
   ]
  },
  {
   "cell_type": "markdown",
   "metadata": {},
   "source": [
    "## Hierarchical clustering"
   ]
  },
  {
   "cell_type": "code",
   "execution_count": 31,
   "metadata": {
    "collapsed": false
   },
   "outputs": [],
   "source": [
    "# Subsetting to faces\n",
    "def subset_annotations(df):\n",
    "    annotations = df.annotations\n",
    "    list_titles = [list(item) for item in list(annotations)]\n",
    "    index_face_person = [index for index,value in enumerate(list_titles) if 'face' in value] # or 'person' in value]\n",
    "    df_face_person = df.iloc[index_face_person]\n",
    "    return df_face_person"
   ]
  },
  {
   "cell_type": "code",
   "execution_count": 32,
   "metadata": {
    "collapsed": true
   },
   "outputs": [],
   "source": [
    "def subset_present(df):\n",
    "    # Select only emojis that are in our model (ie in the corpus)\n",
    "    return df[df[\"emojis\"].map(lambda x: x in emoji_model.vocab.keys())]"
   ]
  },
  {
   "cell_type": "code",
   "execution_count": 33,
   "metadata": {
    "collapsed": false
   },
   "outputs": [
    {
     "name": "stdout",
     "output_type": "stream",
     "text": [
      "244\n"
     ]
    }
   ],
   "source": [
    "# emojis_df_sub = subset_present(subset_annotations(emojis_df)) # Subset to faces present\n",
    "emojis_df_sub = subset_present(emojis_df) # Subset to emojis present in our data (at least 100 times)\n",
    "print(len(emojis_df_sub)) # Number of emojis being categorized"
   ]
  },
  {
   "cell_type": "code",
   "execution_count": 34,
   "metadata": {
    "collapsed": false,
    "scrolled": true
   },
   "outputs": [],
   "source": [
    "# Calculate pairwise distances\n",
    "combinations = itertools.combinations(emojis_df_sub.emojis, 2)\n",
    "similarities = []\n",
    "for combination in combinations:\n",
    "    try:\n",
    "        similarities += [emoji_model.similarity(*combination)]\n",
    "    except Exception:\n",
    "#         similarities += [np.NAN]\n",
    "        similarities += [0]\n",
    "similarities = np.array(similarities)\n",
    "\n",
    "distances = 1 - np.arccos(similarities) / np.pi # From https://en.wikipedia.org/wiki/Cosine_similarity#Angular_similarity"
   ]
  },
  {
   "cell_type": "markdown",
   "metadata": {},
   "source": [
    "### Visualise clustering with a dendogram"
   ]
  },
  {
   "cell_type": "code",
   "execution_count": 35,
   "metadata": {
    "collapsed": false
   },
   "outputs": [
    {
     "data": {
      "image/png": "[encoded data removed]",
      "text/plain": [
       "<matplotlib.figure.Figure at 0x13375aed0>"
      ]
     },
     "metadata": {},
     "output_type": "display_data"
    }
   ],
   "source": [
    "# Cluster with a complete method\n",
    "hc_linkage = linkage(distances, method=\"complete\")\n",
    "\n",
    "p = 121 # Number of clusters at which to truncate\n",
    "\n",
    "# From http://brandonrose.org/clustering\n",
    "fig, ax = plt.subplots(figsize=(15, 0.2*p)) # set size\n",
    "R = dendrogram(hc_linkage, orientation=\"right\", labels=list(emojis_df_sub.emojis), truncate_mode=\"lastp\", p=p, get_leaves=True, show_leaf_counts=True, show_contracted=False)\n",
    "\n",
    "plt.tick_params(\\\n",
    "    axis= 'x',          # changes apply to the x-axis\n",
    "    which='both',      # both major and minor ticks are affected\n",
    "    bottom='on',      # ticks along the bottom edge are off\n",
    "    top='on',         # ticks along the top edge are off\n",
    "    labelbottom='on')\n",
    "\n",
    "# plt.tight_layout() #show plot with tight layout\n",
    "ax.xaxis.grid(True, which='minor')"
   ]
  },
  {
   "cell_type": "markdown",
   "metadata": {},
   "source": [
    "### Select k clusters based on dendogram"
   ]
  },
  {
   "cell_type": "code",
   "execution_count": 42,
   "metadata": {
    "collapsed": true
   },
   "outputs": [],
   "source": [
    "k=18\n",
    "categories = fcluster(hc_linkage, k, criterion='maxclust')\n",
    "emojis_df_sub.loc[:,\"category\"] = categories"
   ]
  },
  {
   "cell_type": "code",
   "execution_count": 43,
   "metadata": {
    "collapsed": false
   },
   "outputs": [
    {
     "name": "stdout",
     "output_type": "stream",
     "text": [
      "Category 1\n",
      "👼😍💆🙅💃👇😐🐶🐬🍗☕😄😖💧🎊🎀😬😈💸\n",
      "\n",
      "Category 2\n",
      "😀👲💁💏👭👉👅💔💚💫🐴🌹🍁😴😌😛🍪🍻😕🚙🌚☀👹💀💩\n",
      "\n",
      "Category 3\n",
      "🙏👆👎❤💞💭💍🐫🐾🌿🍔🌉✈😲🌈😆😩🏀😡🎧😸💉😋❗\n",
      "\n",
      "Category 4\n",
      "🙇😚👍👀💋💜💦😑😮🌻😪🌵🍰😦⛄⚾🏆📖👻👨\n",
      "\n",
      "Category 5\n",
      "👯🙋👫☝👌💗😣🍃🍫😝🍸🚗😞😭🌝⚡😨🔥🏈♥🔊😉🎥⬇\n",
      "\n",
      "Category 6\n",
      "💄\n",
      "\n",
      "Category 7\n",
      "🙆🙌👬✌🐯🌾🍦😟🔕💵💲\n",
      "\n",
      "Category 8\n",
      "😁😎👋💅💘💨🐷🌴🍩😷🎈⚽😵🎼😠👽🙈\n",
      "\n",
      "Category 9\n",
      "✊✋💙💤🌸😯🍣🌙🌟🎃\n",
      "\n",
      "Category 10\n",
      "🙍😙💪👈👊💓😂🐘🍟🍷⚓😤😢🌞🌀🎁😱📚💰😻👶\n",
      "\n",
      "Category 11\n",
      "🚶💕😇😶🐑😏🌺😫🍴😔🎶💊✔🙊\n",
      "\n",
      "Category 12\n",
      "😘💎🍺☁🏊🔫\n",
      "\n",
      "Category 13\n",
      "🏃🐻🍂🎂😒😧🌊😰🎵😊🔪😹🙉💯\n",
      "\n",
      "Category 14\n",
      "☺💢💣👑🐱🐪🍜❄\n",
      "\n",
      "Category 15\n",
      "💖🌲🍹😓✂🙀\n",
      "\n",
      "Category 16\n",
      "👐💛🍕😜🍭☔✨😳👿✏👵\n",
      "\n",
      "Category 17\n",
      "👸💂👏😥😃⛅🎤\n",
      "\n",
      "Category 18\n",
      "💑💥🍝😅⭐🎉\n",
      "\n"
     ]
    }
   ],
   "source": [
    "for category in range(1, k+1):\n",
    "    print(\"Category {}\".format(category))\n",
    "    emojis_cat = emojis_df_sub[emojis_df_sub[\"category\"] == category]\n",
    "    for emoji in emojis_cat.emojis:\n",
    "        print(emoji, end=\"\")\n",
    "    print(\"\\n\")"
   ]
  },
  {
   "cell_type": "code",
   "execution_count": null,
   "metadata": {
    "collapsed": true
   },
   "outputs": [],
   "source": []
  }
 ],
 "metadata": {
  "kernelspec": {
   "display_name": "Python 3",
   "language": "python",
   "name": "python3"
  },
  "language_info": {
   "codemirror_mode": {
    "name": "ipython",
    "version": 3
   },
   "file_extension": ".py",
   "mimetype": "text/x-python",
   "name": "python",
   "nbconvert_exporter": "python",
   "pygments_lexer": "ipython3",
   "version": "3.3.5"
  }
 },
 "nbformat": 4,
 "nbformat_minor": 0
}
