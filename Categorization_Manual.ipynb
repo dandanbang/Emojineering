{
 "cells": [
  {
   "cell_type": "code",
   "execution_count": 1,
   "metadata": {
    "collapsed": true
   },
   "outputs": [],
   "source": [
    "## import all necessary packages\n",
    "import json\n",
    "import re\n",
    "import pandas as pd\n",
    "\n",
    "import nltk, string\n",
    "from nltk.collocations import *\n",
    "\n",
    "import numpy as np\n",
    "import matplotlib.pyplot as plt\n",
    "\n",
    "from pandas import *\n",
    "\n",
    "from collections import defaultdict\n",
    "\n",
    "import data_cleaning_hr as tc\n",
    "\n",
    "import string\n",
    "import happyfuntokenizing\n",
    "import json"
   ]
  },
  {
   "cell_type": "code",
   "execution_count": 2,
   "metadata": {
    "collapsed": true
   },
   "outputs": [],
   "source": [
    "with open(\"./data/categories_manual.json\") as json_file:\n",
    "    category_dict = json.load(json_file)"
   ]
  },
  {
   "cell_type": "code",
   "execution_count": 3,
   "metadata": {
    "collapsed": true
   },
   "outputs": [],
   "source": [
    "with open('./data/emoji_webscraped_expanded.json','r') as f_emoji:\n",
    "    emoji_df = DataFrame(json.load(f_emoji))"
   ]
  },
  {
   "cell_type": "code",
   "execution_count": 4,
   "metadata": {
    "collapsed": true
   },
   "outputs": [],
   "source": [
    "with open('./data/tweets_training_clean.json','r') as f:\n",
    "    tweet_df = DataFrame(json.load(f))"
   ]
  },
  {
   "cell_type": "code",
   "execution_count": 5,
   "metadata": {
    "collapsed": false
   },
   "outputs": [
    {
     "data": {
      "text/html": [
       "<div>\n",
       "<table border=\"1\" class=\"dataframe\">\n",
       "  <thead>\n",
       "    <tr style=\"text-align: right;\">\n",
       "      <th></th>\n",
       "      <th>id</th>\n",
       "      <th>only_HashTag</th>\n",
       "      <th>only_emoji</th>\n",
       "      <th>only_text_splithashtag</th>\n",
       "      <th>retweet</th>\n",
       "      <th>split_hashtag</th>\n",
       "      <th>text</th>\n",
       "      <th>user_id</th>\n",
       "    </tr>\n",
       "  </thead>\n",
       "  <tbody>\n",
       "    <tr>\n",
       "      <th>0</th>\n",
       "      <td>383560784879833088</td>\n",
       "      <td>[]</td>\n",
       "      <td>[♥]</td>\n",
       "      <td>I'm at SEPTEMBER ( Sunnyvale , CA ) url</td>\n",
       "      <td>None</td>\n",
       "      <td>[]</td>\n",
       "      <td>I'm at SEPTEMBER♥ (Sunnyvale, CA)  url</td>\n",
       "      <td>47880944</td>\n",
       "    </tr>\n",
       "    <tr>\n",
       "      <th>1</th>\n",
       "      <td>385148713460453376</td>\n",
       "      <td>[]</td>\n",
       "      <td>[]</td>\n",
       "      <td>oops . fell asleep in the library . class started at 2 .</td>\n",
       "      <td>None</td>\n",
       "      <td>[]</td>\n",
       "      <td>oops. fell asleep in the library. class started at 2.</td>\n",
       "      <td>259008472</td>\n",
       "    </tr>\n",
       "    <tr>\n",
       "      <th>10</th>\n",
       "      <td>380511446926635008</td>\n",
       "      <td>[]</td>\n",
       "      <td>[]</td>\n",
       "      <td>Time for a splurge with the co-workers . ( @ DishDash Restaurant w / 2 others ) url</td>\n",
       "      <td>None</td>\n",
       "      <td>[]</td>\n",
       "      <td>Time for a splurge with the co-workers. (@ DishDash Restaurant w/ 2 others)  url</td>\n",
       "      <td>777228427</td>\n",
       "    </tr>\n",
       "    <tr>\n",
       "      <th>100</th>\n",
       "      <td>379601897100812289</td>\n",
       "      <td>[]</td>\n",
       "      <td>[]</td>\n",
       "      <td>I slept hella late anyways .</td>\n",
       "      <td>None</td>\n",
       "      <td>[]</td>\n",
       "      <td>I slept hella late anyways.</td>\n",
       "      <td>1104686922</td>\n",
       "    </tr>\n",
       "    <tr>\n",
       "      <th>1000</th>\n",
       "      <td>378303709446295552</td>\n",
       "      <td>[]</td>\n",
       "      <td>[😎, 🙏]</td>\n",
       "      <td>walking with my headphones on kinda high ~ ok ~ I'm feeling today</td>\n",
       "      <td>None</td>\n",
       "      <td>[]</td>\n",
       "      <td>walking with my headphones on kinda high ~ ok ~ I'm feeling today 😎🙏</td>\n",
       "      <td>597925598</td>\n",
       "    </tr>\n",
       "  </tbody>\n",
       "</table>\n",
       "</div>"
      ],
      "text/plain": [
       "                      id only_HashTag only_emoji  \\\n",
       "0     383560784879833088           []        [♥]   \n",
       "1     385148713460453376           []         []   \n",
       "10    380511446926635008           []         []   \n",
       "100   379601897100812289           []         []   \n",
       "1000  378303709446295552           []     [😎, 🙏]   \n",
       "\n",
       "                                                                   only_text_splithashtag  \\\n",
       "0                                                 I'm at SEPTEMBER ( Sunnyvale , CA ) url   \n",
       "1                                oops . fell asleep in the library . class started at 2 .   \n",
       "10    Time for a splurge with the co-workers . ( @ DishDash Restaurant w / 2 others ) url   \n",
       "100                                                          I slept hella late anyways .   \n",
       "1000                    walking with my headphones on kinda high ~ ok ~ I'm feeling today   \n",
       "\n",
       "     retweet split_hashtag  \\\n",
       "0       None            []   \n",
       "1       None            []   \n",
       "10      None            []   \n",
       "100     None            []   \n",
       "1000    None            []   \n",
       "\n",
       "                                                                                   text  \\\n",
       "0                                               I'm at SEPTEMBER♥ (Sunnyvale, CA)  url    \n",
       "1                                 oops. fell asleep in the library. class started at 2.   \n",
       "10    Time for a splurge with the co-workers. (@ DishDash Restaurant w/ 2 others)  url    \n",
       "100                                                         I slept hella late anyways.   \n",
       "1000               walking with my headphones on kinda high ~ ok ~ I'm feeling today 😎🙏   \n",
       "\n",
       "         user_id  \n",
       "0       47880944  \n",
       "1      259008472  \n",
       "10     777228427  \n",
       "100   1104686922  \n",
       "1000   597925598  "
      ]
     },
     "execution_count": 5,
     "metadata": {},
     "output_type": "execute_result"
    }
   ],
   "source": [
    "tweet_df.head()"
   ]
  },
  {
   "cell_type": "markdown",
   "metadata": {},
   "source": [
    "## Statistics on all emojis"
   ]
  },
  {
   "cell_type": "markdown",
   "metadata": {},
   "source": [
    "**emoji_array**:  list of all emojis"
   ]
  },
  {
   "cell_type": "code",
   "execution_count": 6,
   "metadata": {
    "collapsed": false
   },
   "outputs": [
    {
     "data": {
      "text/plain": [
       "298310"
      ]
     },
     "execution_count": 6,
     "metadata": {},
     "output_type": "execute_result"
    }
   ],
   "source": [
    "emoji_array = [word for item in tweet_df.only_emoji for word in item]\n",
    "len(emoji_array)"
   ]
  },
  {
   "cell_type": "markdown",
   "metadata": {},
   "source": [
    "**unique_emoji**:  number of unique emojis"
   ]
  },
  {
   "cell_type": "code",
   "execution_count": 7,
   "metadata": {
    "collapsed": false
   },
   "outputs": [
    {
     "data": {
      "text/plain": [
       "771"
      ]
     },
     "execution_count": 7,
     "metadata": {},
     "output_type": "execute_result"
    }
   ],
   "source": [
    "unique_emoji = set(emoji_array)\n",
    "len(unique_emoji)"
   ]
  },
  {
   "cell_type": "markdown",
   "metadata": {},
   "source": [
    "**full_dict**: percentage of emojis by emoji"
   ]
  },
  {
   "cell_type": "code",
   "execution_count": 8,
   "metadata": {
    "collapsed": true
   },
   "outputs": [],
   "source": [
    "full_dict = defaultdict(int)\n",
    "for item in emoji_array:\n",
    "    full_dict[item] += 1"
   ]
  },
  {
   "cell_type": "code",
   "execution_count": 9,
   "metadata": {
    "collapsed": false
   },
   "outputs": [
    {
     "name": "stdout",
     "output_type": "stream",
     "text": [
      "😂 12.420971472629144\n",
      "😍 5.247561261774663\n",
      "😭 4.42962019375817\n",
      "😃 4.2992189333243935\n",
      "❤ 3.1963393784988767\n",
      "😘 2.4524823170527306\n",
      "👌 2.1739130434782608\n",
      "😞 1.906406087626965\n",
      "😏 1.7837149274244912\n",
      "😒 1.7642720659716404\n",
      "😊 1.7585732962354599\n",
      "💕 1.658677214977708\n",
      "😩 1.6395695752740438\n",
      "😁 1.6043712916093997\n",
      "😉 1.4545271697227717\n",
      "👏 1.4300559820321141\n",
      "😔 1.4189936643089403\n",
      "☺ 1.4169823338138179\n",
      "🙌 1.3492675404780263\n",
      "😳 1.282893634138983\n",
      "🎶 0.9151553752807483\n",
      "🙏 0.8709061043880526\n",
      "😕 0.8306794944856023\n",
      "👍 0.8236398377526735\n",
      "😋 0.8152592940229961\n",
      "💁 0.7260903087392311\n",
      "😑 0.7244141999932956\n",
      "🎉 0.7086587777815024\n",
      "✌ 0.7059770037880058\n",
      "😌 0.6818410378465355\n",
      "😎 0.6610572893969361\n",
      "😡 0.645301867185143\n",
      "😴 0.564848647380242\n",
      "🙈 0.5584794341456873\n",
      "😱 0.5420535684355201\n",
      "💛 0.5403774596895846\n",
      "😫 0.5400422379403975\n",
      "😀 0.5370252421977137\n",
      "💙 0.5209345982367336\n",
      "🔫 0.5105427240119339\n",
      "😛 0.5038382890281922\n",
      "♥ 0.49277597130501827\n",
      "😄 0.4910998625590828\n",
      "😷 0.47165700110623177\n",
      "😜 0.46126512688143206\n",
      "😢 0.4579129093895612\n",
      "💋 0.4267372867151621\n",
      "💜 0.40461265126881435\n",
      "🙊 0.40092521202775633\n",
      "♡ 0.3945559987932017\n"
     ]
    }
   ],
   "source": [
    "for item in sorted(full_dict.items(), key=lambda x:x[1], reverse=True)[:50]:\n",
    "    print(item[0], (float(item[1])/len(emoji_array))*100)"
   ]
  },
  {
   "cell_type": "markdown",
   "metadata": {},
   "source": [
    "## Statistics on only faces"
   ]
  },
  {
   "cell_type": "markdown",
   "metadata": {},
   "source": [
    "**unique_face**: unique faces from category_dict file"
   ]
  },
  {
   "cell_type": "code",
   "execution_count": 10,
   "metadata": {
    "collapsed": false
   },
   "outputs": [
    {
     "data": {
      "text/plain": [
       "80"
      ]
     },
     "execution_count": 10,
     "metadata": {},
     "output_type": "execute_result"
    }
   ],
   "source": [
    "unique_face = [face for item in category_dict.values() for face in item]\n",
    "len(unique_face)"
   ]
  },
  {
   "cell_type": "markdown",
   "metadata": {},
   "source": [
    "**all_faces**: from emoji_array (list of all emojis), subset by unique_face"
   ]
  },
  {
   "cell_type": "code",
   "execution_count": 11,
   "metadata": {
    "collapsed": false
   },
   "outputs": [
    {
     "data": {
      "text/plain": [
       "182803"
      ]
     },
     "execution_count": 11,
     "metadata": {},
     "output_type": "execute_result"
    }
   ],
   "source": [
    "all_faces = [unique for face in emoji_array for unique in unique_face if face in unique]\n",
    "len(all_faces)"
   ]
  },
  {
   "cell_type": "code",
   "execution_count": 12,
   "metadata": {
    "collapsed": false
   },
   "outputs": [
    {
     "data": {
      "text/plain": [
       "80"
      ]
     },
     "execution_count": 12,
     "metadata": {},
     "output_type": "execute_result"
    }
   ],
   "source": [
    "all_faces_unique = set(all_faces)\n",
    "len(all_faces_unique)"
   ]
  },
  {
   "cell_type": "markdown",
   "metadata": {},
   "source": [
    "**categorize**: list of all_faces defined by their respective category from cateogry_dict"
   ]
  },
  {
   "cell_type": "code",
   "execution_count": 13,
   "metadata": {
    "collapsed": false
   },
   "outputs": [],
   "source": [
    "cateogrize = []\n",
    "for category, faces in category_dict.items():\n",
    "    for every_face in all_faces:\n",
    "            if every_face in faces:\n",
    "                cateogrize.append((category, every_face))"
   ]
  },
  {
   "cell_type": "code",
   "execution_count": 14,
   "metadata": {
    "collapsed": false
   },
   "outputs": [],
   "source": [
    "# cateogrize"
   ]
  },
  {
   "cell_type": "markdown",
   "metadata": {},
   "source": [
    "**categorize_percentage**: dictionary with count of each categroy form categorize"
   ]
  },
  {
   "cell_type": "code",
   "execution_count": 15,
   "metadata": {
    "collapsed": false
   },
   "outputs": [],
   "source": [
    "category_percentage = defaultdict(int)\n",
    "for item in cateogrize:\n",
    "    category_percentage[item[0]] += 1"
   ]
  },
  {
   "cell_type": "code",
   "execution_count": 16,
   "metadata": {
    "collapsed": false
   },
   "outputs": [
    {
     "name": "stdout",
     "output_type": "stream",
     "text": [
      "happy 48.710360333254926\n",
      "despairing 35.71385589952025\n",
      "love 13.194531818405606\n",
      "nonhuman 2.3812519488192208\n"
     ]
    }
   ],
   "source": [
    "for item in sorted(category_percentage.items(), key=lambda x:x[1], reverse=True)[:50]:\n",
    "    print(item[0], (float(item[1])/len(cateogrize))*100)"
   ]
  },
  {
   "cell_type": "markdown",
   "metadata": {},
   "source": [
    "## Add category column to dataframe"
   ]
  },
  {
   "cell_type": "code",
   "execution_count": 59,
   "metadata": {
    "collapsed": false
   },
   "outputs": [],
   "source": [
    "def cateogry_column(text):\n",
    "    if len(text) == 0:\n",
    "        return None\n",
    "    \n",
    "    boolean_face = [True if face in unique_face else False for face in text]\n",
    "#     print(boolean_face)\n",
    "    \n",
    "    for item in boolean_face:\n",
    "        if all(boolean_face) == True:\n",
    "        \n",
    "            cateogrize = []\n",
    "            for category, faces in category_dict.items():\n",
    "                for face in text:\n",
    "                        if face in faces:\n",
    "                            cateogrize.append(category)\n",
    "            cateogrize = list(set(cateogrize))\n",
    "            if len(cateogrize)==1:\n",
    "                return cateogrize[0]\n",
    "            else:\n",
    "                return \"Mix_P\"\n",
    "                \n",
    "            return list(set(cateogrize))\n",
    "        \n",
    "        elif all(not element for element in boolean_face):\n",
    "            return \"Other\"\n",
    "#         else:\n",
    "#             return \"Mix_P_NonP\"\n",
    "        else:\n",
    "            true_boolean = [index for index, item in enumerate(boolean_face) if item == True]\n",
    "            keep_true = [text[i] for i in true_boolean]\n",
    "            \n",
    "            cateogrize = []\n",
    "            for category, faces in category_dict.items():\n",
    "                for face in keep_true:\n",
    "                        if face in faces:\n",
    "                            cateogrize.append(category)\n",
    "            cateogrize = list(set(cateogrize))\n",
    "            if len(cateogrize)==1:\n",
    "                return cateogrize[0]\n",
    "            else:\n",
    "                return \"Mix_P\"\n",
    "\n",
    "    return"
   ]
  },
  {
   "cell_type": "code",
   "execution_count": 63,
   "metadata": {
    "collapsed": false
   },
   "outputs": [
    {
     "name": "stdout",
     "output_type": "stream",
     "text": [
      "None\n",
      "Other\n",
      "Other\n",
      "Mix_P\n",
      "despairing\n",
      "despairing\n"
     ]
    }
   ],
   "source": [
    "print(cateogry_column([]))\n",
    "print(cateogry_column([\"❤\"]))\n",
    "print(cateogry_column([\"👌\"]))\n",
    "print(cateogry_column([\"😒\", \"😀\"]))\n",
    "print(cateogry_column([\"😒\", \"👌\"]))\n",
    "print(cateogry_column([\"😒\",\"❤\",\"😩\", \"👌\"]))"
   ]
  },
  {
   "cell_type": "code",
   "execution_count": 64,
   "metadata": {
    "collapsed": false
   },
   "outputs": [],
   "source": [
    "tweet_df[\"cateogry_prediction\"] = tweet_df.only_emoji.apply(cateogry_column)"
   ]
  },
  {
   "cell_type": "code",
   "execution_count": 65,
   "metadata": {
    "collapsed": false
   },
   "outputs": [],
   "source": [
    "dict_category_prediction = defaultdict(int)\n",
    "for item in tweet_df.cateogry_prediction:\n",
    "    dict_category_prediction[item] += 1"
   ]
  },
  {
   "cell_type": "code",
   "execution_count": 66,
   "metadata": {
    "collapsed": false
   },
   "outputs": [
    {
     "data": {
      "text/plain": [
       "defaultdict(int,\n",
       "            {'love': 11559,\n",
       "             'Mix_P': 8694,\n",
       "             'Other': 41217,\n",
       "             'happy': 52558,\n",
       "             None: 625122,\n",
       "             'despairing': 38702,\n",
       "             'nonhuman': 2345})"
      ]
     },
     "execution_count": 66,
     "metadata": {},
     "output_type": "execute_result"
    }
   ],
   "source": [
    "dict_category_prediction"
   ]
  },
  {
   "cell_type": "code",
   "execution_count": 67,
   "metadata": {
    "collapsed": false
   },
   "outputs": [
    {
     "data": {
      "text/plain": [
       "0.678149282605191"
      ]
     },
     "execution_count": 67,
     "metadata": {},
     "output_type": "execute_result"
    }
   ],
   "source": [
    "(11559 + 52558 + 38702 + 2345) / (len(tweet_df) - 625122)"
   ]
  },
  {
   "cell_type": "code",
   "execution_count": 68,
   "metadata": {
    "collapsed": false
   },
   "outputs": [
    {
     "data": {
      "text/plain": [
       "105164"
      ]
     },
     "execution_count": 68,
     "metadata": {},
     "output_type": "execute_result"
    }
   ],
   "source": [
    "(11559 + 52558 + 38702 + 2345)"
   ]
  },
  {
   "cell_type": "markdown",
   "metadata": {},
   "source": [
    "## Make Final column numeric"
   ]
  },
  {
   "cell_type": "code",
   "execution_count": 69,
   "metadata": {
    "collapsed": false
   },
   "outputs": [
    {
     "data": {
      "text/html": [
       "<div>\n",
       "<table border=\"1\" class=\"dataframe\">\n",
       "  <thead>\n",
       "    <tr style=\"text-align: right;\">\n",
       "      <th></th>\n",
       "      <th>id</th>\n",
       "      <th>only_HashTag</th>\n",
       "      <th>only_emoji</th>\n",
       "      <th>only_text_splithashtag</th>\n",
       "      <th>retweet</th>\n",
       "      <th>split_hashtag</th>\n",
       "      <th>text</th>\n",
       "      <th>user_id</th>\n",
       "      <th>cateogry_prediction</th>\n",
       "      <th>category_numeric</th>\n",
       "    </tr>\n",
       "  </thead>\n",
       "  <tbody>\n",
       "    <tr>\n",
       "      <th>0</th>\n",
       "      <td>383560784879833088</td>\n",
       "      <td>[]</td>\n",
       "      <td>[♥]</td>\n",
       "      <td>I'm at SEPTEMBER ( Sunnyvale , CA ) url</td>\n",
       "      <td>None</td>\n",
       "      <td>[]</td>\n",
       "      <td>I'm at SEPTEMBER♥ (Sunnyvale, CA)  url</td>\n",
       "      <td>47880944</td>\n",
       "      <td>Other</td>\n",
       "      <td>6</td>\n",
       "    </tr>\n",
       "    <tr>\n",
       "      <th>1</th>\n",
       "      <td>385148713460453376</td>\n",
       "      <td>[]</td>\n",
       "      <td>[]</td>\n",
       "      <td>oops . fell asleep in the library . class started at 2 .</td>\n",
       "      <td>None</td>\n",
       "      <td>[]</td>\n",
       "      <td>oops. fell asleep in the library. class started at 2.</td>\n",
       "      <td>259008472</td>\n",
       "      <td>None</td>\n",
       "      <td>7</td>\n",
       "    </tr>\n",
       "    <tr>\n",
       "      <th>10</th>\n",
       "      <td>380511446926635008</td>\n",
       "      <td>[]</td>\n",
       "      <td>[]</td>\n",
       "      <td>Time for a splurge with the co-workers . ( @ DishDash Restaurant w / 2 others ) url</td>\n",
       "      <td>None</td>\n",
       "      <td>[]</td>\n",
       "      <td>Time for a splurge with the co-workers. (@ DishDash Restaurant w/ 2 others)  url</td>\n",
       "      <td>777228427</td>\n",
       "      <td>None</td>\n",
       "      <td>7</td>\n",
       "    </tr>\n",
       "    <tr>\n",
       "      <th>100</th>\n",
       "      <td>379601897100812289</td>\n",
       "      <td>[]</td>\n",
       "      <td>[]</td>\n",
       "      <td>I slept hella late anyways .</td>\n",
       "      <td>None</td>\n",
       "      <td>[]</td>\n",
       "      <td>I slept hella late anyways.</td>\n",
       "      <td>1104686922</td>\n",
       "      <td>None</td>\n",
       "      <td>7</td>\n",
       "    </tr>\n",
       "    <tr>\n",
       "      <th>1000</th>\n",
       "      <td>378303709446295552</td>\n",
       "      <td>[]</td>\n",
       "      <td>[😎, 🙏]</td>\n",
       "      <td>walking with my headphones on kinda high ~ ok ~ I'm feeling today</td>\n",
       "      <td>None</td>\n",
       "      <td>[]</td>\n",
       "      <td>walking with my headphones on kinda high ~ ok ~ I'm feeling today 😎🙏</td>\n",
       "      <td>597925598</td>\n",
       "      <td>happy</td>\n",
       "      <td>0</td>\n",
       "    </tr>\n",
       "  </tbody>\n",
       "</table>\n",
       "</div>"
      ],
      "text/plain": [
       "                      id only_HashTag only_emoji  \\\n",
       "0     383560784879833088           []        [♥]   \n",
       "1     385148713460453376           []         []   \n",
       "10    380511446926635008           []         []   \n",
       "100   379601897100812289           []         []   \n",
       "1000  378303709446295552           []     [😎, 🙏]   \n",
       "\n",
       "                                                                   only_text_splithashtag  \\\n",
       "0                                                 I'm at SEPTEMBER ( Sunnyvale , CA ) url   \n",
       "1                                oops . fell asleep in the library . class started at 2 .   \n",
       "10    Time for a splurge with the co-workers . ( @ DishDash Restaurant w / 2 others ) url   \n",
       "100                                                          I slept hella late anyways .   \n",
       "1000                    walking with my headphones on kinda high ~ ok ~ I'm feeling today   \n",
       "\n",
       "     retweet split_hashtag  \\\n",
       "0       None            []   \n",
       "1       None            []   \n",
       "10      None            []   \n",
       "100     None            []   \n",
       "1000    None            []   \n",
       "\n",
       "                                                                                   text  \\\n",
       "0                                               I'm at SEPTEMBER♥ (Sunnyvale, CA)  url    \n",
       "1                                 oops. fell asleep in the library. class started at 2.   \n",
       "10    Time for a splurge with the co-workers. (@ DishDash Restaurant w/ 2 others)  url    \n",
       "100                                                         I slept hella late anyways.   \n",
       "1000               walking with my headphones on kinda high ~ ok ~ I'm feeling today 😎🙏   \n",
       "\n",
       "         user_id cateogry_prediction  category_numeric  \n",
       "0       47880944               Other                 6  \n",
       "1      259008472                None                 7  \n",
       "10     777228427                None                 7  \n",
       "100   1104686922                None                 7  \n",
       "1000   597925598               happy                 0  "
      ]
     },
     "execution_count": 69,
     "metadata": {},
     "output_type": "execute_result"
    }
   ],
   "source": [
    "tweet_df.head()"
   ]
  },
  {
   "cell_type": "code",
   "execution_count": 70,
   "metadata": {
    "collapsed": false
   },
   "outputs": [
    {
     "data": {
      "text/plain": [
       "[(0, 'Mix_P'),\n",
       " (1, 'despairing'),\n",
       " (2, 'nonhuman'),\n",
       " (3, 'love'),\n",
       " (4, 'happy'),\n",
       " (5, 'Other'),\n",
       " (6, None)]"
      ]
     },
     "execution_count": 70,
     "metadata": {},
     "output_type": "execute_result"
    }
   ],
   "source": [
    "numeric_category = [(index, value) for index, value in enumerate(list(set(tweet_df.cateogry_prediction)))]\n",
    "numeric_category"
   ]
  },
  {
   "cell_type": "code",
   "execution_count": 71,
   "metadata": {
    "collapsed": false
   },
   "outputs": [],
   "source": [
    "def make_numeric(text):\n",
    "    _num = [item[0] for item in numeric_category if text == item[1]]\n",
    "    return _num[0]"
   ]
  },
  {
   "cell_type": "code",
   "execution_count": 76,
   "metadata": {
    "collapsed": false
   },
   "outputs": [
    {
     "data": {
      "text/plain": [
       "6"
      ]
     },
     "execution_count": 76,
     "metadata": {},
     "output_type": "execute_result"
    }
   ],
   "source": [
    "make_numeric(None)"
   ]
  },
  {
   "cell_type": "code",
   "execution_count": 77,
   "metadata": {
    "collapsed": true
   },
   "outputs": [],
   "source": [
    "tweet_df['category_numeric'] = tweet_df.cateogry_prediction.apply(make_numeric)"
   ]
  },
  {
   "cell_type": "code",
   "execution_count": 79,
   "metadata": {
    "collapsed": false
   },
   "outputs": [
    {
     "data": {
      "text/plain": [
       "(780197, 10)"
      ]
     },
     "execution_count": 79,
     "metadata": {},
     "output_type": "execute_result"
    }
   ],
   "source": [
    "tweet_df.shape"
   ]
  },
  {
   "cell_type": "code",
   "execution_count": 80,
   "metadata": {
    "collapsed": true
   },
   "outputs": [],
   "source": [
    "tweet_df.to_json('./data/tweets_training_clean_preprocessing.json', force_ascii=False)"
   ]
  },
  {
   "cell_type": "code",
   "execution_count": null,
   "metadata": {
    "collapsed": true
   },
   "outputs": [],
   "source": []
  }
 ],
 "metadata": {
  "kernelspec": {
   "display_name": "Python 3",
   "language": "python",
   "name": "python3"
  },
  "language_info": {
   "codemirror_mode": {
    "name": "ipython",
    "version": 3
   },
   "file_extension": ".py",
   "mimetype": "text/x-python",
   "name": "python",
   "nbconvert_exporter": "python",
   "pygments_lexer": "ipython3",
   "version": "3.4.3"
  }
 },
 "nbformat": 4,
 "nbformat_minor": 0
}
