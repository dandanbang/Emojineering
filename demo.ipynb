{
 "cells": [
  {
   "cell_type": "markdown",
   "metadata": {},
   "source": [
    "# Word2Vec with emojis demo\n",
    "The goal of this demo is to experience the power of word2vec which works well also with emojis. "
   ]
  },
  {
   "cell_type": "code",
   "execution_count": 21,
   "metadata": {
    "collapsed": true
   },
   "outputs": [],
   "source": [
    "from data_cleaning import loader\n",
    "from gensim.models import Word2Vec"
   ]
  },
  {
   "cell_type": "markdown",
   "metadata": {},
   "source": [
    "### Load word2vec model\n",
    "For training see word2vec_hierarchical_clustering. The model is trained on 800k tweets cleaned, with a window size of 10 (for more semantic similarities), a feature vector of size 200 and otherwise standard parameters. "
   ]
  },
  {
   "cell_type": "code",
   "execution_count": 22,
   "metadata": {
    "collapsed": false
   },
   "outputs": [],
   "source": [
    "emoji_model = Word2Vec.load('emoji.embedding')"
   ]
  },
  {
   "cell_type": "markdown",
   "metadata": {},
   "source": [
    "### Load emojis"
   ]
  },
  {
   "cell_type": "code",
   "execution_count": 23,
   "metadata": {
    "collapsed": false
   },
   "outputs": [],
   "source": [
    "def convertEmojis(df):\n",
    "    \"\"\"Converts emojis df to printable format \"\"\"\n",
    "    emojis = list(map(lambda x: bytes(\"{}{}\".format(*x), 'ascii').decode('unicode-escape'), zip(list(df.byteCode1), list(df.byteCode2)))) \n",
    "    return emojis"
   ]
  },
  {
   "cell_type": "code",
   "execution_count": 24,
   "metadata": {
    "collapsed": false
   },
   "outputs": [],
   "source": [
    "def subset_present(df, model):\n",
    "    # Select only emojis that are in our model (ie in the corpus)\n",
    "    return df[df[\"emojis\"].map(lambda x: x in model.vocab.keys())]"
   ]
  },
  {
   "cell_type": "code",
   "execution_count": 25,
   "metadata": {
    "collapsed": false
   },
   "outputs": [],
   "source": [
    "emojis_df = loader(\"./data/emoji_webscraped_expanded.json\")\n",
    "emojis_df[\"emojis\"] = convertEmojis(emojis_df) \n",
    "emojis_df_sub = subset_present(emojis_df, emoji_model) # Subset to emojis present in our data (at least 100 times)"
   ]
  },
  {
   "cell_type": "markdown",
   "metadata": {},
   "source": [
    "## Pick one emoji from this list"
   ]
  },
  {
   "cell_type": "code",
   "execution_count": 26,
   "metadata": {
    "collapsed": false
   },
   "outputs": [
    {
     "name": "stdout",
     "output_type": "stream",
     "text": [
      "😀😁😎👲👸💂👼👯😍💆🙍🙅🙆💁🙋🙇😘🙌🙏🚶🏃💃💏💑👫👬👭💪👈👉☝👆👇✌😚✊✋👊👌👍👎👋👏👐☺💅👀👅💋💘❤💓💔💕💖💗💙💚💛💜💞💤💢💣💥😇💦💨💫💭😂😐👑😑💍💎🐶😶🐱🐯🐴🐷🐑😏🐪🐫🐘😣🐻🐾😥😮🐬🌸😃😯🌹🌺🌻🌲😪🌴🌵🌾🌿🍁🍂🍃😫😴😌🍗🍔🍟🍕🍜🍣😛🍦🍩🍪🎂🍰🍫😜☕🍷😝🍸🍹🍺🍻🍴😄😒😓😔😕🌉😖😷🚗🚙✈😅😲😞😟😤😢🌙🌚😭☀🌞🌟☁⛅😦🌀😧🌈☔⚡❄⛄😨🔥💧🌊🎃✨🎈🎉😆😩🎊🎀🎁😬⚽⚾🏀🏈😰😱🏊😳🏆😵♥😡🔊🔕🎼😠🎵🎶🎤🎧😈👿😉👹🎥💀📖📚💰💵💸👻👽💩😊😸💉💊🔪🔫😹😻🙀🙈✔🙉😋🙊💲❗👨💯👶"
     ]
    }
   ],
   "source": [
    "for emoji in emojis_df_sub.emojis:\n",
    "    print(emoji, end=\"\")"
   ]
  },
  {
   "cell_type": "markdown",
   "metadata": {},
   "source": [
    "## Drag and drop emojis here"
   ]
  },
  {
   "cell_type": "code",
   "execution_count": 47,
   "metadata": {
    "collapsed": false
   },
   "outputs": [
    {
     "data": {
      "text/plain": [
       "[('👸', 0.6423957943916321)]"
      ]
     },
     "execution_count": 47,
     "metadata": {},
     "output_type": "execute_result"
    }
   ],
   "source": [
    "emoji_model.most_similar(positive = ['👑', \"girl\"], negative= [\"guy\"], topn=1)"
   ]
  },
  {
   "cell_type": "markdown",
   "metadata": {},
   "source": [
    "## Examples"
   ]
  },
  {
   "cell_type": "code",
   "execution_count": 30,
   "metadata": {
    "collapsed": false
   },
   "outputs": [
    {
     "data": {
      "text/plain": [
       "[('👸', 0.6423957943916321)]"
      ]
     },
     "execution_count": 30,
     "metadata": {},
     "output_type": "execute_result"
    }
   ],
   "source": [
    "emoji_model.most_similar(positive = ['👑', \"girl\"], negative= [\"guy\"], topn=1)"
   ]
  },
  {
   "cell_type": "code",
   "execution_count": 29,
   "metadata": {
    "collapsed": false
   },
   "outputs": [
    {
     "data": {
      "text/plain": [
       "[('🐫', 0.9589635133743286)]"
      ]
     },
     "execution_count": 29,
     "metadata": {},
     "output_type": "execute_result"
    }
   ],
   "source": [
    "emoji_model.most_similar(positive = ['🐪'], negative= [], topn=1)"
   ]
  },
  {
   "cell_type": "code",
   "execution_count": 31,
   "metadata": {
    "collapsed": false
   },
   "outputs": [
    {
     "data": {
      "text/plain": [
       "[('🍸', 0.8535861968994141)]"
      ]
     },
     "execution_count": 31,
     "metadata": {},
     "output_type": "execute_result"
    }
   ],
   "source": [
    "emoji_model.most_similar(positive = ['🍺'], negative= [], topn=1)"
   ]
  },
  {
   "cell_type": "code",
   "execution_count": 32,
   "metadata": {
    "collapsed": false
   },
   "outputs": [
    {
     "data": {
      "text/plain": [
       "[('🍸', 0.8616750836372375)]"
      ]
     },
     "execution_count": 32,
     "metadata": {},
     "output_type": "execute_result"
    }
   ],
   "source": [
    "emoji_model.most_similar(positive = ['🍻'], negative= [], topn=1)"
   ]
  },
  {
   "cell_type": "code",
   "execution_count": 37,
   "metadata": {
    "collapsed": false
   },
   "outputs": [
    {
     "data": {
      "text/plain": [
       "[('dessert', 0.35507333278656006),\n",
       " ('cheese', 0.3402734696865082),\n",
       " ('pancakes', 0.33361250162124634),\n",
       " ('pasta', 0.33213138580322266),\n",
       " ('cookies', 0.3320840001106262),\n",
       " ('chowder', 0.3229526877403259),\n",
       " ('#dinner', 0.321743905544281),\n",
       " ('lunch', 0.32160159945487976),\n",
       " ('bacon', 0.31315314769744873),\n",
       " ('grilled', 0.31165188550949097)]"
      ]
     },
     "execution_count": 37,
     "metadata": {},
     "output_type": "execute_result"
    }
   ],
   "source": [
    "emoji_model.most_similar(positive = ['🍴'], negative= [\"🍺\"], topn=10)"
   ]
  },
  {
   "cell_type": "code",
   "execution_count": 39,
   "metadata": {
    "collapsed": false
   },
   "outputs": [
    {
     "data": {
      "text/plain": [
       "[('fitness', 0.5639835596084595),\n",
       " ('💪', 0.5312219858169556),\n",
       " ('🏈', 0.5184454917907715),\n",
       " ('⚽', 0.5005420446395874),\n",
       " ('hr', 0.48402613401412964),\n",
       " ('24', 0.48130345344543457),\n",
       " ('🎥', 0.4729393720626831),\n",
       " ('🏀', 0.4544886648654938),\n",
       " ('🎀', 0.4488743543624878),\n",
       " ('👸', 0.4466416835784912)]"
      ]
     },
     "execution_count": 39,
     "metadata": {},
     "output_type": "execute_result"
    }
   ],
   "source": [
    "emoji_model.most_similar(positive = ['sport', \"🏆\"], negative= [], topn=10)"
   ]
  },
  {
   "cell_type": "code",
   "execution_count": 45,
   "metadata": {
    "collapsed": false
   },
   "outputs": [
    {
     "data": {
      "text/plain": [
       "[('❄', 0.565323531627655),\n",
       " ('sweater', 0.4915381073951721),\n",
       " ('clouds', 0.48315128684043884),\n",
       " ('winter', 0.4809408485889435),\n",
       " ('☁', 0.4755793809890747),\n",
       " ('corn', 0.4643056392669678),\n",
       " ('rain', 0.4608880281448364),\n",
       " ('☔', 0.4540202021598816),\n",
       " ('cinnamon', 0.4460812211036682),\n",
       " ('⛅', 0.4455045163631439)]"
      ]
     },
     "execution_count": 45,
     "metadata": {},
     "output_type": "execute_result"
    }
   ],
   "source": [
    "emoji_model.most_similar(positive = [\"snow\"], negative= [], topn=10)"
   ]
  },
  {
   "cell_type": "code",
   "execution_count": 46,
   "metadata": {
    "collapsed": false
   },
   "outputs": [
    {
     "data": {
      "text/plain": [
       "[('💑', 0.6143924593925476),\n",
       " ('💏', 0.566390872001648),\n",
       " ('🌺', 0.529681384563446),\n",
       " ('👫', 0.5216408371925354),\n",
       " ('💓', 0.5182384848594666),\n",
       " ('💎', 0.5180035829544067),\n",
       " ('👬', 0.5043045282363892),\n",
       " ('🎀', 0.4919293522834778),\n",
       " ('🐻', 0.4892832934856415),\n",
       " ('💘', 0.4833012521266937)]"
      ]
     },
     "execution_count": 46,
     "metadata": {},
     "output_type": "execute_result"
    }
   ],
   "source": [
    "emoji_model.most_similar(positive = [\"💲\", \"💍\"], negative= [], topn=10)"
   ]
  },
  {
   "cell_type": "code",
   "execution_count": null,
   "metadata": {
    "collapsed": true
   },
   "outputs": [],
   "source": []
  }
 ],
 "metadata": {
  "kernelspec": {
   "display_name": "Python 3",
   "language": "python",
   "name": "python3"
  },
  "language_info": {
   "codemirror_mode": {
    "name": "ipython",
    "version": 3
   },
   "file_extension": ".py",
   "mimetype": "text/x-python",
   "name": "python",
   "nbconvert_exporter": "python",
   "pygments_lexer": "ipython3",
   "version": "3.3.5"
  }
 },
 "nbformat": 4,
 "nbformat_minor": 0
}
