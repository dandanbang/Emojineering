{
 "cells": [
  {
   "cell_type": "markdown",
   "metadata": {},
   "source": [
    "## Purpose of K-Means Clustering\n",
    "\n",
    "The purpose of the notebook is to use annotatoins of each emoji to intelligently cluster emojis\n",
    "* use 'emoji_webscraped_expanded.json' file to create categories"
   ]
  },
  {
   "cell_type": "markdown",
   "metadata": {},
   "source": [
    "** Import Packages **"
   ]
  },
  {
   "cell_type": "code",
   "execution_count": 1,
   "metadata": {
    "collapsed": false
   },
   "outputs": [],
   "source": [
    "# import packages work bitch please meow\n",
    "# meow meow\n",
    "# meow\n",
    "import nltk, re\n",
    "import numpy as np\n",
    "import gensim\n",
    "from gensim.models import Word2Vec\n",
    "from nltk.data import find\n",
    "import pandas as pd\n",
    "from collections import defaultdict\n",
    "from nltk.corpus import stopwords\n",
    "import json"
   ]
  },
  {
   "cell_type": "markdown",
   "metadata": {},
   "source": [
    "** Function to convert the text file into a list of 1) titles 2) descriptions 3) annotations **"
   ]
  },
  {
   "cell_type": "code",
   "execution_count": 2,
   "metadata": {
    "collapsed": false
   },
   "outputs": [],
   "source": [
    "df = pd.read_json(\"data/emoji_webscraped_expanded.json\")"
   ]
  },
  {
   "cell_type": "markdown",
   "metadata": {},
   "source": [
    "**Subset Dataframe to only annotations which either contain face or person**"
   ]
  },
  {
   "cell_type": "code",
   "execution_count": 3,
   "metadata": {
    "collapsed": false
   },
   "outputs": [],
   "source": [
    "def subset_annotations(_df):\n",
    "    list_titles = [list(item) for item in list(_df)]\n",
    "    index_face_person = [index for index,value in enumerate(list_titles) if 'face' in value] # or 'person' in value]\n",
    "    # print(len(index_face_person))\n",
    "    df_face_person = df.iloc[index_face_person]\n",
    "    # print(df_face_person.shape)\n",
    "    # df_face_person.head()\n",
    "    return df_face_person"
   ]
  },
  {
   "cell_type": "markdown",
   "metadata": {},
   "source": [
    "** return list of all annotations and the fifty top annotations **"
   ]
  },
  {
   "cell_type": "code",
   "execution_count": 4,
   "metadata": {
    "collapsed": false
   },
   "outputs": [],
   "source": [
    "def word_list(annotations, _common=100):\n",
    "    stop_words = stopwords.words('english')\n",
    "    total_list = [word for item in list(annotations) for word in item if word not in stop_words]\n",
    "    top_list = nltk.FreqDist(total_list).most_common(_common)\n",
    "    return total_list, top_list"
   ]
  },
  {
   "cell_type": "markdown",
   "metadata": {},
   "source": [
    "** return list of fifty top words without frequency rate **"
   ]
  },
  {
   "cell_type": "code",
   "execution_count": 5,
   "metadata": {
    "collapsed": false
   },
   "outputs": [],
   "source": [
    "def top_justwords(top_list):\n",
    "    top_words = [item[0] for item in top_list]\n",
    "    return top_words"
   ]
  },
  {
   "cell_type": "code",
   "execution_count": 6,
   "metadata": {
    "collapsed": false
   },
   "outputs": [],
   "source": [
    "def face_by_topwords(top, df):\n",
    "    top_justwords_array = [(top) for i in range(df.shape[0])]\n",
    "    df['top_words'] = pd.Series(top_justwords_array, index=df.index)\n",
    "    \n",
    "    df['top_binary'] = [list(pd.Series(item).isin(list(df.annotations)[index])) for index, item in enumerate(df.top_words)]\n",
    "    df = df.reset_index(drop=True)\n",
    "    \n",
    "    return df"
   ]
  },
  {
   "cell_type": "code",
   "execution_count": 7,
   "metadata": {
    "collapsed": false,
    "scrolled": true
   },
   "outputs": [],
   "source": [
    "from sklearn.cluster import KMeans\n",
    "\n",
    "def Clustering(df_combined, n_clusters=5):\n",
    "    _X = np.array(df_combined.ix[:,7:(df_combined.shape)[1]])\n",
    "    k_means = KMeans(init='k-means++', n_clusters= n_clusters, n_init=20)\n",
    "    k_means.fit(_X)\n",
    "    k_means_labels = k_means.labels_\n",
    "    k_means_cluster_centers = k_means.cluster_centers_\n",
    "    k_means_labels_unique = np.unique(k_means_labels)\n",
    "    ft = (k_means_labels, k_means_cluster_centers, k_means_labels_unique)\n",
    "    labels = np.array(k_means_labels_unique)\n",
    "    location = np.array(k_means_cluster_centers)\n",
    "    labels_location = list(zip(labels, location))\n",
    "    # person_df['cluster_label'] = pd.DataFrame(k_means_labels)\n",
    "    print (\"labels:\\n %s, \\n cluster centers:\\n %s,\\n  unique labels:\\n %s\" % ft)\n",
    "    print(labels_location)\n",
    "    return k_means_labels"
   ]
  },
  {
   "cell_type": "code",
   "execution_count": 8,
   "metadata": {
    "collapsed": false
   },
   "outputs": [],
   "source": [
    "def create_dictionary(df, labels):\n",
    "    df_combined['k_means'] = list(k_means_labels)\n",
    "    unique_labels = list(k_means_labels)\n",
    "    \n",
    "    # subset df to two fields needed\n",
    "    subset = df_combined[['k_means','byteCode1']]\n",
    "    subset = subset.values.tolist()\n",
    "    \n",
    "    # create dictionary from subset df\n",
    "    dict_grouping = defaultdict(list)\n",
    "    for key, date in subset:\n",
    "        dict_grouping[key].append(date)\n",
    "    \n",
    "    return dict_grouping"
   ]
  },
  {
   "cell_type": "markdown",
   "metadata": {},
   "source": [
    "## Call Functions"
   ]
  },
  {
   "cell_type": "code",
   "execution_count": 9,
   "metadata": {
    "collapsed": false
   },
   "outputs": [
    {
     "name": "stderr",
     "output_type": "stream",
     "text": [
      "/Users/carlo_liquido/anaconda/lib/python3.4/site-packages/ipykernel/__main__.py:3: SettingWithCopyWarning: \n",
      "A value is trying to be set on a copy of a slice from a DataFrame.\n",
      "Try using .loc[row_indexer,col_indexer] = value instead\n",
      "\n",
      "See the the caveats in the documentation: http://pandas.pydata.org/pandas-docs/stable/indexing.html#indexing-view-versus-copy\n",
      "  app.launch_new_instance()\n",
      "/Users/carlo_liquido/anaconda/lib/python3.4/site-packages/ipykernel/__main__.py:5: SettingWithCopyWarning: \n",
      "A value is trying to be set on a copy of a slice from a DataFrame.\n",
      "Try using .loc[row_indexer,col_indexer] = value instead\n",
      "\n",
      "See the the caveats in the documentation: http://pandas.pydata.org/pandas-docs/stable/indexing.html#indexing-view-versus-copy\n"
     ]
    },
    {
     "name": "stdout",
     "output_type": "stream",
     "text": [
      "labels:\n",
      " [1 1 1 1 0 1 1 1 1 1 1 1 1 1 1 0 1 1 1 1 3 3 1 3 3 3 3 3 3 1 3 3 3 1 3 3 3\n",
      " 1 3 3 1 3 3 1 3 1 1 1 1 1 1 1 1 1 1 1 1 1 1 1 1 1 1 1 1 1 1 1 1 1 1 1 1 1\n",
      " 1 2 2 2 1 2 2 1 3 1 1 1 1 1 1 1 1 1 1 1 0 0 1 0 0 0 1 0 0 0 1 3 3 1 3 3 1\n",
      " 3 3 3 3 3 3 4 4 1 4], \n",
      " cluster centers:\n",
      " [[  1.00000000e+00   1.00000000e+00   2.00000000e-01   5.55111512e-17\n",
      "    2.00000000e-01   0.00000000e+00   1.00000000e+00   1.38777878e-17\n",
      "    1.38777878e-17   9.00000000e-01   6.00000000e-01   0.00000000e+00\n",
      "    2.00000000e-01  -1.38777878e-17   0.00000000e+00   5.00000000e-01\n",
      "    6.93889390e-18   6.93889390e-18   0.00000000e+00   0.00000000e+00\n",
      "    0.00000000e+00   0.00000000e+00   0.00000000e+00   1.00000000e-01\n",
      "    0.00000000e+00   0.00000000e+00   0.00000000e+00   0.00000000e+00\n",
      "    0.00000000e+00   0.00000000e+00   0.00000000e+00   0.00000000e+00\n",
      "    0.00000000e+00   0.00000000e+00   0.00000000e+00   2.00000000e-01\n",
      "    0.00000000e+00   0.00000000e+00   2.00000000e-01   2.00000000e-01\n",
      "    0.00000000e+00   0.00000000e+00   0.00000000e+00   0.00000000e+00\n",
      "    0.00000000e+00   0.00000000e+00   0.00000000e+00   0.00000000e+00\n",
      "    0.00000000e+00   0.00000000e+00]\n",
      " [  1.00000000e+00   9.86301370e-01  -3.88578059e-16   5.55111512e-17\n",
      "    1.64383562e-01   1.36986301e-01   5.55111512e-17  -9.71445147e-17\n",
      "    1.23287671e-01  -9.71445147e-17   2.73972603e-02   9.58904110e-02\n",
      "   -1.38777878e-17   1.36986301e-02   1.36986301e-02  -4.85722573e-17\n",
      "    4.10958904e-02   5.47945205e-02   5.47945205e-02   6.24500451e-17\n",
      "    6.24500451e-17   6.24500451e-17   2.73972603e-02   2.73972603e-02\n",
      "    2.42861287e-17   2.42861287e-17   1.36986301e-02   4.10958904e-02\n",
      "    2.42861287e-17   2.42861287e-17   2.73972603e-02   2.73972603e-02\n",
      "    2.73972603e-02   4.10958904e-02   4.10958904e-02   3.12250226e-17\n",
      "    2.73972603e-02   2.73972603e-02   3.12250226e-17   3.12250226e-17\n",
      "    3.12250226e-17   2.73972603e-02   1.36986301e-02   2.73972603e-02\n",
      "    1.36986301e-02   2.73972603e-02   2.73972603e-02   1.36986301e-02\n",
      "    1.36986301e-02   2.73972603e-02]\n",
      " [  1.00000000e+00   0.00000000e+00   1.00000000e+00   0.00000000e+00\n",
      "    0.00000000e+00   0.00000000e+00   0.00000000e+00   0.00000000e+00\n",
      "    0.00000000e+00   0.00000000e+00   0.00000000e+00   0.00000000e+00\n",
      "    1.00000000e+00   1.00000000e+00   1.00000000e+00   0.00000000e+00\n",
      "    0.00000000e+00   0.00000000e+00   0.00000000e+00   8.00000000e-01\n",
      "    0.00000000e+00   0.00000000e+00   0.00000000e+00   0.00000000e+00\n",
      "    0.00000000e+00   0.00000000e+00   4.00000000e-01   0.00000000e+00\n",
      "    0.00000000e+00   0.00000000e+00   0.00000000e+00   0.00000000e+00\n",
      "    0.00000000e+00   0.00000000e+00   0.00000000e+00   0.00000000e+00\n",
      "    0.00000000e+00   0.00000000e+00   0.00000000e+00   0.00000000e+00\n",
      "    4.00000000e-01   0.00000000e+00   0.00000000e+00   0.00000000e+00\n",
      "    0.00000000e+00   0.00000000e+00   0.00000000e+00   2.00000000e-01\n",
      "    0.00000000e+00   0.00000000e+00]\n",
      " [  1.00000000e+00  -5.55111512e-16   1.00000000e+00   9.33333333e-01\n",
      "    1.33333333e-01   1.00000000e-01   3.33333333e-02   3.33333333e-01\n",
      "    3.33333333e-02   1.38777878e-17   3.33333333e-02   3.33333333e-02\n",
      "   -2.08166817e-17   3.33333333e-02  -3.46944695e-17   0.00000000e+00\n",
      "    6.66666667e-02   3.33333333e-02   0.00000000e+00   0.00000000e+00\n",
      "    3.33333333e-02   1.33333333e-01   3.33333333e-02  -1.73472348e-17\n",
      "   -1.73472348e-17  -1.73472348e-17  -1.73472348e-17  -1.73472348e-17\n",
      "   -1.73472348e-17  -1.73472348e-17   3.33333333e-02   3.33333333e-02\n",
      "    3.33333333e-02  -1.73472348e-17  -1.73472348e-17   0.00000000e+00\n",
      "    0.00000000e+00   0.00000000e+00   0.00000000e+00   0.00000000e+00\n",
      "    0.00000000e+00   0.00000000e+00   3.33333333e-02   0.00000000e+00\n",
      "    0.00000000e+00   0.00000000e+00   0.00000000e+00   0.00000000e+00\n",
      "    3.33333333e-02   0.00000000e+00]\n",
      " [  1.00000000e+00   0.00000000e+00   1.00000000e+00   1.00000000e+00\n",
      "    0.00000000e+00  -1.38777878e-17   1.38777878e-17   0.00000000e+00\n",
      "    0.00000000e+00   0.00000000e+00   0.00000000e+00   0.00000000e+00\n",
      "    0.00000000e+00   0.00000000e+00   0.00000000e+00   0.00000000e+00\n",
      "    0.00000000e+00   0.00000000e+00   0.00000000e+00   0.00000000e+00\n",
      "    1.00000000e+00   0.00000000e+00   0.00000000e+00   0.00000000e+00\n",
      "    1.00000000e+00   1.00000000e+00   0.00000000e+00   0.00000000e+00\n",
      "    1.00000000e+00   1.00000000e+00   0.00000000e+00   0.00000000e+00\n",
      "    0.00000000e+00   0.00000000e+00   0.00000000e+00   0.00000000e+00\n",
      "    0.00000000e+00   0.00000000e+00   0.00000000e+00   0.00000000e+00\n",
      "    0.00000000e+00   0.00000000e+00   0.00000000e+00   0.00000000e+00\n",
      "    3.33333333e-01   0.00000000e+00   0.00000000e+00   0.00000000e+00\n",
      "    0.00000000e+00   0.00000000e+00]],\n",
      "  unique labels:\n",
      " [0 1 2 3 4]\n",
      "[(0, array([  1.00000000e+00,   1.00000000e+00,   2.00000000e-01,\n",
      "         5.55111512e-17,   2.00000000e-01,   0.00000000e+00,\n",
      "         1.00000000e+00,   1.38777878e-17,   1.38777878e-17,\n",
      "         9.00000000e-01,   6.00000000e-01,   0.00000000e+00,\n",
      "         2.00000000e-01,  -1.38777878e-17,   0.00000000e+00,\n",
      "         5.00000000e-01,   6.93889390e-18,   6.93889390e-18,\n",
      "         0.00000000e+00,   0.00000000e+00,   0.00000000e+00,\n",
      "         0.00000000e+00,   0.00000000e+00,   1.00000000e-01,\n",
      "         0.00000000e+00,   0.00000000e+00,   0.00000000e+00,\n",
      "         0.00000000e+00,   0.00000000e+00,   0.00000000e+00,\n",
      "         0.00000000e+00,   0.00000000e+00,   0.00000000e+00,\n",
      "         0.00000000e+00,   0.00000000e+00,   2.00000000e-01,\n",
      "         0.00000000e+00,   0.00000000e+00,   2.00000000e-01,\n",
      "         2.00000000e-01,   0.00000000e+00,   0.00000000e+00,\n",
      "         0.00000000e+00,   0.00000000e+00,   0.00000000e+00,\n",
      "         0.00000000e+00,   0.00000000e+00,   0.00000000e+00,\n",
      "         0.00000000e+00,   0.00000000e+00])), (1, array([  1.00000000e+00,   9.86301370e-01,  -3.88578059e-16,\n",
      "         5.55111512e-17,   1.64383562e-01,   1.36986301e-01,\n",
      "         5.55111512e-17,  -9.71445147e-17,   1.23287671e-01,\n",
      "        -9.71445147e-17,   2.73972603e-02,   9.58904110e-02,\n",
      "        -1.38777878e-17,   1.36986301e-02,   1.36986301e-02,\n",
      "        -4.85722573e-17,   4.10958904e-02,   5.47945205e-02,\n",
      "         5.47945205e-02,   6.24500451e-17,   6.24500451e-17,\n",
      "         6.24500451e-17,   2.73972603e-02,   2.73972603e-02,\n",
      "         2.42861287e-17,   2.42861287e-17,   1.36986301e-02,\n",
      "         4.10958904e-02,   2.42861287e-17,   2.42861287e-17,\n",
      "         2.73972603e-02,   2.73972603e-02,   2.73972603e-02,\n",
      "         4.10958904e-02,   4.10958904e-02,   3.12250226e-17,\n",
      "         2.73972603e-02,   2.73972603e-02,   3.12250226e-17,\n",
      "         3.12250226e-17,   3.12250226e-17,   2.73972603e-02,\n",
      "         1.36986301e-02,   2.73972603e-02,   1.36986301e-02,\n",
      "         2.73972603e-02,   2.73972603e-02,   1.36986301e-02,\n",
      "         1.36986301e-02,   2.73972603e-02])), (2, array([ 1. ,  0. ,  1. ,  0. ,  0. ,  0. ,  0. ,  0. ,  0. ,  0. ,  0. ,\n",
      "        0. ,  1. ,  1. ,  1. ,  0. ,  0. ,  0. ,  0. ,  0.8,  0. ,  0. ,\n",
      "        0. ,  0. ,  0. ,  0. ,  0.4,  0. ,  0. ,  0. ,  0. ,  0. ,  0. ,\n",
      "        0. ,  0. ,  0. ,  0. ,  0. ,  0. ,  0. ,  0.4,  0. ,  0. ,  0. ,\n",
      "        0. ,  0. ,  0. ,  0.2,  0. ,  0. ])), (3, array([  1.00000000e+00,  -5.55111512e-16,   1.00000000e+00,\n",
      "         9.33333333e-01,   1.33333333e-01,   1.00000000e-01,\n",
      "         3.33333333e-02,   3.33333333e-01,   3.33333333e-02,\n",
      "         1.38777878e-17,   3.33333333e-02,   3.33333333e-02,\n",
      "        -2.08166817e-17,   3.33333333e-02,  -3.46944695e-17,\n",
      "         0.00000000e+00,   6.66666667e-02,   3.33333333e-02,\n",
      "         0.00000000e+00,   0.00000000e+00,   3.33333333e-02,\n",
      "         1.33333333e-01,   3.33333333e-02,  -1.73472348e-17,\n",
      "        -1.73472348e-17,  -1.73472348e-17,  -1.73472348e-17,\n",
      "        -1.73472348e-17,  -1.73472348e-17,  -1.73472348e-17,\n",
      "         3.33333333e-02,   3.33333333e-02,   3.33333333e-02,\n",
      "        -1.73472348e-17,  -1.73472348e-17,   0.00000000e+00,\n",
      "         0.00000000e+00,   0.00000000e+00,   0.00000000e+00,\n",
      "         0.00000000e+00,   0.00000000e+00,   0.00000000e+00,\n",
      "         3.33333333e-02,   0.00000000e+00,   0.00000000e+00,\n",
      "         0.00000000e+00,   0.00000000e+00,   0.00000000e+00,\n",
      "         3.33333333e-02,   0.00000000e+00])), (4, array([  1.00000000e+00,   0.00000000e+00,   1.00000000e+00,\n",
      "         1.00000000e+00,   0.00000000e+00,  -1.38777878e-17,\n",
      "         1.38777878e-17,   0.00000000e+00,   0.00000000e+00,\n",
      "         0.00000000e+00,   0.00000000e+00,   0.00000000e+00,\n",
      "         0.00000000e+00,   0.00000000e+00,   0.00000000e+00,\n",
      "         0.00000000e+00,   0.00000000e+00,   0.00000000e+00,\n",
      "         0.00000000e+00,   0.00000000e+00,   1.00000000e+00,\n",
      "         0.00000000e+00,   0.00000000e+00,   0.00000000e+00,\n",
      "         1.00000000e+00,   1.00000000e+00,   0.00000000e+00,\n",
      "         0.00000000e+00,   1.00000000e+00,   1.00000000e+00,\n",
      "         0.00000000e+00,   0.00000000e+00,   0.00000000e+00,\n",
      "         0.00000000e+00,   0.00000000e+00,   0.00000000e+00,\n",
      "         0.00000000e+00,   0.00000000e+00,   0.00000000e+00,\n",
      "         0.00000000e+00,   0.00000000e+00,   0.00000000e+00,\n",
      "         0.00000000e+00,   0.00000000e+00,   3.33333333e-01,\n",
      "         0.00000000e+00,   0.00000000e+00,   0.00000000e+00,\n",
      "         0.00000000e+00,   0.00000000e+00]))]\n"
     ]
    }
   ],
   "source": [
    "df_face_person = subset_annotations(df.annotations)\n",
    "total_list, top_list = word_list(df_face_person.annotations, 50)\n",
    "top_justwords = top_justwords(top_list)\n",
    "\n",
    "df_features = pd.DataFrame(columns=top_justwords)\n",
    "df_face_person = face_by_topwords(top_justwords, df_face_person)\n",
    "\n",
    "data_features = list(df_face_person.top_binary)\n",
    "\n",
    "df_features = pd.DataFrame(data_features, columns=top_justwords)\n",
    "df_features = df_features.astype(int)\n",
    "\n",
    "df_combined = pd.concat([df_face_person, df_features], axis=1, join_axes=[df_face_person.index])\n",
    "k_means_labels = Clustering(df_combined, n_clusters=5)\n",
    "dict_grouping = create_dictionary(df_combined, k_means_labels)"
   ]
  },
  {
   "cell_type": "markdown",
   "metadata": {},
   "source": [
    "## Output Emojis by Category"
   ]
  },
  {
   "cell_type": "code",
   "execution_count": 10,
   "metadata": {
    "collapsed": false
   },
   "outputs": [
    {
     "name": "stdout",
     "output_type": "stream",
     "text": [
      "0\n",
      "👼😇😈👿👹👺💀👻👽👾\n",
      "\n",
      "1\n",
      "😀😁😎⛑😍😘🗣😗😙😚☺👀🙂🤗😂🤔😐😑😶🙄😏😣😥😮🤐😃😯😪😫😴😌🤓😛😜😝☹😄🙁😒😓😔😕😖🙃😷🤒🤕😅🤑😲😞😟😤😢😭😦😧😨😆😩😬😰😱😳😵😡😠😉☠🤖😊🗿😋\n",
      "\n",
      "2\n",
      "🌚🌛🌜🌝🌞\n",
      "\n",
      "3\n",
      "🐵🐶🐺🐱🦁🐯🐴🦄🐮🐷🐽🐭🐹🐰🐻🐼🐸🐲🐳🌬💩😺😸😹😻😼😽🙀😿😾\n",
      "\n",
      "4\n",
      "🙈🙉🙊\n",
      "\n"
     ]
    }
   ],
   "source": [
    "for key, value in dict_grouping.items():\n",
    "    print(key)\n",
    "    for _emoji in value:\n",
    "        print(bytes(\"{0}\".format(_emoji), 'ascii').decode('unicode-escape'), end=\"\")\n",
    "    print(\"\\n\")"
   ]
  }
 ],
 "metadata": {
  "kernelspec": {
   "display_name": "Python 3",
   "language": "python",
   "name": "python3"
  },
  "language_info": {
   "codemirror_mode": {
    "name": "ipython",
    "version": 3
   },
   "file_extension": ".py",
   "mimetype": "text/x-python",
   "name": "python",
   "nbconvert_exporter": "python",
   "pygments_lexer": "ipython3",
   "version": "3.4.3"
  }
 },
 "nbformat": 4,
 "nbformat_minor": 0
}
