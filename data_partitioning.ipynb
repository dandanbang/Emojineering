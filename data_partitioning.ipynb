{
 "cells": [
  {
   "cell_type": "markdown",
   "metadata": {},
   "source": [
    "#Data partitioning\n",
    "Spliting data into training and test set, that will be held out until the very end of the project.\n",
    "Split by 80% training, 20% test."
   ]
  },
  {
   "cell_type": "code",
   "execution_count": 1,
   "metadata": {
    "collapsed": true
   },
   "outputs": [],
   "source": [
    "import json\n",
    "import numpy as np\n",
    "import matplotlib.pyplot as plt\n",
    "%matplotlib inline\n",
    "\n",
    "import pandas as pd\n",
    "pd.options.display.max_colwidth = 140\n",
    "import nltk\n",
    "import re"
   ]
  },
  {
   "cell_type": "code",
   "execution_count": 10,
   "metadata": {
    "collapsed": false
   },
   "outputs": [],
   "source": [
    "with open('./data/tweets_1M.json','r') as f:\n",
    "    tweets_df = pd.DataFrame(json.load(f))\n",
    "\n",
    "train_percent = 0.8\n",
    "\n",
    "training_size = round(len(tweets_df) * train_percent)\n",
    "training_df = tweets_df.sample(training_size)\n",
    "training_df.reset_index(drop=True, inplace=True)\n",
    "\n",
    "test_size = len(tweets_df) - training_size\n",
    "test_df = tweets_df.sample(test_size)\n",
    "test_df.reset_index(drop=True, inplace=True)"
   ]
  },
  {
   "cell_type": "code",
   "execution_count": 14,
   "metadata": {
    "collapsed": true
   },
   "outputs": [],
   "source": [
    "training_df.to_json('./data/tweets_training.json', force_ascii=False)\n",
    "test_df.to_json('./data/tweets_test.json', force_ascii=False)"
   ]
  }
 ],
 "metadata": {
  "kernelspec": {
   "display_name": "Python 3",
   "language": "python",
   "name": "python3"
  },
  "language_info": {
   "codemirror_mode": {
    "name": "ipython",
    "version": 3
   },
   "file_extension": ".py",
   "mimetype": "text/x-python",
   "name": "python",
   "nbconvert_exporter": "python",
   "pygments_lexer": "ipython3",
   "version": "3.3.5"
  }
 },
 "nbformat": 4,
 "nbformat_minor": 0
}
